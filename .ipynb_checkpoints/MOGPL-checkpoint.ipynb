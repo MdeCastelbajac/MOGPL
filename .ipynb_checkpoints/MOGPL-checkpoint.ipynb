{
 "cells": [
  {
   "cell_type": "markdown",
   "metadata": {},
   "source": [
    "# Multigraphes orientés et pondérés par le temps"
   ]
  },
  {
   "cell_type": "code",
   "execution_count": 2,
   "metadata": {},
   "outputs": [],
   "source": [
    "import networkx as nx\n",
    "import matplotlib.pyplot as plt\n",
    "from collections import deque"
   ]
  },
  {
   "cell_type": "markdown",
   "metadata": {},
   "source": [
    "## Fonctions usuelles sur les graphes"
   ]
  },
  {
   "cell_type": "code",
   "execution_count": 3,
   "metadata": {},
   "outputs": [],
   "source": [
    "def createGraphFromFile(filename):\n",
    "    \"reads textfile and creates the corresponding directed multigraph\"\n",
    "\n",
    "    G = nx.MultiDiGraph()\n",
    "    \n",
    "    with open(filename, encoding='utf8') as f:\n",
    "        for line in f: \n",
    "            if line[0] == 's':\n",
    "                G.add_node(int(line[7]))\n",
    "            if line[0] == 'a':\n",
    "                u,v,t,l = line[7], line[9], line[11], line[13]\n",
    "                G.add_edge(int(u), int(v), date=int(t), duration=int(l))\n",
    "    return G"
   ]
  },
  {
   "cell_type": "code",
   "execution_count": 4,
   "metadata": {},
   "outputs": [],
   "source": [
    "MG = createGraphFromFile(\"graphe.txt\")"
   ]
  },
  {
   "cell_type": "code",
   "execution_count": 5,
   "metadata": {},
   "outputs": [
    {
     "name": "stdout",
     "output_type": "stream",
     "text": [
      "(1, 2, {'date': 1, 'duration': 1})\n",
      "(1, 2, {'date': 2, 'duration': 1})\n",
      "(2, 3, {'date': 5, 'duration': 1})\n"
     ]
    }
   ],
   "source": [
    "# Display agencies \n",
    "for k in MG.edges(data=True) :\n",
    "    print(k)"
   ]
  },
  {
   "cell_type": "code",
   "execution_count": 6,
   "metadata": {},
   "outputs": [],
   "source": [
    "def createGraphFromMultiGraph(MG):\n",
    "    G = nx.DiGraph()\n",
    "    for s in MG.nodes():\n",
    "        for u,v,attribute in MG.edges(data=True):\n",
    "            t = attribute['date']\n",
    "            l = attribute['duration']\n",
    "            if s == u:\n",
    "                uOut = (u, t)\n",
    "                vIn = (v, t+l)\n",
    "                if uOut not in G.nodes():\n",
    "                    G.add_node(uOut)\n",
    "                if vIn not in G.nodes():\n",
    "                    G.add_node(vIn)\n",
    "                G.add_edge(uOut, vIn, weight=l)\n",
    "                for i,j in G.nodes():\n",
    "                    if i == u:\n",
    "                        if j > t:\n",
    "                            G.add_edge(uOut, (i,j), weight=0)\n",
    "                        elif j < t:\n",
    "                            G.add_edge((i,j), uOut, weight=0)\n",
    "    \n",
    "    return G"
   ]
  },
  {
   "cell_type": "code",
   "execution_count": 7,
   "metadata": {},
   "outputs": [],
   "source": [
    "G = createGraphFromMultiGraph(MG)"
   ]
  },
  {
   "cell_type": "code",
   "execution_count": 8,
   "metadata": {
    "scrolled": false
   },
   "outputs": [
    {
     "name": "stdout",
     "output_type": "stream",
     "text": [
      "[((1, 1), (2, 2), {'weight': 1}), ((1, 1), (1, 2), {'weight': 0}), ((2, 2), (2, 5), {'weight': 0}), ((1, 2), (2, 3), {'weight': 1}), ((2, 3), (2, 5), {'weight': 0}), ((2, 5), (3, 6), {'weight': 1})]\n"
     ]
    }
   ],
   "source": [
    "print(G.edges(data=True))"
   ]
  },
  {
   "cell_type": "code",
   "execution_count": 9,
   "metadata": {},
   "outputs": [],
   "source": [
    "def createMultiGraph(vertexNumber, duration):\n",
    "    \"\"\"generate a directed multigraph given a number of vertices \n",
    "    and a duration with a fixed pattern\"\"\"\n",
    "    \n",
    "    G = nx.MultiDiGraph()\n",
    "        \n",
    "    # Vertices\n",
    "    for i in range(1, vertexNumber+1):\n",
    "        G.add_node(i)\n",
    "    \n",
    "    # Edges\n",
    "    date = 1\n",
    "    v = 1\n",
    "    while v != vertexNumber:\n",
    "        G.add_edge(v, v+1, date=date, duration=duration)\n",
    "        if v+2 <= vertexNumber:\n",
    "            G.add_edge(v, v+2, date=date+1, duration=duration)\n",
    "        date += 1\n",
    "        v += 1\n",
    "    \n",
    "    return G"
   ]
  },
  {
   "cell_type": "code",
   "execution_count": 10,
   "metadata": {},
   "outputs": [],
   "source": [
    "MG = createMultiGraph(5,1)"
   ]
  },
  {
   "cell_type": "code",
   "execution_count": 31,
   "metadata": {},
   "outputs": [
    {
     "name": "stdout",
     "output_type": "stream",
     "text": [
      "1\n",
      "2\n",
      "3\n",
      "4\n",
      "5\n",
      "(1, 2, {'date': 1, 'duration': 1})\n",
      "(1, 3, {'date': 2, 'duration': 1})\n",
      "(2, 3, {'date': 2, 'duration': 1})\n",
      "(2, 4, {'date': 3, 'duration': 1})\n",
      "(3, 4, {'date': 3, 'duration': 1})\n",
      "(3, 5, {'date': 4, 'duration': 1})\n",
      "(4, 5, {'date': 4, 'duration': 1})\n"
     ]
    }
   ],
   "source": [
    "for v in MG.nodes:\n",
    "    print(v)\n",
    "for e in MG.edges(data=True):\n",
    "    print(e)"
   ]
  },
  {
   "cell_type": "code",
   "execution_count": 33,
   "metadata": {},
   "outputs": [],
   "source": [
    "def findFirstDepartureInG(G, departure):\n",
    "    for v, date in G.nodes():\n",
    "        if v == departure:\n",
    "            dep = (v, date)\n",
    "            break\n",
    "    return dep"
   ]
  },
  {
   "cell_type": "markdown",
   "metadata": {},
   "source": [
    "## Algorithmes"
   ]
  },
  {
   "cell_type": "markdown",
   "metadata": {},
   "source": [
    "### I Chemin d'arrivée au plus tôt"
   ]
  },
  {
   "cell_type": "markdown",
   "metadata": {},
   "source": [
    "We will find the earliest arrival date possible using the transformed directed graph.  \n",
    "Then, we will use BFS or Breadth-First Method to try and find a path, if it exists, between the departure and this arrival."
   ]
  },
  {
   "cell_type": "code",
   "execution_count": 34,
   "metadata": {},
   "outputs": [],
   "source": [
    "def findEarliestArrivalDate(G, arrival, prevDate):\n",
    "    \"\"\"finds the earliest arrival date in G\"\"\"\n",
    "    minDate = float(\"Inf\")\n",
    "    \n",
    "    for v,date in G.nodes():\n",
    "        if v == arrival:\n",
    "            if date < minDate and date > prevDate:\n",
    "                minDate = date\n",
    "                \n",
    "    if minDate == float(\"Inf\"):\n",
    "        err = f\"arrival {arrival} is not in G or there is no path in G\"\n",
    "        print(err)\n",
    "        return -1\n",
    "        \n",
    "    arrival = (arrival, minDate)"
   ]
  },
  {
   "cell_type": "code",
   "execution_count": null,
   "metadata": {},
   "outputs": [],
   "source": [
    "def existsPath(G, departure, arrival, visited, path):\n",
    "    \"\"\"finds a path (if it exists) between departure and arrival.\"\"\"\n",
    "    \n",
    "    # Initialization\n",
    "    discovered[departure] = True\n",
    "    path.append(departure)\n",
    "\n",
    "    if departure == arrival:\n",
    "        return True\n",
    " \n",
    "    for i in G.neighbors(departure):\n",
    "        if not visited[i]:\n",
    "            if existsPath(G, i, arrival, visited, path):\n",
    "                return True\n",
    " \n",
    "    # if no path is found, pop the vertex out\n",
    "    path.pop()\n",
    "    \n",
    "    return False"
   ]
  },
  {
   "cell_type": "code",
   "execution_count": null,
   "metadata": {},
   "outputs": [],
   "source": [
    "def earliestArrivalPath(G, departure, arrival):\n",
    "    \n",
    "    dep = findFirstDepartureInG(G, departure)\n",
    "    arr = findEarliestArrivalDate(G, arrival, 0)\n",
    "    \n",
    "    visited = [False] * G.number_of_nodes\n",
    "    path = deque()\n",
    "    \n",
    "    while arr != -1:\n",
    "        if existsPath(G, dep, arr, visited, path):\n",
    "            return list(path)\n",
    "        # we try another greater arrival date\n",
    "        else arr = findEarliestArrivalDate(G, arrival, arr[1])\n",
    "    \n",
    "    # we found no path for every possible arrival date\n",
    "    return []"
   ]
  },
  {
   "cell_type": "markdown",
   "metadata": {},
   "source": [
    "### II Chemin de départ au plus tard"
   ]
  },
  {
   "cell_type": "markdown",
   "metadata": {},
   "source": [
    "### III Chemin le plus rapide"
   ]
  },
  {
   "cell_type": "markdown",
   "metadata": {},
   "source": [
    "### IV Plus court chemin\n",
    "\n",
    "*Note : On utilise Bellman-Ford, sans se préoccuper des cycles négatifs*"
   ]
  },
  {
   "cell_type": "code",
   "execution_count": 12,
   "metadata": {},
   "outputs": [],
   "source": [
    "def findDepartureAndArrivalInGraph(G, departure, arrival):\n",
    "    \"\"\"Iterates over vertices of the directed graph and gives the departure \n",
    "    with the shortest date and the arrival with the latest date\"\"\"\n",
    "    \n",
    "    dep = -1\n",
    "    arr = -1\n",
    "    for v,date in G.nodes():\n",
    "        if v == departure:\n",
    "            dep = (v,date)\n",
    "            break\n",
    "    for v,date in G.nodes():\n",
    "        if v == arrival:\n",
    "            arr = (v,date)\n",
    "    return dep, arr"
   ]
  },
  {
   "cell_type": "code",
   "execution_count": 15,
   "metadata": {},
   "outputs": [],
   "source": [
    "def shortestPath(G, departure, arrival):\n",
    "    \"\"\"returns the shortest path, meaning the path containing \n",
    "    the least amount of edges between 'departure' and 'arrival'.\"\"\"\n",
    "    \n",
    "    # Get the proper departure and arrival vertices in G \n",
    "    departure, arrival = findDepartureAndArrivalInGraph(G, departure, arrival)\n",
    "    \n",
    "    # error detection\n",
    "    if departure == -1 or arrival == -1:\n",
    "        err = f\"Either departure {departure} or arrival {arrival} is not in G\"\n",
    "        raise nx.NodeNotFound(err)\n",
    "    \n",
    "    v1,d1 = departure\n",
    "    v2,d2 = arrival\n",
    "    \n",
    "    if v1 == v2:\n",
    "        return (0, [departure])\n",
    "    \n",
    "    dist = dict()\n",
    "    for i in G.nodes():\n",
    "        dist[i] = (float(\"Inf\"), -1)\n",
    "    dist[departure] = (0,-1)\n",
    "    \n",
    "    # Get distances \n",
    "    for u,v,w in G.edges(data='weight'):\n",
    "        d1, p1 = dist[u]\n",
    "        d2, p2 = dist[v]\n",
    "        if d1 != float(\"Inf\") and d1+w < d2:\n",
    "            dist[v] = (d1+w, u)\n",
    "    \n",
    "    d,p = dist[arrival]\n",
    "    if d == float(\"Inf\"):\n",
    "        err = f\"There is no path between departure {departure} and arrival {arrival}\"\n",
    "        raise nx.PathNotFound(err)\n",
    "    \n",
    "    distance = d\n",
    "    # Get path\n",
    "    v = arrival\n",
    "    path = [v]\n",
    "    while v != departure:\n",
    "        d, p = dist[v] \n",
    "        path = [p] + path\n",
    "        v = p\n",
    "\n",
    "    return distance, path"
   ]
  },
  {
   "cell_type": "code",
   "execution_count": 26,
   "metadata": {},
   "outputs": [
    {
     "name": "stdout",
     "output_type": "stream",
     "text": [
      "(2, [(1, 1), (2, 2), (2, 5), (3, 6)])\n"
     ]
    }
   ],
   "source": [
    "# Test\n",
    "path = shortestPath(G, 1, 3)\n",
    "print(path)"
   ]
  },
  {
   "cell_type": "code",
   "execution_count": 29,
   "metadata": {},
   "outputs": [],
   "source": [
    "def retrievePathAndDurationInMG(distance, path):\n",
    "    \"\"\"returns path above in standard format : (path, start_date, end_date, duration, distance)\"\"\"\n",
    "    pathInMg = set()\n",
    "    dates = []\n",
    "    for v,date in path:\n",
    "        if v not in pathInMg:\n",
    "            pathInMg.add(v)\n",
    "            dates.append(date)\n",
    "    return (list(pathInMg), dates[0], dates[-1], dates[-1]-dates[0], distance)"
   ]
  },
  {
   "cell_type": "code",
   "execution_count": 30,
   "metadata": {},
   "outputs": [
    {
     "name": "stdout",
     "output_type": "stream",
     "text": [
      "([1, 2, 3], 1, 6, 5, 2)\n"
     ]
    }
   ],
   "source": [
    "# Test\n",
    "distance, p = path\n",
    "pathInMg = retrievePathAndDurationInMG(distance, p)\n",
    "print(pathInMg)"
   ]
  },
  {
   "cell_type": "markdown",
   "metadata": {},
   "source": [
    "## Tests"
   ]
  }
 ],
 "metadata": {
  "kernelspec": {
   "display_name": "Python 3",
   "language": "python",
   "name": "python3"
  },
  "language_info": {
   "codemirror_mode": {
    "name": "ipython",
    "version": 3
   },
   "file_extension": ".py",
   "mimetype": "text/x-python",
   "name": "python",
   "nbconvert_exporter": "python",
   "pygments_lexer": "ipython3",
   "version": "3.7.6"
  }
 },
 "nbformat": 4,
 "nbformat_minor": 4
}
