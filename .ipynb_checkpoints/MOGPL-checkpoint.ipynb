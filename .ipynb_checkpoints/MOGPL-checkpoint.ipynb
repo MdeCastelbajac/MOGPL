{
 "cells": [
  {
   "cell_type": "markdown",
   "metadata": {},
   "source": [
    "# Multigraphes orientés et pondérés par le temps"
   ]
  },
  {
   "cell_type": "markdown",
   "metadata": {},
   "source": [
    "On utilisera la bibliothèque networkx comme structure de donnée adaptée pour les graphes et multigraphes orientés et pondérés."
   ]
  },
  {
   "cell_type": "code",
   "execution_count": 125,
   "metadata": {},
   "outputs": [],
   "source": [
    "import time\n",
    "import random\n",
    "import networkx as nx\n",
    "import matplotlib.pyplot as plt\n",
    "from collections import deque"
   ]
  },
  {
   "cell_type": "markdown",
   "metadata": {},
   "source": [
    "## Fonctions usuelles sur les graphes"
   ]
  },
  {
   "cell_type": "code",
   "execution_count": 126,
   "metadata": {},
   "outputs": [],
   "source": [
    "def createGraphFromFile(filename):\n",
    "    \"reads textfile and creates the corresponding directed multigraph\"\n",
    "\n",
    "    G = nx.MultiDiGraph()\n",
    "    \n",
    "    with open(filename, encoding='utf8') as f:\n",
    "        for line in f: \n",
    "            if line[0] == 's':\n",
    "                G.add_node(int(line[7]))\n",
    "            if line[0] == 'a':\n",
    "                u,v,t,l = line[7], line[9], line[11], line[13]\n",
    "                G.add_edge(int(u), int(v), date=int(t), duration=int(l))\n",
    "    return G"
   ]
  },
  {
   "cell_type": "code",
   "execution_count": 127,
   "metadata": {},
   "outputs": [],
   "source": [
    "MG = createGraphFromFile(\"graphe.txt\")"
   ]
  },
  {
   "cell_type": "code",
   "execution_count": 128,
   "metadata": {},
   "outputs": [
    {
     "name": "stdout",
     "output_type": "stream",
     "text": [
      "(1, 2, {'date': 1, 'duration': 1})\n",
      "(1, 2, {'date': 2, 'duration': 1})\n",
      "(1, 3, {'date': 2, 'duration': 1})\n",
      "(1, 3, {'date': 4, 'duration': 1})\n",
      "(2, 4, {'date': 5, 'duration': 1})\n",
      "(3, 4, {'date': 6, 'duration': 1})\n",
      "(3, 5, {'date': 7, 'duration': 1})\n"
     ]
    }
   ],
   "source": [
    "# Display agencies \n",
    "for k in MG.edges(data=True) :\n",
    "    print(k)"
   ]
  },
  {
   "cell_type": "code",
   "execution_count": 129,
   "metadata": {},
   "outputs": [],
   "source": [
    "def createGraphFromMultiGraph(MG):\n",
    "    G = nx.DiGraph()\n",
    "    \n",
    "    # Adding vertices\n",
    "    for s in MG.nodes():\n",
    "        for u,v,attribute in MG.edges(data=True):\n",
    "            t = attribute['date']\n",
    "            l = attribute['duration']\n",
    "            if s == u:\n",
    "                uOut = (u, t)\n",
    "                vIn = (v, t+l)\n",
    "                if uOut not in G.nodes():\n",
    "                    G.add_node(uOut)\n",
    "                    G.add_edge(uOut, vIn, weight=l)\n",
    "                if vIn not in G.nodes():\n",
    "                    G.add_node(vIn)\n",
    "                \n",
    "    # Adding 0 weighted edges\n",
    "    verticesList = list(G.nodes)\n",
    "    verticesList = sorted(verticesList, key=lambda item: (item[0], item[1]))\n",
    "    for i in range(len(verticesList)-1):\n",
    "        if verticesList[i][0] == verticesList[i+1][0]:\n",
    "            G.add_edge(verticesList[i], verticesList[i+1], weight=0)\n",
    "    return G"
   ]
  },
  {
   "cell_type": "code",
   "execution_count": 130,
   "metadata": {},
   "outputs": [],
   "source": [
    "G = createGraphFromMultiGraph(MG)"
   ]
  },
  {
   "cell_type": "code",
   "execution_count": 131,
   "metadata": {
    "scrolled": true
   },
   "outputs": [
    {
     "name": "stdout",
     "output_type": "stream",
     "text": [
      "[((1, 1), (2, 2), {'weight': 1}), ((1, 1), (1, 2), {'weight': 0}), ((2, 2), (2, 3), {'weight': 0}), ((1, 2), (2, 3), {'weight': 1}), ((1, 2), (1, 4), {'weight': 0}), ((2, 3), (2, 5), {'weight': 0}), ((3, 3), (3, 5), {'weight': 0}), ((1, 4), (3, 5), {'weight': 1}), ((3, 5), (3, 6), {'weight': 0}), ((2, 5), (4, 6), {'weight': 1}), ((4, 6), (4, 7), {'weight': 0}), ((3, 6), (4, 7), {'weight': 1}), ((3, 6), (3, 7), {'weight': 0}), ((3, 7), (5, 8), {'weight': 1})]\n"
     ]
    }
   ],
   "source": [
    "print(G.edges(data=True))"
   ]
  },
  {
   "cell_type": "code",
   "execution_count": 132,
   "metadata": {},
   "outputs": [],
   "source": [
    "def createMultiGraph(vertexNumber, probability, duration):\n",
    "    \"\"\"generate a directed multigraph given a number of vertices \n",
    "    and probability of edge apparition and a fixed duration\"\"\"\n",
    "    \n",
    "    G = nx.MultiDiGraph()\n",
    "        \n",
    "    # Vertices\n",
    "    for i in range(1, vertexNumber+1):\n",
    "        G.add_node(i)\n",
    "    \n",
    "    for i in range(1, vertexNumber+1):\n",
    "        dateDep = i\n",
    "        for j in range(i+1, vertexNumber+1):\n",
    "            dateArr = dateDep + j \n",
    "            p = random.uniform(0, 1)\n",
    "            if p <= probability:\n",
    "                G.add_edge(i, j, date = dateArr, duration=duration)\n",
    "    return G"
   ]
  },
  {
   "cell_type": "code",
   "execution_count": 133,
   "metadata": {},
   "outputs": [],
   "source": [
    "MGAuto = createMultiGraph(5,1,1)"
   ]
  },
  {
   "cell_type": "code",
   "execution_count": 134,
   "metadata": {},
   "outputs": [
    {
     "name": "stdout",
     "output_type": "stream",
     "text": [
      "1\n",
      "2\n",
      "3\n",
      "4\n",
      "5\n",
      "(1, 2, {'date': 3, 'duration': 1})\n",
      "(1, 3, {'date': 4, 'duration': 1})\n",
      "(1, 4, {'date': 5, 'duration': 1})\n",
      "(1, 5, {'date': 6, 'duration': 1})\n",
      "(2, 3, {'date': 5, 'duration': 1})\n",
      "(2, 4, {'date': 6, 'duration': 1})\n",
      "(2, 5, {'date': 7, 'duration': 1})\n",
      "(3, 4, {'date': 7, 'duration': 1})\n",
      "(3, 5, {'date': 8, 'duration': 1})\n",
      "(4, 5, {'date': 9, 'duration': 1})\n"
     ]
    }
   ],
   "source": [
    "for v in MGAuto.nodes:\n",
    "    print(v)\n",
    "for e in MGAuto.edges(data=True):\n",
    "    print(e)"
   ]
  },
  {
   "cell_type": "markdown",
   "metadata": {},
   "source": [
    "Pour la suite, on va devoir accéder rapidement aux sommets selon les dates de départ ou d'arrivée, on propose ici de trier la liste (on le fera une seule fois par graphe) en un dictionnaire qui regroupe les sommets de issus du même sommet de MG triés par ordre croissant:"
   ]
  },
  {
   "cell_type": "code",
   "execution_count": 135,
   "metadata": {},
   "outputs": [],
   "source": [
    "def sortVertices(G):\n",
    "    vertices = dict()\n",
    "    for v,t in G.nodes():\n",
    "        if v not in vertices:\n",
    "            vertices[v] = [(v,t)]\n",
    "        else:\n",
    "            vertices[v].append((v,t))\n",
    "    for v in vertices:\n",
    "        vertices[v].sort(key=lambda x:x[1])\n",
    "    return vertices"
   ]
  },
  {
   "cell_type": "code",
   "execution_count": 136,
   "metadata": {},
   "outputs": [
    {
     "name": "stdout",
     "output_type": "stream",
     "text": [
      "{1: [(1, 1), (1, 2), (1, 4)], 2: [(2, 2), (2, 3), (2, 5)], 3: [(3, 3), (3, 5), (3, 6), (3, 7)], 4: [(4, 6), (4, 7)], 5: [(5, 8)]}\n"
     ]
    }
   ],
   "source": [
    "vertices = sortVertices(G)\n",
    "print(vertices)"
   ]
  },
  {
   "cell_type": "markdown",
   "metadata": {},
   "source": [
    "## Algorithmes"
   ]
  },
  {
   "cell_type": "markdown",
   "metadata": {},
   "source": [
    "On testera la validité de nos algorithmes sur l'instance fournie par le fichier qui correspond au multigraphe fourni dans l'énoncé et généré ci-dessus."
   ]
  },
  {
   "cell_type": "markdown",
   "metadata": {},
   "source": [
    "![graphe de test](./graphe.jpg)"
   ]
  },
  {
   "cell_type": "markdown",
   "metadata": {},
   "source": [
    "### I Chemin d'arrivée au plus tôt"
   ]
  },
  {
   "cell_type": "markdown",
   "metadata": {},
   "source": [
    "Le but est ici de chercher un chemin partant d'un des sommets de départ (par défaut, celui ayant la plus petite date de départ, il est relié à tous les autres) et le reliant au sommet d'arrivé ayant la plus petite date.\n",
    "Pour éviter de parcourir plusieurs fois le graphe, on notera tous les sommets correspondant au sommet d'arrivée parcourus et on prendra le meilleur, s'il y en a au moins un.\n",
    "\n",
    "On utilisera le parcours en profondeur pour chercher un chemin, s'il existe, entre le sommet de départ et le sommet d'arrivée."
   ]
  },
  {
   "cell_type": "code",
   "execution_count": 137,
   "metadata": {},
   "outputs": [],
   "source": [
    "def backwardBfs(G, arrival):\n",
    "    reach = deque()\n",
    "    reach.append(arrival)\n",
    "    visited = set()\n",
    "    visited.add(arrival)\n",
    "    successors = dict()\n",
    "    successors[arrival] = (-1,-1)\n",
    "    \n",
    "    while reach:\n",
    "        arrival = reach.pop()\n",
    "        for v in G.predecessors(arrival):\n",
    "            if (v) not in visited:\n",
    "                visited.add(v)\n",
    "                successors[v] = arrival\n",
    "                reach.append(v)\n",
    "    return successors"
   ]
  },
  {
   "cell_type": "code",
   "execution_count": 138,
   "metadata": {},
   "outputs": [],
   "source": [
    "def backwardBuildPath(successors, v, arrival):\n",
    "    path = [v]\n",
    "    a,t = successors[v]\n",
    "    if a == -1:\n",
    "        return ([v[0], v[0]], v[1], arrival[1])\n",
    "    \n",
    "    while a != arrival[0] and a != -1:\n",
    "        path += [(a,t)] \n",
    "        a,t = successors[(a,t)]\n",
    "    path += [(a,t)]\n",
    "    path = list(set([u[0] for u in path]))\n",
    "    return (path, v[1], arrival[1])"
   ]
  },
  {
   "cell_type": "code",
   "execution_count": 139,
   "metadata": {},
   "outputs": [],
   "source": [
    "def earliestArrivalPath(G, departure, arrival, vertices):\n",
    "    i = 0\n",
    "    while i < len(vertices[arrival]):\n",
    "        arr = vertices[arrival][i]\n",
    "        successors = backwardBfs(G, arr)\n",
    "        for v in vertices[departure]:\n",
    "            if v in successors:\n",
    "                return backwardBuildPath(successors, v,arr)\n",
    "        i+=1\n",
    "    # We found no path\n",
    "    return None"
   ]
  },
  {
   "cell_type": "code",
   "execution_count": 210,
   "metadata": {
    "scrolled": false
   },
   "outputs": [
    {
     "name": "stdout",
     "output_type": "stream",
     "text": [
      "([1, 2], 1, 2)\n",
      "([1, 2, 4], 1, 6)\n",
      "([1, 1], 1, 1)\n",
      "None\n",
      "([3, 5], 3, 8)\n"
     ]
    }
   ],
   "source": [
    "# Test\n",
    "print(earliestArrivalPath(G,1,2, vertices))\n",
    "print(earliestArrivalPath(G,1,4, vertices))\n",
    "print(earliestArrivalPath(G,1,1, vertices))\n",
    "print(earliestArrivalPath(G,2,5, vertices))\n",
    "print(earliestArrivalPath(G,3,5, vertices))"
   ]
  },
  {
   "cell_type": "markdown",
   "metadata": {},
   "source": [
    "Les résultats se lisent de la façon suivante :  \n",
    "* Le chemin d'arrivée au plus tôt de 1 à 2 commence à la date 1, finit à la date 2, a donc une durée 1 et une distance de 1 \n",
    "* Le chemin d'arrivée au plus tôt de 1 à 4 commence à la date 1, finit à la date 6, a une durée de 5 et a une distance de 3. \n",
    "* Si le tuple retourné contient des -1, alors il n'existe pas de chemin"
   ]
  },
  {
   "cell_type": "markdown",
   "metadata": {},
   "source": [
    "### II Chemin de départ au plus tard"
   ]
  },
  {
   "cell_type": "markdown",
   "metadata": {},
   "source": [
    "On prend le dernier sommet de départ, et on parcours le graphe :\n",
    "Soit on trouve un des sommets d'arrivée avant la date limite\n",
    "Soit on régresse dans les sommets de départs et on recommence"
   ]
  },
  {
   "cell_type": "code",
   "execution_count": 141,
   "metadata": {},
   "outputs": [],
   "source": [
    "def bfs(G, departure):\n",
    "    reach = deque()\n",
    "    reach.append(departure)\n",
    "    visited = set()\n",
    "    visited.add(departure)\n",
    "    predecessors = dict()\n",
    "    predecessors[departure] = (-1,-1)\n",
    "    \n",
    "    while reach:\n",
    "        departure = reach.pop()\n",
    "        for v in G.successors(departure):\n",
    "            if (v) not in visited:\n",
    "                visited.add(v)\n",
    "                predecessors[v] = departure\n",
    "                reach.append(v)\n",
    "    return predecessors"
   ]
  },
  {
   "cell_type": "code",
   "execution_count": 142,
   "metadata": {},
   "outputs": [],
   "source": [
    "def buildPath(predecessors, v, dep):\n",
    "    path = [v]\n",
    "    a,t = predecessors[v]\n",
    "    if a == -1:\n",
    "        return ([dep[0], dep[0]], dep[1], v[1])\n",
    "    \n",
    "    while a != dep[0] and a != -1:\n",
    "        path = [(a,t)] + path\n",
    "        a,t = predecessors[(a,t)]\n",
    "    path = [(a,t)] + path\n",
    "    path = list(set([u[0] for u in path]))\n",
    "    return (path, dep[1], v[1])"
   ]
  },
  {
   "cell_type": "code",
   "execution_count": 143,
   "metadata": {},
   "outputs": [],
   "source": [
    "def latestDeparturePath(G, departure, arrival, vertices, arrivalDate):\n",
    "    i = 1\n",
    "    while i <= len(vertices[departure]):\n",
    "        dep = vertices[departure][-i]\n",
    "        predecessors = bfs(G, dep)\n",
    "        for v in vertices[arrival]:\n",
    "            \n",
    "            if v in predecessors and v[1] < arrivalDate:\n",
    "                return buildPath(predecessors, v, dep)\n",
    "        i+=1\n",
    "    # We found no path\n",
    "    return None"
   ]
  },
  {
   "cell_type": "code",
   "execution_count": 144,
   "metadata": {
    "scrolled": true
   },
   "outputs": [
    {
     "name": "stdout",
     "output_type": "stream",
     "text": [
      "([1, 2], 2, 3)\n",
      "([1, 2], 1, 2)\n",
      "([1, 3, 4], 4, 7)\n",
      "([1, 2, 4], 2, 6)\n"
     ]
    }
   ],
   "source": [
    "# Test\n",
    "print(latestDeparturePath(G,1,2,vertices,4))\n",
    "print(latestDeparturePath(G,1,2,vertices,3))\n",
    "print(latestDeparturePath(G,1,4,vertices,8))\n",
    "print(latestDeparturePath(G,1,4,vertices,7))"
   ]
  },
  {
   "cell_type": "markdown",
   "metadata": {},
   "source": [
    "### III Chemin le plus rapide"
   ]
  },
  {
   "cell_type": "markdown",
   "metadata": {},
   "source": [
    "Par définition, le chemin le plus rapide est une combinaison de contraintes des deux chemins précédents. On construit pour aller vite la liste triée par ordre croissant des couples de sommets de départ et d'arrivée selon la durée qui les sépare. "
   ]
  },
  {
   "cell_type": "code",
   "execution_count": 145,
   "metadata": {},
   "outputs": [],
   "source": [
    "def shortestPathVertices(G, departure, arrival):\n",
    "    \"returns a sorted list of best couples of vertices for shortest path\"\n",
    "    verticesCouples = []\n",
    "    for v,t in G.nodes():\n",
    "        if v == departure:\n",
    "            for u,d in G.nodes():\n",
    "                if u == arrival and d-t >= 0:\n",
    "                    verticesCouples.append(((v,t), (u,d), d-t))\n",
    "    verticesCouples.sort(key=lambda x:x[-1])\n",
    "    return verticesCouples"
   ]
  },
  {
   "cell_type": "code",
   "execution_count": 146,
   "metadata": {},
   "outputs": [],
   "source": [
    "def fastestPath(G, departure, arrival):\n",
    "    \n",
    "    verticesCouples = shortestPathVertices(G, departure, arrival)\n",
    "    for v,u,d in verticesCouples:   \n",
    "        predecessors = bfs(G, v)\n",
    "        if u in predecessors:\n",
    "            return buildPath(predecessors, u, v)\n",
    "    # We found no path\n",
    "    return None"
   ]
  },
  {
   "cell_type": "code",
   "execution_count": 147,
   "metadata": {
    "scrolled": false
   },
   "outputs": [
    {
     "name": "stdout",
     "output_type": "stream",
     "text": [
      "([1, 2], 1, 2)\n",
      "([1, 3, 4], 4, 7)\n",
      "([1, 1], 1, 1)\n"
     ]
    }
   ],
   "source": [
    "print(fastestPath(G,1,2))\n",
    "print(fastestPath(G,1,4))\n",
    "print(fastestPath(G,1,1))"
   ]
  },
  {
   "cell_type": "markdown",
   "metadata": {},
   "source": [
    "### IV Plus court chemin\n",
    "*On utilise Dijkstra*"
   ]
  },
  {
   "cell_type": "code",
   "execution_count": 148,
   "metadata": {},
   "outputs": [],
   "source": [
    "def buildPathDijkstra(distance, path):\n",
    "    limit = len(path)\n",
    "    for i in range(1, len(path)):\n",
    "        if path[-i][0] == path[-(i+1)][0]:\n",
    "            limit -= 1\n",
    "        else:\n",
    "            break\n",
    "        \n",
    "    finalPath = list(set([v[0] for v in path]))\n",
    "    return (finalPath, path[0][1], path[limit-1][1])"
   ]
  },
  {
   "cell_type": "code",
   "execution_count": 151,
   "metadata": {},
   "outputs": [],
   "source": [
    "def shortestPath(G, departure, arrival, vertices):\n",
    "    \n",
    "    \n",
    "    # Get the proper departure and arrival vertices in G \n",
    "    departure=vertices[departure][0]\n",
    "    arrival=vertices[arrival][-1]\n",
    "    \n",
    "    # error detection\n",
    "    if departure == -1 or arrival == -1:\n",
    "        err = f\"Either departure {departure} or arrival {arrival} is not in G\"\n",
    "        raise nx.NodeNotFound(err)\n",
    "    \n",
    "    v1,d1 = departure\n",
    "    v2,d2 = arrival\n",
    "\n",
    "    if v1 == v2:\n",
    "        return (buildPathDijkstra(0, [departure]))\n",
    "    \n",
    "    dist = dict()\n",
    "    for i in G.nodes():\n",
    "        dist[i] = (float(\"Inf\"), -1)\n",
    "    dist[departure] = (0,-1)\n",
    "    \n",
    "    # Get distances \n",
    "    for u,v,w in G.edges(data='weight'):\n",
    "        d1, p1 = dist[u]\n",
    "        d2, p2 = dist[v]\n",
    "        if d1 != float(\"Inf\") and d1+w < d2:\n",
    "            dist[v] = (d1+w, u)\n",
    "    \n",
    "    d,p = dist[arrival]\n",
    "    if d == float(\"Inf\"):\n",
    "        return None\n",
    "    \n",
    "    distance = d\n",
    "    # Get path\n",
    "    v = arrival\n",
    "    path = [v]\n",
    "    while v != departure:\n",
    "        d, p = dist[v] \n",
    "        path = [p] + path\n",
    "        v = p\n",
    "        \n",
    "    return buildPathDijkstra(distance, path)"
   ]
  },
  {
   "cell_type": "code",
   "execution_count": 152,
   "metadata": {},
   "outputs": [
    {
     "name": "stdout",
     "output_type": "stream",
     "text": [
      "([1, 2, 4], 1, 6)\n"
     ]
    }
   ],
   "source": [
    "# Tests\n",
    "print(shortestPath(G, 1, 4, vertices))"
   ]
  },
  {
   "cell_type": "markdown",
   "metadata": {},
   "source": [
    "## Tests"
   ]
  },
  {
   "cell_type": "markdown",
   "metadata": {},
   "source": [
    "##### Temps d'exécution en fonction du nombre de sommets"
   ]
  },
  {
   "cell_type": "markdown",
   "metadata": {},
   "source": [
    "On fixe la probabilité d'apparition d'une arète à 0.5  \n",
    "Et pour n s'incrémentant, on crée un multigraphe et on applique les quatre algorithmes pour obtenir leur temps d'exécution. "
   ]
  },
  {
   "cell_type": "code",
   "execution_count": 196,
   "metadata": {},
   "outputs": [],
   "source": [
    "# fixed parameters\n",
    "p = 0.8\n",
    "l = 1\n",
    "n = 100\n",
    "\n",
    "resultTime1 = [0] * (n//5)\n",
    "resultTime2 = [0] * (n//5)\n",
    "resultTime3 = [0] * (n//5)\n",
    "resultTime4 = [0] * (n//5)\n",
    "verticeNumber = [0] * (n//5)"
   ]
  },
  {
   "cell_type": "code",
   "execution_count": 211,
   "metadata": {},
   "outputs": [
    {
     "name": "stdout",
     "output_type": "stream",
     "text": [
      "10\n",
      "20\n",
      "30\n",
      "40\n",
      "50\n",
      "60\n",
      "70\n",
      "80\n",
      "90\n",
      "100\n",
      "110\n",
      "120\n",
      "130\n",
      "140\n",
      "150\n",
      "160\n",
      "170\n",
      "180\n",
      "190\n",
      "200\n"
     ]
    }
   ],
   "source": [
    "# Harvest results\n",
    "for i in range(n//10,n*2+1,n//10):\n",
    "    print(i)\n",
    "    verticeNumber[i//10 - 1] = i\n",
    "    # MG & G generation\n",
    "    MGtest = createMultiGraph(i, p, l)\n",
    "    Gtest = createGraphFromMultiGraph(MGtest) \n",
    "    nodes = list(MG.nodes())\n",
    "    \n",
    "    # Algorithms\n",
    "    t0 = time.time()\n",
    "    sortedVertices = sortVertices(Gtest)\n",
    "    sortingTime = time.time() - t0\n",
    "    # 1\n",
    "    t1 = time.time()\n",
    "    earliestArrivalPath(Gtest, nodes[0], nodes[-1], sortedVertices)\n",
    "    resultTime1[i//10-1] = time.time() - t1  + sortingTime\n",
    "    \n",
    "    # 2\n",
    "    t2 = time.time()\n",
    "    latestDeparturePath(Gtest, nodes[0], nodes[-1], sortedVertices, i*10)\n",
    "    resultTime2[i//10-1] = time.time() - t2  + sortingTime\n",
    "    \n",
    "    # 3\n",
    "    t3 = time.time()\n",
    "    fastestPath(Gtest, nodes[0], nodes[-1])\n",
    "    resultTime3[i//10-1] = time.time() - t3  + sortingTime\n",
    "    # 4\n",
    "    t4 = time.time()\n",
    "    shortestPath(Gtest, nodes[0], nodes[-1], sortedVertices)\n",
    "    resultTime4[i//10-1] = time.time() - t4 + sortingTime"
   ]
  },
  {
   "cell_type": "code",
   "execution_count": 212,
   "metadata": {},
   "outputs": [
    {
     "data": {
      "image/png": "[encoded data removed]",
      "text/plain": [
       "<Figure size 432x288 with 1 Axes>"
      ]
     },
     "metadata": {
      "needs_background": "light"
     },
     "output_type": "display_data"
    },
    {
     "data": {
      "image/png": "[encoded data removed]",
      "text/plain": [
       "<Figure size 432x288 with 1 Axes>"
      ]
     },
     "metadata": {
      "needs_background": "light"
     },
     "output_type": "display_data"
    }
   ],
   "source": [
    "# Display results\n",
    "\n",
    "fig, ax = plt.subplots()\n",
    "l1 = ax.plot(verticeNumber, resultTime1, linewidth=2.0, label='Earliest Arrival')\n",
    "l2 = ax.plot(verticeNumber, resultTime2, linewidth=2.0, label='Latest Departure')\n",
    "l3 = ax.plot(verticeNumber, resultTime3, linewidth=2.0, label='Fastest')\n",
    "l4 = ax.plot(verticeNumber, resultTime4, linewidth=2.0, label='Shortest')\n",
    "legend = ax.legend(loc='upper left', shadow=True)\n",
    "plt.show()\n",
    "\n",
    "\n",
    "fig, ax = plt.subplots()\n",
    "l1 = ax.plot(verticeNumber, resultTime1, linewidth=2.0, label='Earliest Arrival')\n",
    "l4 = ax.plot(verticeNumber, resultTime4, linewidth=2.0, label='Shortest')\n",
    "legend = ax.legend(loc='upper left', shadow=True)\n",
    "plt.show()"
   ]
  },
  {
   "cell_type": "markdown",
   "metadata": {},
   "source": [
    "##### Temps d'exécution en fonction de la probabilité d'apparition des arètes"
   ]
  },
  {
   "cell_type": "code",
   "execution_count": null,
   "metadata": {},
   "outputs": [],
   "source": []
  }
 ],
 "metadata": {
  "kernelspec": {
   "display_name": "Python 3",
   "language": "python",
   "name": "python3"
  },
  "language_info": {
   "codemirror_mode": {
    "name": "ipython",
    "version": 3
   },
   "file_extension": ".py",
   "mimetype": "text/x-python",
   "name": "python",
   "nbconvert_exporter": "python",
   "pygments_lexer": "ipython3",
   "version": "3.7.6"
  }
 },
 "nbformat": 4,
 "nbformat_minor": 4
}
