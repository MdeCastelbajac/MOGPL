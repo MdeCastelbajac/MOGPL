{
 "cells": [
  {
   "cell_type": "markdown",
   "metadata": {},
   "source": [
    "# Multigraphes orientés et pondérés par le temps"
   ]
  },
  {
   "cell_type": "markdown",
   "metadata": {},
   "source": [
    "On utilisera la bibliothèque networkx comme structure de donnée adaptée pour les graphes et multigraphes orientés et pondérés."
   ]
  },
  {
   "cell_type": "code",
   "execution_count": 33,
   "metadata": {},
   "outputs": [],
   "source": [
    "import time\n",
    "import numpy as np\n",
    "import random\n",
    "import networkx as nx\n",
    "import matplotlib.pyplot as plt\n",
    "from collections import deque"
   ]
  },
  {
   "cell_type": "markdown",
   "metadata": {},
   "source": [
    "## Fonctions usuelles sur les graphes"
   ]
  },
  {
   "cell_type": "code",
   "execution_count": 3,
   "metadata": {},
   "outputs": [],
   "source": [
    "def createGraphFromFile(filename):\n",
    "    \"reads textfile and creates the corresponding directed multigraph\"\n",
    "\n",
    "    G = nx.MultiDiGraph()\n",
    "    \n",
    "    with open(filename, encoding='utf8') as f:\n",
    "        for line in f: \n",
    "            if line[0] == 's':\n",
    "                G.add_node(int(line[7]))\n",
    "            if line[0] == 'a':\n",
    "                u,v,t,l = line[7], line[9], line[11], line[13]\n",
    "                G.add_edge(int(u), int(v), date=int(t), duration=int(l))\n",
    "    return G"
   ]
  },
  {
   "cell_type": "code",
   "execution_count": 4,
   "metadata": {},
   "outputs": [],
   "source": [
    "MG = createGraphFromFile(\"graphe.txt\")"
   ]
  },
  {
   "cell_type": "code",
   "execution_count": 5,
   "metadata": {},
   "outputs": [
    {
     "name": "stdout",
     "output_type": "stream",
     "text": [
      "(1, 2, {'date': 1, 'duration': 1})\n",
      "(1, 2, {'date': 2, 'duration': 1})\n",
      "(1, 3, {'date': 2, 'duration': 1})\n",
      "(1, 3, {'date': 4, 'duration': 1})\n",
      "(2, 4, {'date': 5, 'duration': 1})\n",
      "(3, 4, {'date': 6, 'duration': 1})\n",
      "(3, 5, {'date': 7, 'duration': 1})\n"
     ]
    }
   ],
   "source": [
    "# Display agencies \n",
    "for k in MG.edges(data=True) :\n",
    "    print(k)"
   ]
  },
  {
   "cell_type": "code",
   "execution_count": 6,
   "metadata": {},
   "outputs": [],
   "source": [
    "def createGraphFromMultiGraph(MG):\n",
    "    G = nx.DiGraph()\n",
    "    \n",
    "    # Adding vertices\n",
    "    for s in MG.nodes():\n",
    "        for u,v,attribute in MG.edges(data=True):\n",
    "            t = attribute['date']\n",
    "            l = attribute['duration']\n",
    "            if s == u:\n",
    "                uOut = (u, t)\n",
    "                vIn = (v, t+l)\n",
    "                if uOut not in G.nodes():\n",
    "                    G.add_node(uOut)\n",
    "                    G.add_edge(uOut, vIn, weight=l)\n",
    "                if vIn not in G.nodes():\n",
    "                    G.add_node(vIn)\n",
    "                \n",
    "    # Adding 0 weighted edges\n",
    "    verticesList = list(G.nodes)\n",
    "    verticesList = sorted(verticesList, key=lambda item: (item[0], item[1]))\n",
    "    for i in range(len(verticesList)-1):\n",
    "        if verticesList[i][0] == verticesList[i+1][0]:\n",
    "            G.add_edge(verticesList[i], verticesList[i+1], weight=0)\n",
    "    return G"
   ]
  },
  {
   "cell_type": "code",
   "execution_count": 7,
   "metadata": {},
   "outputs": [],
   "source": [
    "G = createGraphFromMultiGraph(MG)"
   ]
  },
  {
   "cell_type": "code",
   "execution_count": 8,
   "metadata": {
    "scrolled": true
   },
   "outputs": [
    {
     "name": "stdout",
     "output_type": "stream",
     "text": [
      "[((1, 1), (2, 2), {'weight': 1}), ((1, 1), (1, 2), {'weight': 0}), ((2, 2), (2, 3), {'weight': 0}), ((1, 2), (2, 3), {'weight': 1}), ((1, 2), (1, 4), {'weight': 0}), ((2, 3), (2, 5), {'weight': 0}), ((3, 3), (3, 5), {'weight': 0}), ((1, 4), (3, 5), {'weight': 1}), ((3, 5), (3, 6), {'weight': 0}), ((2, 5), (4, 6), {'weight': 1}), ((4, 6), (4, 7), {'weight': 0}), ((3, 6), (4, 7), {'weight': 1}), ((3, 6), (3, 7), {'weight': 0}), ((3, 7), (5, 8), {'weight': 1})]\n"
     ]
    }
   ],
   "source": [
    "print(G.edges(data=True))"
   ]
  },
  {
   "cell_type": "code",
   "execution_count": 61,
   "metadata": {},
   "outputs": [],
   "source": [
    "def createMultiGraph(vertexNumber, probability, duration):\n",
    "    \"\"\"generate a directed multigraph given a number of vertices \n",
    "    and probability of edge apparition and a fixed duration\"\"\"\n",
    "    \n",
    "    G = nx.MultiDiGraph()\n",
    "    \n",
    "    # Vertices\n",
    "    for i in range(1, vertexNumber+1):\n",
    "        G.add_node(i)\n",
    "    \n",
    "    for i in range(1, vertexNumber+1):\n",
    "        dateDep = i\n",
    "        for j in range(i+1, i+3):\n",
    "            if len(G.nodes()) <= j:\n",
    "                break\n",
    "            dateArr = dateDep + j \n",
    "            p = random.uniform(0, 1)\n",
    "            if p <= probability:\n",
    "                G.add_edge(i, j, date = dateArr, duration=duration)\n",
    "    return G"
   ]
  },
  {
   "cell_type": "code",
   "execution_count": 49,
   "metadata": {},
   "outputs": [
    {
     "name": "stdout",
     "output_type": "stream",
     "text": [
      "1\n",
      "2\n"
     ]
    }
   ],
   "source": [
    "MGAuto = createMultiGraph(2,1,1)"
   ]
  },
  {
   "cell_type": "code",
   "execution_count": 50,
   "metadata": {},
   "outputs": [
    {
     "name": "stdout",
     "output_type": "stream",
     "text": [
      "1\n",
      "2\n"
     ]
    }
   ],
   "source": [
    "for v in MGAuto.nodes:\n",
    "    print(v)\n",
    "for e in MGAuto.edges(data=True):\n",
    "    print(e)"
   ]
  },
  {
   "cell_type": "markdown",
   "metadata": {},
   "source": [
    "Pour la suite, on va devoir accéder rapidement aux sommets selon les dates de départ ou d'arrivée, on propose ici de trier la liste (on le fera une seule fois par graphe) en un dictionnaire qui regroupe les sommets de issus du même sommet de MG triés par ordre croissant:"
   ]
  },
  {
   "cell_type": "code",
   "execution_count": 13,
   "metadata": {},
   "outputs": [],
   "source": [
    "def sortVertices(G):\n",
    "    vertices = dict()\n",
    "    for v,t in G.nodes():\n",
    "        if v not in vertices:\n",
    "            vertices[v] = [(v,t)]\n",
    "        else:\n",
    "            vertices[v].append((v,t))\n",
    "    for v in vertices:\n",
    "        vertices[v].sort(key=lambda x:x[1])\n",
    "    return vertices"
   ]
  },
  {
   "cell_type": "code",
   "execution_count": 14,
   "metadata": {},
   "outputs": [
    {
     "name": "stdout",
     "output_type": "stream",
     "text": [
      "{1: [(1, 1), (1, 2), (1, 4)], 2: [(2, 2), (2, 3), (2, 5)], 3: [(3, 3), (3, 5), (3, 6), (3, 7)], 4: [(4, 6), (4, 7)], 5: [(5, 8)]}\n"
     ]
    }
   ],
   "source": [
    "vertices = sortVertices(G)\n",
    "print(vertices)"
   ]
  },
  {
   "cell_type": "markdown",
   "metadata": {},
   "source": [
    "## Algorithmes"
   ]
  },
  {
   "cell_type": "markdown",
   "metadata": {},
   "source": [
    "On testera la validité de nos algorithmes sur l'instance fournie par le fichier qui correspond au multigraphe fourni dans l'énoncé et généré ci-dessus."
   ]
  },
  {
   "cell_type": "markdown",
   "metadata": {},
   "source": [
    "![graphe de test](./graphe.jpg)"
   ]
  },
  {
   "cell_type": "markdown",
   "metadata": {},
   "source": [
    "### I Chemin d'arrivée au plus tôt"
   ]
  },
  {
   "cell_type": "markdown",
   "metadata": {},
   "source": [
    "Le but est ici de chercher un chemin partant d'un des sommets de départ (par défaut, celui ayant la plus petite date de départ, il est relié à tous les autres) et le reliant au sommet d'arrivé ayant la plus petite date.\n",
    "Pour éviter de parcourir plusieurs fois le graphe, on notera tous les sommets correspondant au sommet d'arrivée parcourus et on prendra le meilleur, s'il y en a au moins un.\n",
    "\n",
    "On utilisera le parcours en profondeur pour chercher un chemin, s'il existe, entre le sommet de départ et le sommet d'arrivée."
   ]
  },
  {
   "cell_type": "code",
   "execution_count": 17,
   "metadata": {},
   "outputs": [],
   "source": [
    "def backwardBfs(G, arrival):\n",
    "    reach = deque()\n",
    "    reach.append(arrival)\n",
    "    visited = set()\n",
    "    visited.add(arrival)\n",
    "    successors = dict()\n",
    "    successors[arrival] = (-1,-1)\n",
    "    \n",
    "    while reach:\n",
    "        arrival = reach.pop()\n",
    "        for v in G.predecessors(arrival):\n",
    "            if (v) not in visited:\n",
    "                visited.add(v)\n",
    "                successors[v] = arrival\n",
    "                reach.append(v)\n",
    "    return successors"
   ]
  },
  {
   "cell_type": "code",
   "execution_count": 18,
   "metadata": {},
   "outputs": [],
   "source": [
    "def backwardBuildPath(successors, v, arrival):\n",
    "    path = [v]\n",
    "    a,t = successors[v]\n",
    "    if a == -1:\n",
    "        return ([v[0], v[0]], v[1], arrival[1])\n",
    "    \n",
    "    while a != arrival[0] and a != -1:\n",
    "        path += [(a,t)] \n",
    "        a,t = successors[(a,t)]\n",
    "    path += [(a,t)]\n",
    "    path = list(set([u[0] for u in path]))\n",
    "    return (path, v[1], arrival[1])"
   ]
  },
  {
   "cell_type": "code",
   "execution_count": 19,
   "metadata": {},
   "outputs": [],
   "source": [
    "def earliestArrivalPath(G, departure, arrival, vertices):\n",
    "    G = G.copy()\n",
    "    i = 0\n",
    "    while i < len(vertices[arrival]):\n",
    "        arr = vertices[arrival][i]\n",
    "        successors = backwardBfs(G, arr)\n",
    "        for v in vertices[departure]:\n",
    "            if v in successors:\n",
    "                return backwardBuildPath(successors, v,arr)\n",
    "        i+=1\n",
    "        for v in successors:\n",
    "            if v[0] != departure and v[0] != arrival:\n",
    "                G.remove_node(v)\n",
    "    # We found no path\n",
    "    return None"
   ]
  },
  {
   "cell_type": "code",
   "execution_count": 20,
   "metadata": {
    "scrolled": false
   },
   "outputs": [
    {
     "name": "stdout",
     "output_type": "stream",
     "text": [
      "([1, 2], 1, 2)\n",
      "([1, 2, 4], 1, 6)\n",
      "([1, 1], 1, 1)\n",
      "None\n",
      "([3, 5], 3, 8)\n"
     ]
    }
   ],
   "source": [
    "# Test\n",
    "print(earliestArrivalPath(G,1,2, vertices))\n",
    "print(earliestArrivalPath(G,1,4, vertices))\n",
    "print(earliestArrivalPath(G,1,1, vertices))\n",
    "print(earliestArrivalPath(G,2,5, vertices))\n",
    "print(earliestArrivalPath(G,3,5, vertices))"
   ]
  },
  {
   "cell_type": "markdown",
   "metadata": {},
   "source": [
    "Les résultats se lisent de la façon suivante :  \n",
    "* Le chemin d'arrivée au plus tôt de 1 à 2 commence à la date 1, finit à la date 2, a donc une durée 1 et une distance de 1 \n",
    "* Le chemin d'arrivée au plus tôt de 1 à 4 commence à la date 1, finit à la date 6, a une durée de 5 et a une distance de 3. \n",
    "* Si le tuple retourné contient des -1, alors il n'existe pas de chemin"
   ]
  },
  {
   "cell_type": "markdown",
   "metadata": {},
   "source": [
    "### II Chemin de départ au plus tard"
   ]
  },
  {
   "cell_type": "markdown",
   "metadata": {},
   "source": [
    "On prend le dernier sommet de départ, et on parcours le graphe :\n",
    "Soit on trouve un des sommets d'arrivée avant la date limite\n",
    "Soit on régresse dans les sommets de départs et on recommence"
   ]
  },
  {
   "cell_type": "code",
   "execution_count": 21,
   "metadata": {},
   "outputs": [],
   "source": [
    "def bfs(G, departure):\n",
    "    reach = deque()\n",
    "    reach.append(departure)\n",
    "    visited = set()\n",
    "    visited.add(departure)\n",
    "    predecessors = dict()\n",
    "    predecessors[departure] = (-1,-1)\n",
    "    \n",
    "    while reach:\n",
    "        departure = reach.pop()\n",
    "        for v in G.successors(departure):\n",
    "            if (v) not in visited:\n",
    "                visited.add(v)\n",
    "                predecessors[v] = departure\n",
    "                reach.append(v)\n",
    "    return predecessors"
   ]
  },
  {
   "cell_type": "code",
   "execution_count": 22,
   "metadata": {},
   "outputs": [],
   "source": [
    "def buildPath(predecessors, v, dep):\n",
    "    path = [v]\n",
    "    a,t = predecessors[v]\n",
    "    if a == -1:\n",
    "        return ([dep[0], dep[0]], dep[1], v[1])\n",
    "    \n",
    "    while a != dep[0] and a != -1:\n",
    "        path = [(a,t)] + path\n",
    "        a,t = predecessors[(a,t)]\n",
    "    path = [(a,t)] + path\n",
    "    path = list(set([u[0] for u in path]))\n",
    "    return (path, dep[1], v[1])"
   ]
  },
  {
   "cell_type": "code",
   "execution_count": 24,
   "metadata": {},
   "outputs": [],
   "source": [
    "def latestDeparturePath(G, departure, arrival, vertices, arrivalDate):\n",
    "    G = G.copy()\n",
    "    i = 1\n",
    "    while i <= len(vertices[departure]):\n",
    "        dep = vertices[departure][-i]\n",
    "        predecessors = bfs(G, dep)\n",
    "        for v in vertices[arrival]:\n",
    "            \n",
    "            if v in predecessors and v[1] < arrivalDate:\n",
    "                return buildPath(predecessors, v, dep)\n",
    "        for v in predecessors:\n",
    "            if v[0] != departure and v[0] != arrival:\n",
    "                G.remove_node(v)\n",
    "            \n",
    "        i+=1\n",
    "    # We found no path\n",
    "    return None"
   ]
  },
  {
   "cell_type": "code",
   "execution_count": 25,
   "metadata": {
    "scrolled": true
   },
   "outputs": [
    {
     "name": "stdout",
     "output_type": "stream",
     "text": [
      "([1, 2], 2, 3)\n",
      "([1, 2], 1, 2)\n",
      "([1, 3, 4], 4, 7)\n",
      "([1, 2, 4], 2, 6)\n"
     ]
    }
   ],
   "source": [
    "# Test\n",
    "print(latestDeparturePath(G,1,2,vertices,4))\n",
    "print(latestDeparturePath(G,1,2,vertices,3))\n",
    "print(latestDeparturePath(G,1,4,vertices,8))\n",
    "print(latestDeparturePath(G,1,4,vertices,7))"
   ]
  },
  {
   "cell_type": "markdown",
   "metadata": {},
   "source": [
    "### III Chemin le plus rapide"
   ]
  },
  {
   "cell_type": "markdown",
   "metadata": {},
   "source": [
    "Par définition, le chemin le plus rapide est une combinaison de contraintes des deux chemins précédents. On construit pour aller vite la liste triée par ordre croissant des couples de sommets de départ et d'arrivée selon la durée qui les sépare. "
   ]
  },
  {
   "cell_type": "code",
   "execution_count": 26,
   "metadata": {},
   "outputs": [],
   "source": [
    "def shortestPathVertices(G, departure, arrival):\n",
    "    \"returns a sorted list of best couples of vertices for shortest path\"\n",
    "    verticesCouples = []\n",
    "    for v,t in G.nodes():\n",
    "        if v == departure:\n",
    "            for u,d in G.nodes():\n",
    "                if u == arrival and d-t >= 0:\n",
    "                    verticesCouples.append(((v,t), (u,d), d-t))\n",
    "    verticesCouples.sort(key=lambda x:x[-1])\n",
    "    return verticesCouples"
   ]
  },
  {
   "cell_type": "code",
   "execution_count": 27,
   "metadata": {},
   "outputs": [],
   "source": [
    "def fastestPath(G, departure, arrival):\n",
    "    G = G.copy()\n",
    "    verticesCouples = shortestPathVertices(G, departure, arrival)\n",
    "    for v,u,d in verticesCouples:   \n",
    "        predecessors = bfs(G, v)\n",
    "        if u in predecessors:\n",
    "            return buildPath(predecessors, u, v)\n",
    "        else:\n",
    "            for n in predecessors:\n",
    "                if n[0] != departure and n[0] != arrival:\n",
    "                    G.remove_node(n)\n",
    "    # We found no path\n",
    "    return None"
   ]
  },
  {
   "cell_type": "code",
   "execution_count": 28,
   "metadata": {
    "scrolled": false
   },
   "outputs": [
    {
     "name": "stdout",
     "output_type": "stream",
     "text": [
      "([1, 2], 1, 2)\n",
      "([1, 2, 4], 2, 6)\n",
      "([1, 1], 1, 1)\n"
     ]
    }
   ],
   "source": [
    "print(fastestPath(G,1,2))\n",
    "print(fastestPath(G,1,4))\n",
    "print(fastestPath(G,1,1))"
   ]
  },
  {
   "cell_type": "markdown",
   "metadata": {},
   "source": [
    "### IV Plus court chemin\n",
    "*On utilise Dijkstra*"
   ]
  },
  {
   "cell_type": "code",
   "execution_count": 29,
   "metadata": {},
   "outputs": [],
   "source": [
    "def buildPathDijkstra(distance, path):\n",
    "    limit = len(path)\n",
    "    for i in range(1, len(path)):\n",
    "        if path[-i][0] == path[-(i+1)][0]:\n",
    "            limit -= 1\n",
    "        else:\n",
    "            break\n",
    "        \n",
    "    finalPath = list(set([v[0] for v in path]))\n",
    "    return (finalPath, path[0][1], path[limit-1][1])"
   ]
  },
  {
   "cell_type": "code",
   "execution_count": 30,
   "metadata": {},
   "outputs": [],
   "source": [
    "def shortestPath(G, departure, arrival, vertices):\n",
    "    \n",
    "    \n",
    "    # Get the proper departure and arrival vertices in G \n",
    "    departure=vertices[departure][0]\n",
    "    arrival=vertices[arrival][-1]\n",
    "    \n",
    "    # error detection\n",
    "    if departure == -1 or arrival == -1:\n",
    "        err = f\"Either departure {departure} or arrival {arrival} is not in G\"\n",
    "        raise nx.NodeNotFound(err)\n",
    "    \n",
    "    v1,d1 = departure\n",
    "    v2,d2 = arrival\n",
    "\n",
    "    if v1 == v2:\n",
    "        return (buildPathDijkstra(0, [departure]))\n",
    "    \n",
    "    dist = dict()\n",
    "    for i in G.nodes():\n",
    "        dist[i] = (float(\"Inf\"), -1)\n",
    "    dist[departure] = (0,-1)\n",
    "    \n",
    "    # Get distances \n",
    "    for u,v,w in G.edges(data='weight'):\n",
    "        d1, p1 = dist[u]\n",
    "        d2, p2 = dist[v]\n",
    "        if d1 != float(\"Inf\") and d1+w < d2:\n",
    "            dist[v] = (d1+w, u)\n",
    "    \n",
    "    d,p = dist[arrival]\n",
    "    if d == float(\"Inf\"):\n",
    "        return None\n",
    "    \n",
    "    distance = d\n",
    "    # Get path\n",
    "    v = arrival\n",
    "    path = [v]\n",
    "    while v != departure:\n",
    "        d, p = dist[v] \n",
    "        path = [p] + path\n",
    "        v = p\n",
    "        \n",
    "    return buildPathDijkstra(distance, path)"
   ]
  },
  {
   "cell_type": "code",
   "execution_count": 31,
   "metadata": {},
   "outputs": [
    {
     "name": "stdout",
     "output_type": "stream",
     "text": [
      "([1, 2, 4], 1, 6)\n"
     ]
    }
   ],
   "source": [
    "# Tests\n",
    "print(shortestPath(G, 1, 4, vertices))"
   ]
  },
  {
   "cell_type": "markdown",
   "metadata": {},
   "source": [
    "## Tests"
   ]
  },
  {
   "cell_type": "markdown",
   "metadata": {},
   "source": [
    "##### Temps d'exécution en fonction du nombre de sommets"
   ]
  },
  {
   "cell_type": "markdown",
   "metadata": {},
   "source": [
    "On fixe la probabilité d'apparition des arcs à 1 pour s'assurer que le nombre d'arcs augmente linéairement en fonction du nombre de sommets.  \n",
    "Et pour n s'incrémentant, on crée un multigraphe et on applique les quatre algorithmes pour obtenir leur temps d'exécution. "
   ]
  },
  {
   "cell_type": "code",
   "execution_count": 147,
   "metadata": {},
   "outputs": [],
   "source": [
    "# fixed parameters\n",
    "p = 1\n",
    "l = 1\n",
    "n = 100\n",
    "repeat = 10\n",
    "\n",
    "resultTime1 = np.zeros(n)\n",
    "resultTime2 = np.zeros(n)\n",
    "resultTime3 = np.zeros(n)\n",
    "resultTime4 = np.zeros(n)\n",
    "verticeNumber = np.zeros(n)"
   ]
  },
  {
   "cell_type": "code",
   "execution_count": 148,
   "metadata": {
    "scrolled": false
   },
   "outputs": [
    {
     "name": "stdout",
     "output_type": "stream",
     "text": [
      "0\n",
      "1\n",
      "2\n",
      "3\n",
      "4\n",
      "5\n",
      "6\n",
      "7\n",
      "8\n",
      "9\n",
      "10\n",
      "11\n",
      "12\n",
      "13\n",
      "14\n",
      "15\n",
      "16\n",
      "17\n",
      "18\n",
      "19\n",
      "20\n",
      "21\n",
      "22\n",
      "23\n",
      "24\n",
      "25\n",
      "26\n",
      "27\n",
      "28\n",
      "29\n",
      "30\n",
      "31\n",
      "32\n",
      "33\n",
      "34\n",
      "35\n",
      "36\n",
      "37\n",
      "38\n",
      "39\n",
      "40\n",
      "41\n",
      "42\n",
      "43\n",
      "44\n",
      "45\n",
      "46\n",
      "47\n",
      "48\n",
      "49\n"
     ]
    }
   ],
   "source": [
    "# Harvest results\n",
    "for j in range(repeat):\n",
    "    for i in range(1,n+1,1):\n",
    "        verticeNumber[i-1] = i\n",
    "        # MG & G generation\n",
    "        MGtest = createMultiGraph(i, p, l)\n",
    "        Gtest = createGraphFromMultiGraph(MGtest) \n",
    "        nodes = list(MG.nodes())\n",
    "\n",
    "\n",
    "        # Algorithms\n",
    "        t0 = time.time()\n",
    "        sortedVertices = sortVertices(Gtest)\n",
    "        sortingTime = time.time() - t0\n",
    "\n",
    "        if sortedVertices == {}:\n",
    "            continue\n",
    "        # 1\n",
    "        t1 = time.time()\n",
    "        earliestArrivalPath(Gtest, sortedVertices[1][0][0], sortedVertices[i-1][0][0], sortedVertices)\n",
    "        resultTime1[i-1] += time.time() - t1  + sortingTime\n",
    "\n",
    "        # 2\n",
    "        t2 = time.time()\n",
    "        latestDeparturePath(Gtest,sortedVertices[1][0][0], sortedVertices[i-1][0][0], sortedVertices, i*10)\n",
    "        resultTime2[i-1] += time.time() - t2  + sortingTime\n",
    "\n",
    "        # 3\n",
    "        t3 = time.time()\n",
    "        fastestPath(Gtest,sortedVertices[1][0][0], sortedVertices[i-1][0][0])\n",
    "        resultTime3[i-1] += time.time() - t3  + sortingTime\n",
    "        # 4\n",
    "        t4 = time.time()\n",
    "        shortestPath(Gtest, sortedVertices[1][0][0], sortedVertices[i-1][0][0], sortedVertices)\n",
    "        resultTime4[i-1] += time.time() - t4 "
   ]
  },
  {
   "cell_type": "code",
   "execution_count": 149,
   "metadata": {},
   "outputs": [],
   "source": [
    "resultTime1 /= repeat\n",
    "resultTime2 /= repeat\n",
    "resultTime3 /= repeat\n",
    "resultTime4 /= repeat"
   ]
  },
  {
   "cell_type": "code",
   "execution_count": 157,
   "metadata": {},
   "outputs": [
    {
     "data": {
      "image/png": "[encoded data removed]",
      "text/plain": [
       "<Figure size 432x288 with 1 Axes>"
      ]
     },
     "metadata": {
      "needs_background": "light"
     },
     "output_type": "display_data"
    },
    {
     "data": {
      "image/png": "[encoded data removed]",
      "text/plain": [
       "<Figure size 432x288 with 1 Axes>"
      ]
     },
     "metadata": {
      "needs_background": "light"
     },
     "output_type": "display_data"
    }
   ],
   "source": [
    "# Display results\n",
    "fig, ax = plt.subplots()\n",
    "l1 = ax.plot(verticeNumber, resultTime1, linewidth=2.0, label='Earliest Arrival')\n",
    "l3 = ax.plot(verticeNumber, resultTime3, linewidth=2.0, label='Fastest')\n",
    "l2 = ax.plot(verticeNumber, resultTime2, linewidth=2.0, label='Latest Departure')\n",
    "legend = ax.legend(loc='upper left', shadow=True)\n",
    "plt.show()\n",
    "\n",
    "\n",
    "fig, ax = plt.subplots()\n",
    "l4 = ax.plot(verticeNumber, resultTime4, linewidth=2.0, label='Shortest')\n",
    "legend = ax.legend(loc='upper left', shadow=True)\n",
    "plt.show()"
   ]
  },
  {
   "cell_type": "code",
   "execution_count": 158,
   "metadata": {},
   "outputs": [
    {
     "name": "stderr",
     "output_type": "stream",
     "text": [
      "/tmp/ipykernel_3765/1908504964.py:2: RuntimeWarning: divide by zero encountered in log\n",
      "  logres1 = np.log(resultTime1)\n",
      "/tmp/ipykernel_3765/1908504964.py:3: RuntimeWarning: divide by zero encountered in log\n",
      "  logres2 = np.log(resultTime2)\n",
      "/tmp/ipykernel_3765/1908504964.py:4: RuntimeWarning: divide by zero encountered in log\n",
      "  logres3 = np.log(resultTime3)\n",
      "/tmp/ipykernel_3765/1908504964.py:5: RuntimeWarning: divide by zero encountered in log\n",
      "  logres4 = np.log(resultTime4)\n"
     ]
    },
    {
     "data": {
      "image/png": "[encoded data removed]",
      "text/plain": [
       "<Figure size 432x288 with 1 Axes>"
      ]
     },
     "metadata": {
      "needs_background": "light"
     },
     "output_type": "display_data"
    },
    {
     "data": {
      "image/png": "[encoded data removed]",
      "text/plain": [
       "<Figure size 432x288 with 1 Axes>"
      ]
     },
     "metadata": {
      "needs_background": "light"
     },
     "output_type": "display_data"
    }
   ],
   "source": [
    "logvertice = np.log(verticeNumber)\n",
    "logres1 = np.log(resultTime1)\n",
    "logres2 = np.log(resultTime2)\n",
    "logres3 = np.log(resultTime3)\n",
    "logres4 = np.log(resultTime4)\n",
    "\n",
    "\n",
    "fig, ax = plt.subplots()\n",
    "l1 = ax.plot(logvertice, logres1, linewidth=2.0, label='Earliest Arrival')\n",
    "l3 = ax.plot(logvertice, logres3, linewidth=2.0, label='Fastest')\n",
    "l2 = ax.plot(logvertice, logres2, linewidth=2.0, label='Latest Departure')\n",
    "legend = ax.legend(loc='upper left', shadow=True)\n",
    "plt.show()\n",
    "\n",
    "\n",
    "fig, ax = plt.subplots()\n",
    "l4 = ax.plot(logvertice, logres4, linewidth=2.0, label='Shortest')\n",
    "legend = ax.legend(loc='upper left', shadow=True)\n",
    "plt.show()"
   ]
  },
  {
   "cell_type": "markdown",
   "metadata": {},
   "source": [
    "##### Temps d'exécution en fonction de la probabilité d'apparition des arètes"
   ]
  },
  {
   "cell_type": "markdown",
   "metadata": {},
   "source": [
    "On fixe le nombre de sommets à 50 et on fait varier p de 0.1 à 1"
   ]
  },
  {
   "cell_type": "code",
   "execution_count": 176,
   "metadata": {},
   "outputs": [],
   "source": [
    "# fixed parameters\n",
    "v = 50\n",
    "l = 1\n",
    "\n",
    "repeat = 100\n",
    "n = 10\n",
    "resultTime1 = np.zeros(n)\n",
    "resultTime2 = np.zeros(n)\n",
    "resultTime3 = np.zeros(n)\n",
    "resultTime4 = np.zeros(n)\n",
    "verticeNumber = np.zeros(n)"
   ]
  },
  {
   "cell_type": "code",
   "execution_count": 177,
   "metadata": {},
   "outputs": [],
   "source": [
    "# Harvest results\n",
    "for j in range(repeat):\n",
    "    for i in range(1,11,1):\n",
    "        p = i//10\n",
    "        verticeNumber[i-1] = p\n",
    "        # MG & G generation\n",
    "        MGtest = createMultiGraph(v, p, l)\n",
    "        Gtest = createGraphFromMultiGraph(MGtest) \n",
    "        nodes = list(MG.nodes())\n",
    "\n",
    "\n",
    "        # Algorithms\n",
    "        t0 = time.time()\n",
    "        sortedVertices = sortVertices(Gtest)\n",
    "        sortingTime = time.time() - t0\n",
    "\n",
    "        if sortedVertices == {}:\n",
    "            continue\n",
    "        # 1\n",
    "        t1 = time.time()\n",
    "        earliestArrivalPath(Gtest, sortedVertices[1][0][0], sortedVertices[v-1][0][0], sortedVertices)\n",
    "        resultTime1[i-1] += time.time() - t1  + sortingTime\n",
    "\n",
    "        # 2\n",
    "        t2 = time.time()\n",
    "        latestDeparturePath(Gtest,sortedVertices[1][0][0], sortedVertices[v-1][0][0], sortedVertices, v*10)\n",
    "        resultTime2[i-1] += time.time() - t2  + sortingTime\n",
    "\n",
    "        # 3\n",
    "        t3 = time.time()\n",
    "        fastestPath(Gtest,sortedVertices[1][0][0], sortedVertices[v-1][0][0])\n",
    "        resultTime3[i-1] += time.time() - t3  + sortingTime\n",
    "        # 4\n",
    "        t4 = time.time()\n",
    "        shortestPath(Gtest, sortedVertices[1][0][0], sortedVertices[v-1][0][0], sortedVertices)\n",
    "        resultTime4[i-1] += time.time() - t4 "
   ]
  },
  {
   "cell_type": "code",
   "execution_count": 178,
   "metadata": {},
   "outputs": [],
   "source": [
    "resultTime1 /= repeat\n",
    "resultTime2 /= repeat\n",
    "resultTime3 /= repeat\n",
    "resultTime4 /= repeat"
   ]
  },
  {
   "cell_type": "code",
   "execution_count": 179,
   "metadata": {},
   "outputs": [
    {
     "data": {
      "image/png": "[encoded data removed]",
      "text/plain": [
       "<Figure size 432x288 with 1 Axes>"
      ]
     },
     "metadata": {
      "needs_background": "light"
     },
     "output_type": "display_data"
    }
   ],
   "source": [
    "# Display results\n",
    "fig, ax = plt.subplots()\n",
    "l1 = ax.plot(verticeNumber, resultTime1, linewidth=2.0, label='Earliest Arrival')\n",
    "l3 = ax.plot(verticeNumber, resultTime3, linewidth=2.0, label='Fastest')\n",
    "l2 = ax.plot(verticeNumber, resultTime2, linewidth=2.0, label='Latest Departure')\n",
    "l4 = ax.plot(verticeNumber, resultTime4, linewidth=2.0, label='Shortest')\n",
    "legend = ax.legend(loc='upper left', shadow=True)\n",
    "plt.show()"
   ]
  },
  {
   "cell_type": "markdown",
   "metadata": {},
   "source": [
    "##### Temps d'exécution en fonction de la durée des trajets\n",
    "\n",
    "Théoriquement, la durée des trajets n'influe pas sur la complexité de nos quatre algorithmes."
   ]
  },
  {
   "cell_type": "code",
   "execution_count": 203,
   "metadata": {},
   "outputs": [],
   "source": [
    "# fixed parameters\n",
    "v = 20\n",
    "p = 1\n",
    "\n",
    "n = 20\n",
    "repeat = 50\n",
    "\n",
    "resultTime1 = np.zeros(n-4)\n",
    "resultTime2 = np.zeros(n-4)\n",
    "resultTime3 = np.zeros(n-4)\n",
    "resultTime4 = np.zeros(n-4)\n",
    "verticeNumber = np.zeros(n-4)"
   ]
  },
  {
   "cell_type": "code",
   "execution_count": 205,
   "metadata": {},
   "outputs": [],
   "source": [
    "# Harvest results\n",
    "for j in range(repeat):\n",
    "    for i in range(5,n+1,1):\n",
    "        verticeNumber[i-5] = i\n",
    "        # MG & G generation\n",
    "        MGtest = createMultiGraph(v, p, i)\n",
    "        Gtest = createGraphFromMultiGraph(MGtest) \n",
    "        nodes = list(MG.nodes())\n",
    "\n",
    "\n",
    "        # Algorithms\n",
    "        t0 = time.time()\n",
    "        sortedVertices = sortVertices(Gtest)\n",
    "        sortingTime = time.time() - t0\n",
    "\n",
    "        if sortedVertices == {}:\n",
    "            continue\n",
    "        # 1\n",
    "        t1 = time.time()\n",
    "        earliestArrivalPath(Gtest, sortedVertices[1][0][0], sortedVertices[v-1][0][0], sortedVertices)\n",
    "        resultTime1[i-5] += time.time() - t1  + sortingTime\n",
    "\n",
    "        # 2\n",
    "        t2 = time.time()\n",
    "        latestDeparturePath(Gtest,sortedVertices[1][0][0], sortedVertices[v-1][0][0], sortedVertices, v*10)\n",
    "        resultTime2[i-5] += time.time() - t2  + sortingTime\n",
    "\n",
    "        # 3\n",
    "        t3 = time.time()\n",
    "        fastestPath(Gtest,sortedVertices[1][0][0], sortedVertices[v-1][0][0])\n",
    "        resultTime3[i-5] += time.time() - t3  + sortingTime\n",
    "        # 4\n",
    "        t4 = time.time()\n",
    "        shortestPath(Gtest, sortedVertices[1][0][0], sortedVertices[v-1][0][0], sortedVertices)\n",
    "        resultTime4[i-5] += time.time() - t4 "
   ]
  },
  {
   "cell_type": "code",
   "execution_count": 206,
   "metadata": {},
   "outputs": [],
   "source": [
    "resultTime1 /= repeat\n",
    "resultTime2 /= repeat\n",
    "resultTime3 /= repeat\n",
    "resultTime4 /= repeat"
   ]
  },
  {
   "cell_type": "code",
   "execution_count": 208,
   "metadata": {},
   "outputs": [
    {
     "data": {
      "image/png": "[encoded data removed]",
      "text/plain": [
       "<Figure size 432x288 with 1 Axes>"
      ]
     },
     "metadata": {
      "needs_background": "light"
     },
     "output_type": "display_data"
    }
   ],
   "source": [
    "# Display results\n",
    "fig, ax = plt.subplots()\n",
    "l1 = ax.plot(verticeNumber, resultTime1, linewidth=2.0, label='Earliest Arrival')\n",
    "l3 = ax.plot(verticeNumber, resultTime3, linewidth=2.0, label='Fastest')\n",
    "l2 = ax.plot(verticeNumber, resultTime2, linewidth=2.0, label='Latest Departure')\n",
    "l4 = ax.plot(verticeNumber, resultTime4, linewidth=2.0, label='Shortest')\n",
    "legend = ax.legend(loc='center left', shadow=True)\n",
    "plt.show()"
   ]
  }
 ],
 "metadata": {
  "kernelspec": {
   "display_name": "Python 3 (ipykernel)",
   "language": "python",
   "name": "python3"
  },
  "language_info": {
   "codemirror_mode": {
    "name": "ipython",
    "version": 3
   },
   "file_extension": ".py",
   "mimetype": "text/x-python",
   "name": "python",
   "nbconvert_exporter": "python",
   "pygments_lexer": "ipython3",
   "version": "3.8.10"
  }
 },
 "nbformat": 4,
 "nbformat_minor": 4
}
