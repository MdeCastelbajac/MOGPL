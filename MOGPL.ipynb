{
 "cells": [
  {
   "cell_type": "markdown",
   "metadata": {},
   "source": [
    "# Multigraphes orientés et pondérés par le temps"
   ]
  },
  {
   "cell_type": "code",
   "execution_count": 63,
   "metadata": {},
   "outputs": [],
   "source": [
    "import networkx as nx\n",
    "import matplotlib.pyplot as plt"
   ]
  },
  {
   "cell_type": "markdown",
   "metadata": {},
   "source": [
    "## Fonctions usuelles sur les graphes"
   ]
  },
  {
   "cell_type": "code",
   "execution_count": 89,
   "metadata": {},
   "outputs": [],
   "source": [
    "def createGraphFromFile(filename):\n",
    "    \"reads textfile and creates the corresponding directed multigraph\"\n",
    "\n",
    "    G = nx.MultiDiGraph()\n",
    "    \n",
    "    with open(filename, encoding='utf8') as f:\n",
    "        for line in f: \n",
    "            if line[0] == 's':\n",
    "                G.add_node(int(line[7]))\n",
    "            if line[0] == 'a':\n",
    "                u,v,t,l = line[7], line[9], line[11], line[13]\n",
    "                G.add_edge(int(u), int(v), date=int(t), duration=int(l))\n",
    "    return G"
   ]
  },
  {
   "cell_type": "code",
   "execution_count": 90,
   "metadata": {},
   "outputs": [],
   "source": [
    "MG = createGraphFromFile(\"graphe.txt\")"
   ]
  },
  {
   "cell_type": "code",
   "execution_count": 91,
   "metadata": {},
   "outputs": [
    {
     "name": "stdout",
     "output_type": "stream",
     "text": [
      "(1, 2, {'date': 1, 'duration': 1})\n",
      "(1, 2, {'date': 2, 'duration': 1})\n",
      "(2, 3, {'date': 5, 'duration': 1})\n"
     ]
    }
   ],
   "source": [
    "# Display agencies \n",
    "for k in MG.edges(data=True) :\n",
    "    print(k)"
   ]
  },
  {
   "cell_type": "code",
   "execution_count": 92,
   "metadata": {},
   "outputs": [],
   "source": [
    "def createGraphFromMultiGraph(MG):\n",
    "    G = nx.DiGraph()\n",
    "    for s in MG.nodes():\n",
    "        for u,v,attribute in MG.edges(data=True):\n",
    "            t = attribute['date']\n",
    "            l = attribute['duration']\n",
    "            if s == u:\n",
    "                uOut = (u, t)\n",
    "                vIn = (v, t+l)\n",
    "                if uOut not in G.nodes():\n",
    "                    G.add_node(uOut)\n",
    "                if vIn not in G.nodes():\n",
    "                    G.add_node(vIn)\n",
    "                G.add_edge(uOut, vIn, weight=1)\n",
    "                for i,j in G.nodes():\n",
    "                    if i == u:\n",
    "                        if j > t:\n",
    "                            G.add_edge(uOut, (i,j), weight=0)\n",
    "                        elif j < t:\n",
    "                            G.add_edge((i,j), uOut, weight=0)\n",
    "    \n",
    "    return G"
   ]
  },
  {
   "cell_type": "code",
   "execution_count": 93,
   "metadata": {},
   "outputs": [],
   "source": [
    "G = createGraphFromMultiGraph(MG)"
   ]
  },
  {
   "cell_type": "code",
   "execution_count": 95,
   "metadata": {
    "scrolled": false
   },
   "outputs": [
    {
     "name": "stdout",
     "output_type": "stream",
     "text": [
      "[((1, 1), (2, 2), {'weight': 1}), ((1, 1), (1, 2), {'weight': 0}), ((2, 2), (2, 5), {'weight': 0}), ((1, 2), (2, 3), {'weight': 1}), ((2, 3), (2, 5), {'weight': 0}), ((2, 5), (3, 6), {'weight': 1})]\n"
     ]
    }
   ],
   "source": [
    "print(G.edges(data=True))"
   ]
  },
  {
   "cell_type": "code",
   "execution_count": 119,
   "metadata": {},
   "outputs": [],
   "source": [
    "def createMultiGraph(vertexNumber, duration):\n",
    "    \"\"\"generate a directed multigraph given a number of vertices \n",
    "    and a duration with a fixed pattern\"\"\"\n",
    "    \n",
    "    G = nx.MultiDiGraph()\n",
    "        \n",
    "    # Vertices\n",
    "    for i in range(1, vertexNumber+1):\n",
    "        G.add_node(i)\n",
    "    \n",
    "    # Edges\n",
    "    date = 1\n",
    "    v = 1\n",
    "    while v != vertexNumber:\n",
    "        G.add_edge(v, v+1, date=date, duration=duration)\n",
    "        if v+2 <= vertexNumber:\n",
    "            G.add_edge(v, v+2, date=date+1, duration=duration)\n",
    "        date += 1\n",
    "        v += 1\n",
    "    \n",
    "    return G"
   ]
  },
  {
   "cell_type": "code",
   "execution_count": 120,
   "metadata": {},
   "outputs": [],
   "source": [
    "MG = createMultiGraph(5,1)"
   ]
  },
  {
   "cell_type": "code",
   "execution_count": 121,
   "metadata": {},
   "outputs": [
    {
     "name": "stdout",
     "output_type": "stream",
     "text": [
      "1\n",
      "2\n",
      "3\n",
      "4\n",
      "5\n",
      "(1, 2, {'date': 1, 'duration': 1})\n",
      "(1, 3, {'date': 2, 'duration': 1})\n",
      "(2, 3, {'date': 2, 'duration': 1})\n",
      "(2, 4, {'date': 3, 'duration': 1})\n",
      "(3, 4, {'date': 3, 'duration': 1})\n",
      "(3, 5, {'date': 4, 'duration': 1})\n",
      "(4, 5, {'date': 4, 'duration': 1})\n"
     ]
    }
   ],
   "source": [
    "for v in MG.nodes:\n",
    "    print(v)\n",
    "for e in MG.edges(data=True):\n",
    "    print(e)"
   ]
  },
  {
   "cell_type": "markdown",
   "metadata": {},
   "source": [
    "## Algorithmes"
   ]
  },
  {
   "cell_type": "markdown",
   "metadata": {},
   "source": [
    "#### IV Plus court chemin\n",
    "\n",
    "*Note : On utilise Bellman-Ford, sans se préoccuper des cycles négatifs*"
   ]
  },
  {
   "cell_type": "code",
   "execution_count": 134,
   "metadata": {},
   "outputs": [],
   "source": [
    "def shortestPath(G, departure, arrival):\n",
    "    \"\"\"returns the shortest path, meaning the path containing \n",
    "    the least amount of edges between 'departure' and 'arrival'.\"\"\"\n",
    "    \n",
    "    # error detection\n",
    "    if departure not in G or arrival not in G:\n",
    "        err = f\"Either departure {departure} or arrival {arrival} is not in G\"\n",
    "        raise nx.NodeNotFound(err)\n",
    "    \n",
    "    if departure == arrival:\n",
    "        return (0, [departure])\n",
    "    \n",
    "    dist = dict()\n",
    "    for i in G.nodes():\n",
    "        dist[i] = (float(\"Inf\"), -1)\n",
    "    dist[departure] = (0,-1)\n",
    "    \n",
    "    # Get distances \n",
    "    for u,v,w in G.edges(data='weight'):\n",
    "        d1, p1 = dist[u]\n",
    "        d2, p2 = dist[v]\n",
    "        if d1 != float(\"Inf\") and d1+w < d2:\n",
    "            dist[v] = (d1+w, u)\n",
    "    \n",
    "    d,p = dist[arrival]\n",
    "    if d == float(\"Inf\"):\n",
    "        err = f\"There is no path between departure {departure} and arrival {arrival}\"\n",
    "        raise nx.PathNotFound(err)\n",
    "    \n",
    "    distance = d\n",
    "    # Get path\n",
    "    v = arrival\n",
    "    path = [v]\n",
    "    while v != departure:\n",
    "        d, p = dist[v] \n",
    "        path = [p] + path\n",
    "        v = p\n",
    "\n",
    "    return distance, path"
   ]
  },
  {
   "cell_type": "code",
   "execution_count": 135,
   "metadata": {},
   "outputs": [
    {
     "name": "stdout",
     "output_type": "stream",
     "text": [
      "(2, [(1, 1), (2, 2), (2, 5), (3, 6)])\n"
     ]
    }
   ],
   "source": [
    "# Test\n",
    "print(shortestPath(G, (1,1), (3,6)))"
   ]
  },
  {
   "cell_type": "markdown",
   "metadata": {},
   "source": [
    "## Tests"
   ]
  }
 ],
 "metadata": {
  "kernelspec": {
   "display_name": "Python 3",
   "language": "python",
   "name": "python3"
  },
  "language_info": {
   "codemirror_mode": {
    "name": "ipython",
    "version": 3
   },
   "file_extension": ".py",
   "mimetype": "text/x-python",
   "name": "python",
   "nbconvert_exporter": "python",
   "pygments_lexer": "ipython3",
   "version": "3.7.6"
  }
 },
 "nbformat": 4,
 "nbformat_minor": 4
}
