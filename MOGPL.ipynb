{
 "cells": [
  {
   "cell_type": "markdown",
   "metadata": {},
   "source": [
    "# Multigraphes orientés et pondérés par le temps"
   ]
  },
  {
   "cell_type": "markdown",
   "metadata": {},
   "source": [
    "On utilisera la bibliothèque networkx comme structure de donnée adaptée pour les graphes et multigraphes orientés et pondérés."
   ]
  },
  {
   "cell_type": "code",
   "execution_count": 239,
   "metadata": {},
   "outputs": [],
   "source": [
    "import time\n",
    "import numpy as np\n",
    "import random\n",
    "import networkx as nx\n",
    "import matplotlib.pyplot as plt\n",
    "from collections import deque"
   ]
  },
  {
   "cell_type": "markdown",
   "metadata": {},
   "source": [
    "**L'intégralité du code se trouve sur le présent notebook. De ce fait, générer un graphe en passant par le terminal se révèle peu pratique. Le lecteur pourra passer un fichier de son choix ci-dessous pour générer un graphe, ou passer par la génération automatique de multigraphe en spécifiant le nombre d'arcs et de sommets.**"
   ]
  },
  {
   "cell_type": "code",
   "execution_count": 240,
   "metadata": {},
   "outputs": [],
   "source": [
    "file = \"graphe.txt\""
   ]
  },
  {
   "cell_type": "markdown",
   "metadata": {},
   "source": [
    "Les tests de validité sont passés avec le graphe de l'exemple 2, il peut être besoin de les modifier."
   ]
  },
  {
   "cell_type": "markdown",
   "metadata": {},
   "source": [
    "## Fonctions usuelles sur les graphes"
   ]
  },
  {
   "cell_type": "code",
   "execution_count": 241,
   "metadata": {},
   "outputs": [],
   "source": [
    "def createGraphFromFile(filename):\n",
    "    \"reads textfile and creates the corresponding directed multigraph\"\n",
    "\n",
    "    G = nx.MultiDiGraph()\n",
    "    \n",
    "    with open(filename, encoding='utf8') as f:\n",
    "        for line in f: \n",
    "            if line[0] == 's':\n",
    "                line_split = line.split(\" \")\n",
    "                G.add_node(str(line_split[1]))\n",
    "            if line[0] == 'a':\n",
    "                line_split = line.split(\" \")\n",
    "                u, v, t, l = line_split[2][1:-2].split(\",\")\n",
    "                G.add_edge(u, v, date=int(t), duration=int(l))\n",
    "    return G"
   ]
  },
  {
   "cell_type": "code",
   "execution_count": 242,
   "metadata": {},
   "outputs": [],
   "source": [
    "MG = createGraphFromFile(file)"
   ]
  },
  {
   "cell_type": "code",
   "execution_count": 243,
   "metadata": {},
   "outputs": [
    {
     "name": "stdout",
     "output_type": "stream",
     "text": [
      "('a', 'b', {'date': 1, 'duration': 1})\n",
      "('a', 'b', {'date': 2, 'duration': 1})\n",
      "('a', 'c', {'date': 2, 'duration': 1})\n",
      "('a', 'c', {'date': 4, 'duration': 1})\n",
      "('b', 'f', {'date': 5, 'duration': 1})\n",
      "('c', 'f', {'date': 6, 'duration': 1})\n",
      "('c', 'g', {'date': 7, 'duration': 1})\n"
     ]
    }
   ],
   "source": [
    "# Display agencies \n",
    "for k in MG.edges(data=True) :\n",
    "    print(k)"
   ]
  },
  {
   "cell_type": "code",
   "execution_count": 244,
   "metadata": {},
   "outputs": [],
   "source": [
    "def createGraphFromMultiGraph(MG):\n",
    "    G = nx.DiGraph()\n",
    "\n",
    "    #Adding vertices\n",
    "    for u, v, attribute in MG.edges(data=True):\n",
    "        t = attribute[\"date\"]\n",
    "        l = attribute[\"duration\"]\n",
    "        uOut = (u, t)\n",
    "        vIn = (v, t + l)\n",
    "        G.add_node(uOut)\n",
    "        G.add_node(vIn)\n",
    "        G.add_edge(uOut, vIn, weight=l)\n",
    "\n",
    "    # Adding 0 weighted edges\n",
    "    verticesList = list(G.nodes)\n",
    "    verticesList = sorted(verticesList, key=lambda item: (item[0], item[1]))\n",
    "    # print(verticesList)\n",
    "    for i in range(len(verticesList)-1):\n",
    "        if verticesList[i][0] == verticesList[i+1][0]:\n",
    "            G.add_edge(verticesList[i], (verticesList[i+1]), weight=0)\n",
    "            \n",
    "    return G"
   ]
  },
  {
   "cell_type": "code",
   "execution_count": 245,
   "metadata": {},
   "outputs": [],
   "source": [
    "G = createGraphFromMultiGraph(MG)"
   ]
  },
  {
   "cell_type": "code",
   "execution_count": 246,
   "metadata": {
    "scrolled": true
   },
   "outputs": [
    {
     "name": "stdout",
     "output_type": "stream",
     "text": [
      "[(('a', 1), ('b', 2), {'weight': 1}), (('a', 1), ('a', 2), {'weight': 0}), (('b', 2), ('b', 3), {'weight': 0}), (('a', 2), ('b', 3), {'weight': 1}), (('a', 2), ('c', 3), {'weight': 1}), (('a', 2), ('a', 4), {'weight': 0}), (('b', 3), ('b', 5), {'weight': 0}), (('c', 3), ('c', 5), {'weight': 0}), (('a', 4), ('c', 5), {'weight': 1}), (('c', 5), ('c', 6), {'weight': 0}), (('b', 5), ('f', 6), {'weight': 1}), (('f', 6), ('f', 7), {'weight': 0}), (('c', 6), ('f', 7), {'weight': 1}), (('c', 6), ('c', 7), {'weight': 0}), (('c', 7), ('g', 8), {'weight': 1})]\n"
     ]
    }
   ],
   "source": [
    "print(G.edges(data=True))"
   ]
  },
  {
   "cell_type": "code",
   "execution_count": 285,
   "metadata": {},
   "outputs": [],
   "source": [
    "def createMultiGraph(vertexNumber, edgeNumber, duration):\n",
    "    \"\"\"generate a directed multigraph given a number of vertices \n",
    "    and probability of edge apparition and a fixed duration\"\"\"\n",
    "    \n",
    "    G = nx.MultiDiGraph()\n",
    "    \n",
    "    # Vertices\n",
    "    for i in range(1, vertexNumber+1):\n",
    "        G.add_node(str(i))\n",
    "    \n",
    "    # We decrease edgeNumber until we've added all the edges in the graph\n",
    "    startDate = 0\n",
    "    while edgeNumber > 0: \n",
    "        for i in range(1, vertexNumber+1):\n",
    "            depDate = startDate+1\n",
    "            for j in range(i+1, i+3):\n",
    "                if edgeNumber <= 0: \n",
    "                    return G\n",
    "                if len(G.nodes()) <= j:\n",
    "                    edgeNumber -= 1\n",
    "                    continue\n",
    "                dateArr = depDate + j \n",
    "                G.add_edge(str(i), str(j), date = dateArr, duration=duration)\n",
    "                edgeNumber -= 1\n",
    "                \n",
    "        startDate += 1\n",
    "    return G"
   ]
  },
  {
   "cell_type": "code",
   "execution_count": 286,
   "metadata": {},
   "outputs": [],
   "source": [
    "MGAuto = createMultiGraph(10,10,1)"
   ]
  },
  {
   "cell_type": "code",
   "execution_count": 287,
   "metadata": {},
   "outputs": [
    {
     "name": "stdout",
     "output_type": "stream",
     "text": [
      "1\n",
      "2\n",
      "3\n",
      "4\n",
      "5\n",
      "6\n",
      "7\n",
      "8\n",
      "9\n",
      "10\n",
      "('1', '2', {'date': 3, 'duration': 1})\n",
      "('1', '3', {'date': 4, 'duration': 1})\n",
      "('2', '3', {'date': 4, 'duration': 1})\n",
      "('2', '4', {'date': 5, 'duration': 1})\n",
      "('3', '4', {'date': 5, 'duration': 1})\n",
      "('3', '5', {'date': 6, 'duration': 1})\n",
      "('4', '5', {'date': 6, 'duration': 1})\n",
      "('4', '6', {'date': 7, 'duration': 1})\n",
      "('5', '6', {'date': 7, 'duration': 1})\n",
      "('5', '7', {'date': 8, 'duration': 1})\n"
     ]
    }
   ],
   "source": [
    "for v in MGAuto.nodes:\n",
    "    print(v)\n",
    "for e in MGAuto.edges(data=True):\n",
    "    print(e)"
   ]
  },
  {
   "cell_type": "markdown",
   "metadata": {},
   "source": [
    "Pour la suite, on va devoir accéder rapidement aux sommets selon les dates de départ ou d'arrivée, on propose ici de trier la liste (on le fera une seule fois par graphe) en un dictionnaire qui regroupe les sommets de issus du même sommet de MG triés par ordre croissant:"
   ]
  },
  {
   "cell_type": "code",
   "execution_count": 250,
   "metadata": {},
   "outputs": [],
   "source": [
    "def sortVertices(G):\n",
    "    vertices = dict()\n",
    "    for v,t in G.nodes():\n",
    "        if v not in vertices:\n",
    "            vertices[v] = [(v,t)]\n",
    "        else:\n",
    "            vertices[v].append((v,t))\n",
    "    for v in vertices:\n",
    "        vertices[v].sort(key=lambda x:x[1])\n",
    "    return vertices"
   ]
  },
  {
   "cell_type": "code",
   "execution_count": 251,
   "metadata": {},
   "outputs": [
    {
     "name": "stdout",
     "output_type": "stream",
     "text": [
      "{'a': [('a', 1), ('a', 2), ('a', 4)], 'b': [('b', 2), ('b', 3), ('b', 5)], 'c': [('c', 3), ('c', 5), ('c', 6), ('c', 7)], 'f': [('f', 6), ('f', 7)], 'g': [('g', 8)]}\n"
     ]
    }
   ],
   "source": [
    "vertices = sortVertices(G)\n",
    "print(vertices)"
   ]
  },
  {
   "cell_type": "markdown",
   "metadata": {},
   "source": [
    "## Algorithmes"
   ]
  },
  {
   "cell_type": "markdown",
   "metadata": {},
   "source": [
    "On testera la validité de nos algorithmes sur l'instance fournie par le fichier qui correspond au multigraphe fourni dans l'énoncé et généré ci-dessus."
   ]
  },
  {
   "cell_type": "markdown",
   "metadata": {},
   "source": [
    "![graphe de test](./graphe.jpg)"
   ]
  },
  {
   "cell_type": "markdown",
   "metadata": {},
   "source": [
    "### I Chemin d'arrivée au plus tôt"
   ]
  },
  {
   "cell_type": "markdown",
   "metadata": {},
   "source": [
    "Le but est ici de chercher un chemin partant d'un des sommets de départ (par défaut, celui ayant la plus petite date de départ, il est relié à tous les autres) et le reliant au sommet d'arrivé ayant la plus petite date.\n",
    "Pour éviter de parcourir plusieurs fois le graphe, on notera tous les sommets correspondant au sommet d'arrivée parcourus et on prendra le meilleur, s'il y en a au moins un.\n",
    "\n",
    "On utilisera le parcours en profondeur pour chercher un chemin, s'il existe, entre le sommet de départ et le sommet d'arrivée."
   ]
  },
  {
   "cell_type": "code",
   "execution_count": 252,
   "metadata": {},
   "outputs": [],
   "source": [
    "def backwardBfs(G, arrival):\n",
    "    reach = deque()\n",
    "    reach.append(arrival)\n",
    "    visited = set()\n",
    "    visited.add(arrival)\n",
    "    successors = dict()\n",
    "    successors[arrival] = (-1,-1)\n",
    "    \n",
    "    while reach:\n",
    "        arrival = reach.pop()\n",
    "        date = arrival[1]\n",
    "        for v in G.predecessors(arrival):\n",
    "            if v[1] > date:\n",
    "                continue\n",
    "            if (v) not in visited:\n",
    "                visited.add(v)\n",
    "                successors[v] = arrival\n",
    "                reach.append(v)\n",
    "    return successors"
   ]
  },
  {
   "cell_type": "code",
   "execution_count": 253,
   "metadata": {},
   "outputs": [],
   "source": [
    "def backwardBuildPath(successors, v, arrival):\n",
    "    path = [v]\n",
    "    a,t = successors[v]\n",
    "    if a == -1:\n",
    "        return ([v[0], v[0]], v[1], arrival[1])\n",
    "    \n",
    "    while a != arrival[0] and a != -1:\n",
    "        path += [(a,t)]\n",
    "        a,t = successors[(a,t)]\n",
    "    path += [(a,t)]\n",
    "    \n",
    "    \n",
    "    path = [v[0] for v in path]\n",
    "    repetitions = set()\n",
    "    finalPath = []\n",
    "    for u in path:\n",
    "        if u not in repetitions:\n",
    "            repetitions.add(u)\n",
    "            finalPath.append(u)\n",
    "    return (finalPath, v[1], arrival[1])"
   ]
  },
  {
   "cell_type": "code",
   "execution_count": 342,
   "metadata": {},
   "outputs": [],
   "source": [
    "def earliestArrivalPath(G, departure, arrival, vertices, minDate, maxDate):\n",
    "    G = G.copy()\n",
    "    i = 0\n",
    "    if minDate > maxDate:\n",
    "        return None\n",
    "    if arrival not in vertices or departure not in vertices:\n",
    "        return None\n",
    "    while i < len(vertices[arrival]):\n",
    "        arr = vertices[arrival][i]\n",
    "        if arr[1] > maxDate:\n",
    "            continue\n",
    "        successors = backwardBfs(G, arr)\n",
    "        for v in vertices[departure]:\n",
    "            if v in successors and v[1] >= minDate:\n",
    "                return backwardBuildPath(successors, v,arr)\n",
    "        i+=1\n",
    "        for v in successors:\n",
    "            if v[0] != departure and v[0] != arrival:\n",
    "                G.remove_node(v)\n",
    "    # We found no path\n",
    "    return None"
   ]
  },
  {
   "cell_type": "code",
   "execution_count": 256,
   "metadata": {
    "scrolled": false
   },
   "outputs": [
    {
     "name": "stdout",
     "output_type": "stream",
     "text": [
      "None\n",
      "(['a', 'c'], 1, 3)\n",
      "(['a', 'a'], 1, 1)\n",
      "None\n",
      "(['c', 'g'], 3, 8)\n"
     ]
    }
   ],
   "source": [
    "# Test\n",
    "\n",
    "print(earliestArrivalPath(G,'a','b', vertices, 10,10))\n",
    "print(earliestArrivalPath(G,'a','c', vertices, 1, 10))\n",
    "print(earliestArrivalPath(G,'a','a', vertices, 1, 10))\n",
    "print(earliestArrivalPath(G,'b','g', vertices, 1, 10))\n",
    "print(earliestArrivalPath(G,'c','g', vertices, 1, 10))"
   ]
  },
  {
   "cell_type": "markdown",
   "metadata": {},
   "source": [
    "Les résultats se lisent de la façon suivante :  \n",
    "* Le chemin d'arrivée au plus tôt de 1 à 2 commence à la date 1, finit à la date 2, a donc une durée 1 et une distance de 1 \n",
    "* Le chemin d'arrivée au plus tôt de 1 à 4 commence à la date 1, finit à la date 6, a une durée de 5 et a une distance de 3. \n",
    "* Si il n'existe pas de chemin, la fonction renvoie `None`"
   ]
  },
  {
   "cell_type": "markdown",
   "metadata": {},
   "source": [
    "### II Chemin de départ au plus tard"
   ]
  },
  {
   "cell_type": "markdown",
   "metadata": {},
   "source": [
    "On prend le dernier sommet de départ, et on parcours le graphe :\n",
    "Soit on trouve un des sommets d'arrivée avant la date limite\n",
    "Soit on régresse dans les sommets de départs et on recommence"
   ]
  },
  {
   "cell_type": "code",
   "execution_count": 257,
   "metadata": {},
   "outputs": [],
   "source": [
    "def bfs(G, departure):\n",
    "    reach = deque()\n",
    "    reach.append(departure)\n",
    "    visited = set()\n",
    "    visited.add(departure)\n",
    "    predecessors = dict()\n",
    "    predecessors[departure] = (-1,-1)\n",
    "    \n",
    "    while reach:\n",
    "        departure = reach.pop()\n",
    "        for v in G.successors(departure):\n",
    "            if (v) not in visited:\n",
    "                visited.add(v)\n",
    "                predecessors[v] = departure\n",
    "                reach.append(v)\n",
    "    return predecessors"
   ]
  },
  {
   "cell_type": "code",
   "execution_count": 258,
   "metadata": {},
   "outputs": [],
   "source": [
    "def buildPath(predecessors, v, dep):\n",
    "    path = [v]\n",
    "    a,t = predecessors[v]\n",
    "    if a == -1:\n",
    "        return ([dep[0], dep[0]], dep[1], v[1])\n",
    "    \n",
    "    while a != dep[0] and a != -1:\n",
    "        path = [(a,t)] + path\n",
    "        a,t = predecessors[(a,t)]\n",
    "    path = [(a,t)] + path\n",
    "    \n",
    "    path = [v[0] for v in path]\n",
    "    repetitions = set()\n",
    "    finalPath = []\n",
    "    for u in path:\n",
    "        if u not in repetitions:\n",
    "            repetitions.add(u)\n",
    "            finalPath.append(u)\n",
    "    \n",
    "    return (finalPath, dep[1], v[1])"
   ]
  },
  {
   "cell_type": "code",
   "execution_count": 341,
   "metadata": {},
   "outputs": [],
   "source": [
    "def latestDeparturePath(G, departure, arrival, vertices, minDate, maxDate):\n",
    "    G = G.copy()\n",
    "    if minDate > maxDate:\n",
    "        return None\n",
    "    if arrival not in vertices or departure not in vertices:\n",
    "        return None\n",
    "    i = 1\n",
    "    while i <= len(vertices[departure]):\n",
    "        dep = vertices[departure][-i]\n",
    "        if dep[1] < minDate:\n",
    "            continue\n",
    "        predecessors = bfs(G, dep)\n",
    "        for v in vertices[arrival]:\n",
    "            \n",
    "            if v in predecessors and v[1] < maxDate:\n",
    "                return buildPath(predecessors, v, dep)\n",
    "        for v in predecessors:\n",
    "            if v[0] != departure and v[0] != arrival:\n",
    "                G.remove_node(v)\n",
    "            \n",
    "        i+=1\n",
    "    # We found no path\n",
    "    return None"
   ]
  },
  {
   "cell_type": "code",
   "execution_count": 260,
   "metadata": {
    "scrolled": true
   },
   "outputs": [
    {
     "name": "stdout",
     "output_type": "stream",
     "text": [
      "(['a', 'b'], 2, 3)\n",
      "(['a', 'b'], 1, 2)\n",
      "(['a', 'c', 'f'], 4, 7)\n",
      "(['a', 'b', 'f'], 2, 6)\n"
     ]
    }
   ],
   "source": [
    "# Test\n",
    "print(latestDeparturePath(G,'a','b',vertices,1,4))\n",
    "print(latestDeparturePath(G,'a','b',vertices,1,3))\n",
    "print(latestDeparturePath(G,'a','f',vertices,1,8))\n",
    "print(latestDeparturePath(G,'a','f',vertices,1,7))"
   ]
  },
  {
   "cell_type": "markdown",
   "metadata": {},
   "source": [
    "### III Chemin le plus rapide"
   ]
  },
  {
   "cell_type": "markdown",
   "metadata": {},
   "source": [
    "Par définition, le chemin le plus rapide est une combinaison de contraintes des deux chemins précédents. On construit pour aller vite la liste triée par ordre croissant des couples de sommets de départ et d'arrivée selon la durée qui les sépare. "
   ]
  },
  {
   "cell_type": "code",
   "execution_count": 261,
   "metadata": {},
   "outputs": [],
   "source": [
    "def shortestPathVertices(G, departure, arrival, minDate, maxDate):\n",
    "    \"returns a sorted list of best couples of vertices for shortest path\"\n",
    "    verticesCouples = []\n",
    "    for v,t in G.nodes():\n",
    "        if v == departure and t >= minDate:\n",
    "            for u,d in G.nodes():\n",
    "                if u == arrival and d <= maxDate and d-t >= 0:\n",
    "                    verticesCouples.append(((v,t), (u,d), d-t))\n",
    "    verticesCouples.sort(key=lambda x:x[-1])\n",
    "    return verticesCouples"
   ]
  },
  {
   "cell_type": "code",
   "execution_count": 262,
   "metadata": {},
   "outputs": [],
   "source": [
    "def fastestPath(G, departure, arrival, minDate, maxDate):\n",
    "    G = G.copy()\n",
    "    verticesCouples = shortestPathVertices(G, departure, arrival, minDate, maxDate)\n",
    "    for v,u,d in verticesCouples:   \n",
    "        predecessors = bfs(G, v)\n",
    "        if u in predecessors:\n",
    "            return buildPath(predecessors, u, v)\n",
    "        else:\n",
    "            for n in predecessors:\n",
    "                if n[0] != departure and n[0] != arrival:\n",
    "                    G.remove_node(n)\n",
    "    # We found no path\n",
    "    return None"
   ]
  },
  {
   "cell_type": "code",
   "execution_count": 263,
   "metadata": {
    "scrolled": false
   },
   "outputs": [
    {
     "name": "stdout",
     "output_type": "stream",
     "text": [
      "(['a', 'b'], 1, 2)\n",
      "(['a', 'b', 'f'], 2, 6)\n",
      "(['a', 'a'], 1, 1)\n"
     ]
    }
   ],
   "source": [
    "print(fastestPath(G,'a','b',1,10))\n",
    "print(fastestPath(G,'a','f',1,10))\n",
    "print(fastestPath(G,'a','a',1,10))"
   ]
  },
  {
   "cell_type": "markdown",
   "metadata": {},
   "source": [
    "### IV Plus court chemin\n",
    "*On utilise Dijkstra*"
   ]
  },
  {
   "cell_type": "code",
   "execution_count": 264,
   "metadata": {},
   "outputs": [],
   "source": [
    "def buildPathDijkstra(distance, path):\n",
    "    limit = len(path)\n",
    "    for i in range(1, len(path)):\n",
    "        if path[-i][0] == path[-(i+1)][0]:\n",
    "            limit -= 1\n",
    "        else:\n",
    "            break\n",
    "    \n",
    "    repetitions = set()\n",
    "    finalPath = []\n",
    "    for u in path:\n",
    "        if u[0] not in repetitions:\n",
    "            repetitions.add(u[0])\n",
    "            finalPath.append(u[0])\n",
    "            \n",
    "    return (finalPath, path[0][1], path[limit-1][1])"
   ]
  },
  {
   "cell_type": "code",
   "execution_count": 343,
   "metadata": {},
   "outputs": [],
   "source": [
    "def shortestPath(G, departure, arrival, vertices, minDate, maxDate):\n",
    "    \n",
    "    \n",
    "    dep = -1\n",
    "    arr = -1\n",
    "    # Get the proper departure and arrival vertices in G\n",
    "    if arrival not in vertices or departure not in vertices:\n",
    "        return None\n",
    "    for v in vertices[departure]:\n",
    "        if v[1] >= minDate:\n",
    "            dep = v\n",
    "            break\n",
    "    for u in vertices[arrival]:\n",
    "        if u[1] <= maxDate:\n",
    "            arr = u\n",
    "            break\n",
    "    \n",
    "    if dep == -1 or arr == -1:\n",
    "            return None\n",
    " \n",
    "    \n",
    "    v1,d1 = dep\n",
    "    v2,d2 = arr\n",
    "\n",
    "    if v1 == v2:\n",
    "        return (buildPathDijkstra(0, [dep]))\n",
    "    \n",
    "    dist = dict()\n",
    "    for i in G.nodes():\n",
    "        dist[i] = (float(\"Inf\"), -1)\n",
    "    dist[dep] = (0,-1)\n",
    "    \n",
    "    # Get distances \n",
    "    for u,v,w in G.edges(data='weight'):\n",
    "        d1, p1 = dist[u]\n",
    "        d2, p2 = dist[v]\n",
    "        if d1 != float(\"Inf\") and d1+w < d2:\n",
    "            dist[v] = (d1+w, u)\n",
    "    \n",
    "    d,p = dist[arr]\n",
    "    if d == float(\"Inf\"):\n",
    "        return None\n",
    "    \n",
    "    distance = d\n",
    "    # Get path\n",
    "    v = arr\n",
    "    path = [v]\n",
    "    while v != dep:\n",
    "        d, p = dist[v] \n",
    "        path = [p] + path\n",
    "        v = p\n",
    "        \n",
    "    return buildPathDijkstra(distance, path)"
   ]
  },
  {
   "cell_type": "code",
   "execution_count": 267,
   "metadata": {},
   "outputs": [
    {
     "name": "stdout",
     "output_type": "stream",
     "text": [
      "(['a', 'b', 'f'], 1, 6)\n"
     ]
    }
   ],
   "source": [
    "# Tests\n",
    "print(shortestPath(G, 'a', 'f', vertices, 1, 10))"
   ]
  },
  {
   "cell_type": "markdown",
   "metadata": {},
   "source": [
    "## Tests"
   ]
  },
  {
   "cell_type": "markdown",
   "metadata": {},
   "source": [
    "##### Temps d'exécution en fonction du nombre de sommets"
   ]
  },
  {
   "cell_type": "markdown",
   "metadata": {},
   "source": [
    "On souhaite conserver la proportion sommet-arc dans le graphe. Pour tout graphe à $n$ sommets, on aura (arbitrairement) $2n$ arcs. \n",
    "Et pour $n$ s'incrémentant, on crée un multigraphe et on applique les quatre algorithmes pour obtenir leur temps d'exécution. "
   ]
  },
  {
   "cell_type": "code",
   "execution_count": 318,
   "metadata": {},
   "outputs": [],
   "source": [
    "# fixed parameters\n",
    "l = 1\n",
    "\n",
    "n = 75\n",
    "repeat = 100\n",
    "\n",
    "minDate = 0\n",
    "maxDate = float('Inf')\n",
    "\n",
    "resultTime1 = np.zeros(n)\n",
    "resultTime2 = np.zeros(n)\n",
    "resultTime3 = np.zeros(n)\n",
    "resultTime4 = np.zeros(n)\n",
    "verticeNumber = np.zeros(n)"
   ]
  },
  {
   "cell_type": "code",
   "execution_count": 319,
   "metadata": {
    "scrolled": false
   },
   "outputs": [
    {
     "name": "stdout",
     "output_type": "stream",
     "text": [
      "0\n",
      "1\n",
      "2\n",
      "3\n",
      "4\n",
      "5\n",
      "6\n",
      "7\n",
      "8\n",
      "9\n",
      "10\n",
      "11\n",
      "12\n",
      "13\n",
      "14\n",
      "15\n",
      "16\n",
      "17\n",
      "18\n",
      "19\n",
      "20\n",
      "21\n",
      "22\n",
      "23\n",
      "24\n",
      "25\n",
      "26\n",
      "27\n",
      "28\n",
      "29\n",
      "30\n",
      "31\n",
      "32\n",
      "33\n",
      "34\n",
      "35\n",
      "36\n",
      "37\n",
      "38\n",
      "39\n",
      "40\n",
      "41\n",
      "42\n",
      "43\n",
      "44\n",
      "45\n",
      "46\n",
      "47\n",
      "48\n",
      "49\n",
      "50\n",
      "51\n",
      "52\n",
      "53\n",
      "54\n",
      "55\n",
      "56\n",
      "57\n",
      "58\n",
      "59\n",
      "60\n",
      "61\n",
      "62\n",
      "63\n",
      "64\n",
      "65\n",
      "66\n",
      "67\n",
      "68\n",
      "69\n",
      "70\n",
      "71\n",
      "72\n",
      "73\n",
      "74\n",
      "75\n",
      "76\n",
      "77\n",
      "78\n",
      "79\n",
      "80\n",
      "81\n",
      "82\n",
      "83\n",
      "84\n",
      "85\n",
      "86\n",
      "87\n",
      "88\n",
      "89\n",
      "90\n",
      "91\n",
      "92\n",
      "93\n",
      "94\n",
      "95\n",
      "96\n",
      "97\n",
      "98\n",
      "99\n"
     ]
    }
   ],
   "source": [
    "# Harvest results\n",
    "for j in range(repeat):\n",
    "    print(j)\n",
    "    for i in range(1,n+1,1):\n",
    "        verticeNumber[i-1] = i\n",
    "        # MG & G generation\n",
    "        MGtest = createMultiGraph(i, 2*i, l)\n",
    "        Gtest = createGraphFromMultiGraph(MGtest) \n",
    "        \n",
    "        # Algorithms\n",
    "        t0 = time.time()\n",
    "        sortedVertices = sortVertices(Gtest)\n",
    "        sortingTime = time.time() - t0\n",
    "\n",
    "        if sortedVertices == {}:\n",
    "            continue\n",
    "        # 1\n",
    "        t1 = time.time()\n",
    "        earliestArrivalPath(Gtest, sortedVertices['1'][0][0], sortedVertices[str(i-1)][0][0], sortedVertices, minDate, maxDate)\n",
    "        resultTime1[i-1] += time.time() - t1  + sortingTime\n",
    "\n",
    "        # 2\n",
    "        t2 = time.time()\n",
    "        latestDeparturePath(Gtest,sortedVertices['1'][0][0], sortedVertices[str(i-1)][0][0], sortedVertices, minDate, maxDate)\n",
    "        resultTime2[i-1] += time.time() - t2  + sortingTime\n",
    "\n",
    "        # 3\n",
    "        t3 = time.time()\n",
    "        fastestPath(Gtest,sortedVertices['1'][0][0], sortedVertices[str(i-1)][0][0], minDate, maxDate)\n",
    "        resultTime3[i-1] += time.time() - t3  + sortingTime\n",
    "        # 4\n",
    "        t4 = time.time()\n",
    "        shortestPath(Gtest, sortedVertices['1'][0][0], sortedVertices[str(i-1)][0][0], sortedVertices, minDate, maxDate)\n",
    "        resultTime4[i-1] += time.time() - t4 "
   ]
  },
  {
   "cell_type": "code",
   "execution_count": 320,
   "metadata": {},
   "outputs": [],
   "source": [
    "resultTime1 /= repeat\n",
    "resultTime2 /= repeat\n",
    "resultTime3 /= repeat\n",
    "resultTime4 /= repeat"
   ]
  },
  {
   "cell_type": "code",
   "execution_count": 322,
   "metadata": {},
   "outputs": [
    {
     "data": {
      "image/png": "[encoded data removed]",
      "text/plain": [
       "<Figure size 432x288 with 1 Axes>"
      ]
     },
     "metadata": {
      "needs_background": "light"
     },
     "output_type": "display_data"
    },
    {
     "data": {
      "image/png": "[encoded data removed]",
      "text/plain": [
       "<Figure size 432x288 with 1 Axes>"
      ]
     },
     "metadata": {
      "needs_background": "light"
     },
     "output_type": "display_data"
    }
   ],
   "source": [
    "# Display results\n",
    "fig, ax = plt.subplots()\n",
    "l1 = ax.plot(verticeNumber, resultTime1, linewidth=2.0, label='Earliest Arrival')\n",
    "l3 = ax.plot(verticeNumber, resultTime3, linewidth=2.0, label='Fastest')\n",
    "l2 = ax.plot(verticeNumber, resultTime2, linewidth=2.0, label='Latest Departure')\n",
    "legend = ax.legend(loc='upper left', shadow=True)\n",
    "plt.show()\n",
    "\n",
    "\n",
    "fig, ax = plt.subplots()\n",
    "l4 = ax.plot(verticeNumber, resultTime4, linewidth=2.0, label='Shortest')\n",
    "legend = ax.legend(loc='upper left', shadow=True)\n",
    "plt.show()"
   ]
  },
  {
   "cell_type": "code",
   "execution_count": 326,
   "metadata": {},
   "outputs": [
    {
     "name": "stdout",
     "output_type": "stream",
     "text": [
      "1.0758735038138726e-05\n",
      "3.7225839254018424e-06\n"
     ]
    }
   ],
   "source": [
    "# calcul des coefficients directeurs\n",
    "divisor = verticeNumber[-1] - verticeNumber[0]\n",
    "print((resultTime1[-1] - resultTime1[0]) / divisor)\n",
    "print((resultTime4[-1] - resultTime4[0]) / divisor)"
   ]
  },
  {
   "cell_type": "code",
   "execution_count": 329,
   "metadata": {},
   "outputs": [
    {
     "name": "stderr",
     "output_type": "stream",
     "text": [
      "/tmp/ipykernel_4353/2184344844.py:2: RuntimeWarning: divide by zero encountered in log\n",
      "  logres1 = np.log(resultTime1)\n",
      "/tmp/ipykernel_4353/2184344844.py:3: RuntimeWarning: divide by zero encountered in log\n",
      "  logres2 = np.log(resultTime2)\n",
      "/tmp/ipykernel_4353/2184344844.py:4: RuntimeWarning: divide by zero encountered in log\n",
      "  logres3 = np.log(resultTime3)\n",
      "/tmp/ipykernel_4353/2184344844.py:5: RuntimeWarning: divide by zero encountered in log\n",
      "  logres4 = np.log(resultTime4)\n"
     ]
    },
    {
     "data": {
      "image/png": "[encoded data removed]",
      "text/plain": [
       "<Figure size 432x288 with 1 Axes>"
      ]
     },
     "metadata": {
      "needs_background": "light"
     },
     "output_type": "display_data"
    },
    {
     "name": "stderr",
     "output_type": "stream",
     "text": [
      "/tmp/ipykernel_4353/2184344844.py:18: RuntimeWarning: invalid value encountered in true_divide\n",
      "  l4 = ax.plot(verticeNumber, resultTime4/logvertice, linewidth=2.0, label='Shortest')\n"
     ]
    },
    {
     "data": {
      "image/png": "[encoded data removed]",
      "text/plain": [
       "<Figure size 432x288 with 1 Axes>"
      ]
     },
     "metadata": {
      "needs_background": "light"
     },
     "output_type": "display_data"
    }
   ],
   "source": [
    "logvertice = np.log(verticeNumber)\n",
    "logres1 = np.log(resultTime1)\n",
    "logres2 = np.log(resultTime2)\n",
    "logres3 = np.log(resultTime3)\n",
    "logres4 = np.log(resultTime4)\n",
    "\n",
    "\n",
    "fig, ax = plt.subplots()\n",
    "l1 = ax.plot(logvertice, logres1, linewidth=2.0, label='Earliest Arrival')\n",
    "l3 = ax.plot(logvertice, logres3, linewidth=2.0, label='Fastest')\n",
    "l2 = ax.plot(logvertice, logres2, linewidth=2.0, label='Latest Departure')\n",
    "l4 = ax.plot(logvertice, logres4, linewidth=2.0, label='Shortest')\n",
    "legend = ax.legend(loc='upper left', shadow=True)\n",
    "plt.show()\n",
    "\n",
    "\n",
    "fig, ax = plt.subplots()\n",
    "l4 = ax.plot(verticeNumber, resultTime4/logvertice, linewidth=2.0, label='Shortest')\n",
    "legend = ax.legend(loc='upper left', shadow=True)\n",
    "plt.show()\n",
    "\n"
   ]
  },
  {
   "cell_type": "code",
   "execution_count": 328,
   "metadata": {},
   "outputs": [
    {
     "name": "stdout",
     "output_type": "stream",
     "text": [
      "1.0219429694818567\n",
      "0.9054619374332457\n"
     ]
    }
   ],
   "source": [
    "# calcul des coefficients directeurs\n",
    "divisor = logvertice[-1] - logvertice[10]\n",
    "print((logres1[-1] - logres1[10]) / divisor)\n",
    "print((logres4[-1] - logres4[10]) / divisor)"
   ]
  },
  {
   "cell_type": "markdown",
   "metadata": {},
   "source": [
    "**Les trois premiers algorithmes sont bien linéaires, le quatrième est borné inférieurement par $\\Omega (n^{0.9})$**"
   ]
  },
  {
   "cell_type": "markdown",
   "metadata": {},
   "source": [
    "##### Temps d'exécution en fonction du nombre d'arcs"
   ]
  },
  {
   "cell_type": "markdown",
   "metadata": {},
   "source": [
    "On fixe le nombre de sommets à 50 (choix arbitraire) et on fait varier le nombre d'arcs de 50 à 200."
   ]
  },
  {
   "cell_type": "code",
   "execution_count": 373,
   "metadata": {},
   "outputs": [],
   "source": [
    "# fixed parameters\n",
    "n = 10\n",
    "l = 1\n",
    "\n",
    "repeat = 100\n",
    "maxE = 100\n",
    "minE = 50\n",
    "\n",
    "size = maxE - minE +1\n",
    "\n",
    "minDate = 0\n",
    "maxDate = float('Inf')\n",
    "\n",
    "\n",
    "resultTime1 = np.zeros(size)\n",
    "resultTime2 = np.zeros(size)\n",
    "resultTime3 = np.zeros(size)\n",
    "resultTime4 = np.zeros(size)\n",
    "verticeNumber = np.zeros(size)"
   ]
  },
  {
   "cell_type": "code",
   "execution_count": 374,
   "metadata": {},
   "outputs": [
    {
     "name": "stdout",
     "output_type": "stream",
     "text": [
      "0\n",
      "1\n",
      "2\n",
      "3\n",
      "4\n",
      "5\n",
      "6\n",
      "7\n",
      "8\n",
      "9\n",
      "10\n",
      "11\n",
      "12\n",
      "13\n",
      "14\n",
      "15\n",
      "16\n",
      "17\n",
      "18\n",
      "19\n",
      "20\n",
      "21\n",
      "22\n",
      "23\n",
      "24\n",
      "25\n",
      "26\n",
      "27\n",
      "28\n",
      "29\n",
      "30\n",
      "31\n",
      "32\n",
      "33\n",
      "34\n",
      "35\n",
      "36\n",
      "37\n",
      "38\n",
      "39\n",
      "40\n",
      "41\n",
      "42\n",
      "43\n",
      "44\n",
      "45\n",
      "46\n",
      "47\n",
      "48\n",
      "49\n",
      "50\n",
      "51\n",
      "52\n",
      "53\n",
      "54\n",
      "55\n",
      "56\n",
      "57\n",
      "58\n",
      "59\n",
      "60\n",
      "61\n",
      "62\n",
      "63\n",
      "64\n",
      "65\n",
      "66\n",
      "67\n",
      "68\n",
      "69\n",
      "70\n",
      "71\n",
      "72\n",
      "73\n",
      "74\n",
      "75\n",
      "76\n",
      "77\n",
      "78\n",
      "79\n",
      "80\n",
      "81\n",
      "82\n",
      "83\n",
      "84\n",
      "85\n",
      "86\n",
      "87\n",
      "88\n",
      "89\n",
      "90\n",
      "91\n",
      "92\n",
      "93\n",
      "94\n",
      "95\n",
      "96\n",
      "97\n",
      "98\n",
      "99\n"
     ]
    }
   ],
   "source": [
    "# Harvest results\n",
    "for j in range(repeat):\n",
    "    print(j)\n",
    "    for i in range(minE,maxE+1,1):\n",
    "        verticeNumber[i-minE] = i  \n",
    "        # MG & G generation\n",
    "        MGtest = createMultiGraph(v, i, l)\n",
    "        Gtest = createGraphFromMultiGraph(MGtest) \n",
    "        nodes = list(MGtest.nodes())\n",
    "           # Algorithms\n",
    "        t0 = time.time()\n",
    "        sortedVertices = sortVertices(Gtest)\n",
    "        sortingTime = time.time() - t0\n",
    "\n",
    "        if sortedVertices == {}:\n",
    "            continue\n",
    "        # 1\n",
    "        t1 = time.time()\n",
    "        earliestArrivalPath(Gtest, sortedVertices['1'][0][0], nodes[v-1], sortedVertices, minDate, maxDate)\n",
    "        resultTime1[i-minE] += time.time() - t1  + sortingTime\n",
    "\n",
    "        # 2\n",
    "        t2 = time.time()\n",
    "        latestDeparturePath(Gtest,sortedVertices['1'][0][0], nodes[v-1], sortedVertices, minDate, maxDate)\n",
    "        resultTime2[i-minE] += time.time() - t2  + sortingTime\n",
    "\n",
    "        # 3\n",
    "        t3 = time.time()\n",
    "        fastestPath(Gtest,sortedVertices['1'][0][0], nodes[v-1], minDate, maxDate)\n",
    "        resultTime3[i-minE] += time.time() - t3  + sortingTime\n",
    "        # 4\n",
    "        t4 = time.time()\n",
    "        shortestPath(Gtest, sortedVertices['1'][0][0], nodes[v-1], sortedVertices, minDate, maxDate)\n",
    "        resultTime4[i-minE] += time.time() - t4 "
   ]
  },
  {
   "cell_type": "code",
   "execution_count": 375,
   "metadata": {},
   "outputs": [],
   "source": [
    "resultTime1 /= repeat\n",
    "resultTime2 /= repeat\n",
    "resultTime3 /= repeat\n",
    "resultTime4 /= repeat"
   ]
  },
  {
   "cell_type": "code",
   "execution_count": 376,
   "metadata": {},
   "outputs": [
    {
     "data": {
      "image/png": "[encoded data removed]",
      "text/plain": [
       "<Figure size 432x288 with 1 Axes>"
      ]
     },
     "metadata": {
      "needs_background": "light"
     },
     "output_type": "display_data"
    },
    {
     "data": {
      "image/png": "[encoded data removed]",
      "text/plain": [
       "<Figure size 432x288 with 1 Axes>"
      ]
     },
     "metadata": {
      "needs_background": "light"
     },
     "output_type": "display_data"
    }
   ],
   "source": [
    "# Display results\n",
    "fig, ax = plt.subplots()\n",
    "l1 = ax.plot(verticeNumber, resultTime1, linewidth=2.0, label='Earliest Arrival')\n",
    "l3 = ax.plot(verticeNumber, resultTime3, linewidth=2.0, label='Fastest')\n",
    "l2 = ax.plot(verticeNumber, resultTime2, linewidth=2.0, label='Latest Departure')\n",
    "legend = ax.legend(loc='upper left', shadow=True)\n",
    "plt.show()\n",
    "\n",
    "fig, ax = plt.subplots()\n",
    "l4 = ax.plot(verticeNumber, resultTime4, linewidth=2.0, label='Shortest')\n",
    "legend = ax.legend(loc='upper left', shadow=True)\n",
    "plt.show()"
   ]
  },
  {
   "cell_type": "markdown",
   "metadata": {},
   "source": [
    "##### Temps d'exécution en fonction de la durée des trajets\n",
    "\n",
    "Théoriquement, la durée des trajets n'influe pas sur la complexité de nos quatre algorithmes."
   ]
  },
  {
   "cell_type": "code",
   "execution_count": 454,
   "metadata": {},
   "outputs": [],
   "source": [
    "# fixed parameters\n",
    "v = 20\n",
    "p = 1\n",
    "\n",
    "n = 20\n",
    "repeat = 50"
   ]
  },
  {
   "cell_type": "code",
   "execution_count": 455,
   "metadata": {},
   "outputs": [],
   "source": [
    "# Harvest results\n",
    "for j in range(repeat):\n",
    "    for i in range(5,n+1,1):\n",
    "        verticeNumber[i-5] = i\n",
    "        # MG & G generation\n",
    "        MGtest = createMultiGraph(v, p, i)\n",
    "        Gtest = createGraphFromMultiGraph(MGtest) \n",
    "        nodes = list(MG.nodes())\n",
    "\n",
    "\n",
    "        # Algorithms\n",
    "        t0 = time.time()\n",
    "        sortedVertices = sortVertices(Gtest)\n",
    "        sortingTime = time.time() - t0\n",
    "\n",
    "        if sortedVertices == {}:\n",
    "            continue\n",
    "        # 1\n",
    "        t1 = time.time()\n",
    "        earliestArrivalPath(Gtest, sortedVertices[1][0][0], sortedVertices[v-1][0][0], sortedVertices)\n",
    "        resultTime1[i-5] += time.time() - t1  + sortingTime\n",
    "\n",
    "        # 2\n",
    "        t2 = time.time()\n",
    "        latestDeparturePath(Gtest,sortedVertices[1][0][0], sortedVertices[v-1][0][0], sortedVertices, v*10)\n",
    "        resultTime2[i-5] += time.time() - t2  + sortingTime\n",
    "\n",
    "        # 3\n",
    "        t3 = time.time()\n",
    "        fastestPath(Gtest,sortedVertices[1][0][0], sortedVertices[v-1][0][0])\n",
    "        resultTime3[i-5] += time.time() - t3  + sortingTime\n",
    "        # 4\n",
    "        t4 = time.time()\n",
    "        shortestPath(Gtest, sortedVertices[1][0][0], sortedVertices[v-1][0][0], sortedVertices)\n",
    "        resultTime4[i-5] += time.time() - t4 "
   ]
  },
  {
   "cell_type": "code",
   "execution_count": 456,
   "metadata": {},
   "outputs": [],
   "source": [
    "resultTime1 /= repeat\n",
    "resultTime2 /= repeat\n",
    "resultTime3 /= repeat\n",
    "resultTime4 /= repeat"
   ]
  },
  {
   "cell_type": "code",
   "execution_count": 457,
   "metadata": {},
   "outputs": [
    {
     "data": {
      "image/png": "[encoded data removed]",
      "text/plain": [
       "<Figure size 432x288 with 1 Axes>"
      ]
     },
     "metadata": {
      "needs_background": "light"
     },
     "output_type": "display_data"
    }
   ],
   "source": [
    "# Display results\n",
    "fig, ax = plt.subplots()\n",
    "l1 = ax.plot(verticeNumber, resultTime1, linewidth=2.0, label='Earliest Arrival')\n",
    "l3 = ax.plot(verticeNumber, resultTime3, linewidth=2.0, label='Fastest')\n",
    "l2 = ax.plot(verticeNumber, resultTime2, linewidth=2.0, label='Latest Departure')\n",
    "l4 = ax.plot(verticeNumber, resultTime4, linewidth=2.0, label='Shortest')\n",
    "legend = ax.legend(loc='center left', shadow=True)\n",
    "plt.show()"
   ]
  },
  {
   "cell_type": "markdown",
   "metadata": {},
   "source": [
    "## Chercher le plus court chemin par progammation linéaire en faisant appel à Gurobi"
   ]
  },
  {
   "cell_type": "markdown",
   "metadata": {},
   "source": [
    "#### Implantation"
   ]
  },
  {
   "cell_type": "code",
   "execution_count": 458,
   "metadata": {},
   "outputs": [],
   "source": [
    "import gurobipy as gp\n",
    "\n",
    "def shortestPathLP(G, departure, arrival, alpha=-float(\"Inf\"), omega=float(\"Inf\")):\n",
    "    # gurobi model\n",
    "    with gp.Env(empty=True) as env:\n",
    "        # Remove gurobi output log\n",
    "        env.setParam('OutputFlag', 0)\n",
    "        env.start()\n",
    "        with gp.Model(env=env) as m:\n",
    "            list_edges = list(G.edges(data=True))\n",
    "            nb_edge = len(list_edges)\n",
    "            \n",
    "            # decision variables\n",
    "            x = []\n",
    "            for i in range(len(list_edges)):\n",
    "                x.append(m.addVar(vtype=gp.GRB.BINARY, lb=0, name=f\"x{i}\"))\n",
    "            \n",
    "            # update model\n",
    "            m.update()\n",
    "\n",
    "            # define objectif function\n",
    "            obj_func = gp.LinExpr()\n",
    "            obj_func = 0\n",
    "            for i in range(len(list_edges)):\n",
    "                obj_func += list_edges[i][2][\"weight\"] * x[i]\n",
    "\n",
    "            m.setObjective(obj_func, gp.GRB.MINIMIZE)\n",
    "\n",
    "            # define constraints\n",
    "            for node in G.nodes():\n",
    "                # Number of edge in = number of edge out \n",
    "                if node[0] != departure and node[0] != arrival:\n",
    "                    in_edge_index = [i for i in range(nb_edge) if list_edges[i][1] == node]\n",
    "                    out_edge_index = [i for i in range(nb_edge) if list_edges[i][0] == node]\n",
    "                    m.addConstr(gp.quicksum(x[i] for i in in_edge_index) - gp.quicksum(x[i] for i in out_edge_index) == 0, f\"Constraint for node {node}\")\n",
    "                # No edge enter departure node, no edge get out departure node before alpha\n",
    "                elif node[0] == departure:\n",
    "                    in_edge_index = [i for i in range(nb_edge) if list_edges[i][1] == node]\n",
    "                    out_edge_before_alpha_index = [i for i in range(nb_edge) if list_edges[i][0] == node and node[1] < alpha]\n",
    "                    edge_index = in_edge_index + out_edge_before_alpha_index\n",
    "                    if edge_index:\n",
    "                        m.addConstrs((x[i] == 0 for i in in_edge_index + out_edge_before_alpha_index), f\"Constraint for node {node}\")\n",
    "                # No edge get out arrival node, no edge enter arrival node after omega\n",
    "                elif node[0] == arrival:\n",
    "                    out_edge_index = [i for i in range(nb_edge) if list_edges[i][0] == node]\n",
    "                    in_edge_after_omega_index = [i for i in range(nb_edge) if list_edges[i][1] == node and node[1] > omega]\n",
    "                    edge_index = out_edge_index + in_edge_after_omega_index\n",
    "                    # print(edge_index)\n",
    "                    if edge_index:\n",
    "                        m.addConstrs((x[i] == 0 for i in edge_index), f\"Constraint for node {node}\")\n",
    "\n",
    "            # No edge between departure node\n",
    "            edges_between_departure_node_index = [i for i in range(nb_edge) if list_edges[i][0][0] == departure and list_edges[i][1][0] == departure]\n",
    "            if edges_between_departure_node_index:\n",
    "                m.addConstrs((x[i] == 0 for i in edges_between_departure_node_index), f\"Constraint for departure node\")\n",
    "\n",
    "            # No edge between arrival node\n",
    "            edges_between_arrival_node_index = [i for i in range(nb_edge) if list_edges[i][0][0] == arrival and list_edges[i][1][0] == arrival]\n",
    "            if edges_between_arrival_node_index:\n",
    "                m.addConstrs((x[i] == 0 for i in edges_between_arrival_node_index), f\"Constraint for arrival node\")\n",
    "\n",
    "            # There is one edge that get out of set of departure node\n",
    "            out_departure_node_index = [i for i in range(nb_edge) if list_edges[i][0][0] == departure and list_edges[i][0][0] > alpha]\n",
    "            m.addConstr(gp.quicksum(x[i] for i in out_departure_node_index) == 1, f\"Constraint on edge getting out of the departure node\")\n",
    "\n",
    "            # There is one edge enter set of arrival node\n",
    "            in_arrival_node_index = [i for i in range(nb_edge) if list_edges[i][1][0] == arrival and list_edges[i][1][1] < omega]\n",
    "            m.addConstr(gp.quicksum(x[i] for i in in_arrival_node_index) == 1, f\"Constraint on edge entering arrival node\")\n",
    "\n",
    "            # Resolution\n",
    "            m.optimize()\n",
    "            # print(m.display())\n",
    "            # Return path\n",
    "            path = []\n",
    "            for i in range(nb_edge):\n",
    "                if x[i].x == 1:\n",
    "                    path.append(list_edges[i])\n",
    "\n",
    "            return path"
   ]
  },
  {
   "cell_type": "markdown",
   "metadata": {},
   "source": [
    "#### Tester sur instance de ce graph:\n",
    "![graphe pour tester la méthode de chercher le plus court chemin par PL](graphe2.png)"
   ]
  },
  {
   "cell_type": "code",
   "execution_count": 459,
   "metadata": {},
   "outputs": [
    {
     "name": "stdout",
     "output_type": "stream",
     "text": [
      "Plus court chemin de a (1) vers l (10): [((1, 3), (4, 4), {'weight': 1}), ((4, 4), (4, 5), {'weight': 0}), ((4, 5), (7, 6), {'weight': 1}), ((7, 6), (7, 8), {'weight': 0}), ((7, 8), (7, 9), {'weight': 0}), ((7, 9), (10, 10), {'weight': 1})]\n"
     ]
    }
   ],
   "source": [
    "G2 = createGraphFromMultiGraph(createGraphFromFile(\"graphe2.txt\"))\n",
    "print(f\"Plus court chemin de a (1) vers l (10): {shortestPathLP(G2, 1, 10)}\")"
   ]
  },
  {
   "cell_type": "markdown",
   "metadata": {},
   "source": [
    "## Comparaison entre PL et l'algorithme implanté dans la partie précédent"
   ]
  },
  {
   "cell_type": "markdown",
   "metadata": {},
   "source": [
    "#### Temps d'exécution en fonction de nombre de sommets"
   ]
  },
  {
   "cell_type": "markdown",
   "metadata": {},
   "source": [
    "##### Recording the results"
   ]
  },
  {
   "cell_type": "code",
   "execution_count": 460,
   "metadata": {},
   "outputs": [],
   "source": [
    "# fixed parameters\n",
    "# the probability used for the random generation of the graphs\n",
    "p = 1\n",
    "# duration of a flights\n",
    "l = 1\n",
    "# maximum number of vertices\n",
    "n = 100\n",
    "# number of repetition our test\n",
    "repeat = 10\n",
    "\n",
    "# The results will be store in numpy array\n",
    "resultTimeLP = np.zeros(n)\n",
    "resultTimeAlgo = np.zeros(n)\n",
    "verticeNumber = np.zeros(n)\n",
    "\n",
    "# Recording result\n",
    "for j in range(repeat):\n",
    "    for i in range(1,n+1,1):\n",
    "        verticeNumber[i-1] = i\n",
    "        # MG & G generation\n",
    "        MGtest = createMultiGraph(i, p, l)\n",
    "        Gtest = createGraphFromMultiGraph(MGtest) \n",
    "        nodes = list(MG.nodes())\n",
    "\n",
    "\n",
    "        # Algorithms\n",
    "        t0 = time.time()\n",
    "        sortedVertices = sortVertices(Gtest)\n",
    "        sortingTime = time.time() - t0\n",
    "\n",
    "        if sortedVertices == {}:\n",
    "            continue\n",
    "        # Our algorithm\n",
    "        t1 = time.time()\n",
    "        shortestPath(Gtest, sortedVertices[1][0][0], sortedVertices[i-1][0][0], sortedVertices)\n",
    "        resultTimeAlgo[i-1] += time.time() - t1  + sortingTime\n",
    "\n",
    "        # PL\n",
    "        t2 = time.time()\n",
    "        shortestPathLP(Gtest,sortedVertices[1][0][0], sortedVertices[i-1][0][0])\n",
    "        resultTimeLP[i-1] += time.time() - t2  + sortingTime\n",
    "\n",
    "resultTimeAlgo /= repeat\n",
    "resultTimeLP /= repeat"
   ]
  },
  {
   "cell_type": "markdown",
   "metadata": {},
   "source": [
    "##### Plotting the curves\n"
   ]
  },
  {
   "cell_type": "code",
   "execution_count": 461,
   "metadata": {},
   "outputs": [
    {
     "data": {
      "image/png": "[encoded data removed]",
      "text/plain": [
       "<Figure size 432x288 with 1 Axes>"
      ]
     },
     "metadata": {
      "needs_background": "light"
     },
     "output_type": "display_data"
    }
   ],
   "source": [
    "plt.plot(verticeNumber, resultTimeLP, label=\"Linear Programming\")\n",
    "plt.plot(verticeNumber, resultTimeAlgo, label=\"Our algorithm\")\n",
    "plt.title(\"Comparaison between LP and our algorithm\")\n",
    "plt.xlabel(\"Number of vertices\")\n",
    "plt.ylabel(\"Execution time\")\n",
    "plt.legend()\n",
    "plt.show()"
   ]
  },
  {
   "cell_type": "markdown",
   "metadata": {},
   "source": [
    "##### In logarithmic scale"
   ]
  },
  {
   "cell_type": "code",
   "execution_count": 462,
   "metadata": {},
   "outputs": [
    {
     "name": "stderr",
     "output_type": "stream",
     "text": [
      "/tmp/ipykernel_5910/1838344349.py:1: RuntimeWarning: divide by zero encountered in log\n",
      "  log_resultTimeLP = np.log(resultTimeLP)\n",
      "/tmp/ipykernel_5910/1838344349.py:2: RuntimeWarning: divide by zero encountered in log\n",
      "  log_resultTimeAlgo = np.log(resultTimeAlgo)\n"
     ]
    },
    {
     "data": {
      "image/png": "[encoded data removed]",
      "text/plain": [
       "<Figure size 432x288 with 1 Axes>"
      ]
     },
     "metadata": {
      "needs_background": "light"
     },
     "output_type": "display_data"
    }
   ],
   "source": [
    "log_resultTimeLP = np.log(resultTimeLP)\n",
    "log_resultTimeAlgo = np.log(resultTimeAlgo)\n",
    "log_verticeNumber = np.log(verticeNumber)\n",
    "plt.plot(log_verticeNumber, log_resultTimeLP, label=\"Linear Programming\")\n",
    "plt.plot(log_verticeNumber, log_resultTimeAlgo, label=\"Our algorithm\")\n",
    "plt.title(\"Comparaison between LP and our algorithm\")\n",
    "plt.xlabel(\"Log of number of vertices\")\n",
    "plt.ylabel(\"Log of execution time\")\n",
    "plt.legend()\n",
    "plt.show()\n"
   ]
  },
  {
   "cell_type": "markdown",
   "metadata": {},
   "source": [
    "#### Temps d'exécution en fonction de la probabilité d'apparition des arètes"
   ]
  },
  {
   "cell_type": "markdown",
   "metadata": {},
   "source": [
    "##### Enregistrer les résultats\n",
    "- On fixe le nombre de sommets à 50 et on fait varier p de 0.1 à 1"
   ]
  },
  {
   "cell_type": "code",
   "execution_count": 465,
   "metadata": {},
   "outputs": [
    {
     "name": "stdout",
     "output_type": "stream",
     "text": [
      "{8: [(8, 17)], 9: [(9, 18)], 17: [(17, 36)], 19: [(19, 37)], 27: [(27, 56)], 29: [(29, 57)], 43: [(43, 87)], 44: [(44, 88)], 45: [(45, 92)], 47: [(47, 93)]}\n"
     ]
    },
    {
     "ename": "KeyError",
     "evalue": "1",
     "output_type": "error",
     "traceback": [
      "\u001b[0;31m---------------------------------------------------------------------------\u001b[0m",
      "\u001b[0;31mKeyError\u001b[0m                                  Traceback (most recent call last)",
      "\u001b[0;32m/tmp/ipykernel_5910/365696656.py\u001b[0m in \u001b[0;36m<module>\u001b[0;34m\u001b[0m\n\u001b[1;32m     31\u001b[0m         \u001b[0;31m# Our algo\u001b[0m\u001b[0;34m\u001b[0m\u001b[0;34m\u001b[0m\u001b[0;34m\u001b[0m\u001b[0m\n\u001b[1;32m     32\u001b[0m         \u001b[0mt1\u001b[0m \u001b[0;34m=\u001b[0m \u001b[0mtime\u001b[0m\u001b[0;34m.\u001b[0m\u001b[0mtime\u001b[0m\u001b[0;34m(\u001b[0m\u001b[0;34m)\u001b[0m\u001b[0;34m\u001b[0m\u001b[0;34m\u001b[0m\u001b[0m\n\u001b[0;32m---> 33\u001b[0;31m         \u001b[0mshortestPath\u001b[0m\u001b[0;34m(\u001b[0m\u001b[0mGtest\u001b[0m\u001b[0;34m,\u001b[0m \u001b[0msortedVertices\u001b[0m\u001b[0;34m[\u001b[0m\u001b[0;36m1\u001b[0m\u001b[0;34m]\u001b[0m\u001b[0;34m[\u001b[0m\u001b[0;36m0\u001b[0m\u001b[0;34m]\u001b[0m\u001b[0;34m[\u001b[0m\u001b[0;36m0\u001b[0m\u001b[0;34m]\u001b[0m\u001b[0;34m,\u001b[0m \u001b[0msortedVertices\u001b[0m\u001b[0;34m[\u001b[0m\u001b[0mv\u001b[0m\u001b[0;34m-\u001b[0m\u001b[0;36m1\u001b[0m\u001b[0;34m]\u001b[0m\u001b[0;34m[\u001b[0m\u001b[0;36m0\u001b[0m\u001b[0;34m]\u001b[0m\u001b[0;34m[\u001b[0m\u001b[0;36m0\u001b[0m\u001b[0;34m]\u001b[0m\u001b[0;34m,\u001b[0m \u001b[0msortedVertices\u001b[0m\u001b[0;34m)\u001b[0m\u001b[0;34m\u001b[0m\u001b[0;34m\u001b[0m\u001b[0m\n\u001b[0m\u001b[1;32m     34\u001b[0m         \u001b[0mresultTimeAlgo\u001b[0m\u001b[0;34m[\u001b[0m\u001b[0mi\u001b[0m\u001b[0;34m-\u001b[0m\u001b[0;36m1\u001b[0m\u001b[0;34m]\u001b[0m \u001b[0;34m+=\u001b[0m \u001b[0mtime\u001b[0m\u001b[0;34m.\u001b[0m\u001b[0mtime\u001b[0m\u001b[0;34m(\u001b[0m\u001b[0;34m)\u001b[0m \u001b[0;34m-\u001b[0m \u001b[0mt1\u001b[0m \u001b[0;34m+\u001b[0m \u001b[0msortingTime\u001b[0m\u001b[0;34m\u001b[0m\u001b[0;34m\u001b[0m\u001b[0m\n\u001b[1;32m     35\u001b[0m \u001b[0;34m\u001b[0m\u001b[0m\n",
      "\u001b[0;31mKeyError\u001b[0m: 1"
     ]
    }
   ],
   "source": [
    "# fixed parameters\n",
    "# Number of vertices\n",
    "v = 50\n",
    "# Duration\n",
    "l = 1\n",
    "# Number of repetition\n",
    "repeat = 100\n",
    "n = 10\n",
    "resultTimeLP = np.zeros(n)\n",
    "resultTimeAlgo = np.zeros(n)\n",
    "pb_arc = np.zeros(n)\n",
    "\n",
    "for j in range(repeat):\n",
    "    for i in range(1,11,1):\n",
    "        p = i/10\n",
    "        pb_arc[i-1] = p\n",
    "        # MG & G generation\n",
    "        MGtest = createMultiGraph(v, p, l)\n",
    "        Gtest = createGraphFromMultiGraph(MGtest) \n",
    "        nodes = list(MG.nodes())\n",
    "\n",
    "\n",
    "        # Algorithms\n",
    "        t0 = time.time()\n",
    "        sortedVertices = sortVertices(Gtest)\n",
    "        sortingTime = time.time() - t0\n",
    "\n",
    "        if sortedVertices == {}:\n",
    "            continue\n",
    "        print(sortedVertices)\n",
    "        # Our algo\n",
    "        t1 = time.time()\n",
    "        shortestPath(Gtest, sortedVertices[1][0][0], sortedVertices[v-1][0][0], sortedVertices)\n",
    "        resultTimeAlgo[i-1] += time.time() - t1 + sortingTime\n",
    "\n",
    "        # LP\n",
    "        # PL\n",
    "        t2 = time.time()\n",
    "        shortestPathLP(Gtest,sortedVertices[1][0][0], sortedVertices[i-1][0][0])\n",
    "        resultTimeLP[i-1] += time.time() - t2\n",
    "\n",
    "resultTimeAlgo /= repeat\n",
    "resultTimeLP /= repeat\n",
    "\n",
    "resultTimeAlgo = np.log(resultTimeAlgo)\n",
    "resultTimeLP = np.log(resultTimeLP)\n",
    "print(pb_arc)\n",
    "pb_arc = np.log(pb_arc)"
   ]
  },
  {
   "cell_type": "markdown",
   "metadata": {},
   "source": [
    "##### Plotting the curves"
   ]
  },
  {
   "cell_type": "code",
   "execution_count": null,
   "metadata": {},
   "outputs": [
    {
     "name": "stdout",
     "output_type": "stream",
     "text": [
      "[-inf -inf -inf -inf -inf -inf -inf -inf -inf   0.]\n"
     ]
    },
    {
     "data": {
      "image/png": "[encoded data removed]",
      "text/plain": [
       "<Figure size 432x288 with 1 Axes>"
      ]
     },
     "metadata": {
      "needs_background": "light"
     },
     "output_type": "display_data"
    }
   ],
   "source": [
    "print(pb_arc)\n",
    "plt.plot(pb_arc, resultTimeLP, label=\"Linear Programming\")\n",
    "plt.plot(pb_arc, resultTimeAlgo, label=\"Our algorithm\")\n",
    "plt.title(\"Comparaison between LP and our algorithm\")\n",
    "plt.xlabel(\"Probability of generation of an arc\")\n",
    "plt.ylabel(\"Execution time\")\n",
    "plt.legend()\n",
    "plt.show()"
   ]
  },
  {
   "cell_type": "code",
   "execution_count": null,
   "metadata": {},
   "outputs": [],
   "source": []
  }
 ],
 "metadata": {
  "kernelspec": {
   "display_name": "Python 3 (ipykernel)",
   "language": "python",
   "name": "python3"
  },
  "language_info": {
   "codemirror_mode": {
    "name": "ipython",
    "version": 3
   },
   "file_extension": ".py",
   "mimetype": "text/x-python",
   "name": "python",
   "nbconvert_exporter": "python",
   "pygments_lexer": "ipython3",
   "version": "3.8.10"
  }
 },
 "nbformat": 4,
 "nbformat_minor": 4
}
