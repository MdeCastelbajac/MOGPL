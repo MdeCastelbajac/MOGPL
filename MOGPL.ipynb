{
 "cells": [
  {
   "cell_type": "markdown",
   "metadata": {},
   "source": [
    "# Multigraphes orientés et pondérés par le temps"
   ]
  },
  {
   "cell_type": "markdown",
   "metadata": {},
   "source": [
    "On utilisera la bibliothèque networkx comme structure de donnée adaptée pour les graphes et multigraphes orientés et pondérés."
   ]
  },
  {
   "cell_type": "code",
   "execution_count": 163,
   "metadata": {},
   "outputs": [],
   "source": [
    "import time\n",
    "import numpy as np\n",
    "import random\n",
    "import networkx as nx\n",
    "import matplotlib.pyplot as plt\n",
    "from collections import deque\n",
    "from queue import PriorityQueue"
   ]
  },
  {
   "cell_type": "markdown",
   "metadata": {},
   "source": [
    "**L'intégralité du code se trouve sur le présent notebook. De ce fait, générer un graphe en passant par le terminal se révèle peu pratique. Le lecteur pourra passer un fichier de son choix ci-dessous pour générer un graphe, ou passer par la génération automatique de multigraphe en spécifiant le nombre d'arcs et de sommets.**"
   ]
  },
  {
   "cell_type": "code",
   "execution_count": 77,
   "metadata": {},
   "outputs": [],
   "source": [
    "file = \"graphe2.txt\""
   ]
  },
  {
   "cell_type": "markdown",
   "metadata": {},
   "source": [
    "Les tests de validité sont passés avec le graphe de l'exemple 2, il peut être besoin de les modifier."
   ]
  },
  {
   "cell_type": "markdown",
   "metadata": {},
   "source": [
    "## Fonctions usuelles sur les graphes"
   ]
  },
  {
   "cell_type": "code",
   "execution_count": 78,
   "metadata": {},
   "outputs": [],
   "source": [
    "def createGraphFromFile(filename):\n",
    "    \"reads textfile and creates the corresponding directed multigraph\"\n",
    "\n",
    "    G = nx.MultiDiGraph()\n",
    "    \n",
    "    with open(filename, encoding='utf8') as f:\n",
    "        for line in f: \n",
    "            if line[0] == 's':\n",
    "                line_split = line.split(\" \")\n",
    "                G.add_node(str(line_split[1]))\n",
    "            if line[0] == 'a':\n",
    "                line_split = line.split(\" \")\n",
    "                u, v, t, l = line_split[2][1:-2].split(\",\")\n",
    "                G.add_edge(u, v, date=int(t), duration=int(l))\n",
    "    return G"
   ]
  },
  {
   "cell_type": "code",
   "execution_count": 79,
   "metadata": {},
   "outputs": [],
   "source": [
    "MG = createGraphFromFile(file)"
   ]
  },
  {
   "cell_type": "code",
   "execution_count": 80,
   "metadata": {},
   "outputs": [
    {
     "name": "stdout",
     "output_type": "stream",
     "text": [
      "('a', 'b', {'date': 1, 'duration': 1})\n",
      "('a', 'b', {'date': 2, 'duration': 1})\n",
      "('a', 'c', {'date': 4, 'duration': 1})\n",
      "('a', 'f', {'date': 3, 'duration': 1})\n",
      "('a', 'i', {'date': 10, 'duration': 1})\n",
      "('b', 'g', {'date': 3, 'duration': 1})\n",
      "('b', 'h', {'date': 3, 'duration': 1})\n",
      "('c', 'h', {'date': 6, 'duration': 1})\n",
      "('f', 'i', {'date': 5, 'duration': 1})\n",
      "('i', 'l', {'date': 9, 'duration': 1})\n",
      "('i', 'l', {'date': 8, 'duration': 1})\n",
      "('g', 'j', {'date': 2, 'duration': 1})\n",
      "('g', 'k', {'date': 6, 'duration': 1})\n",
      "('h', 'k', {'date': 7, 'duration': 1})\n",
      "('h', 'i', {'date': 7, 'duration': 1})\n"
     ]
    }
   ],
   "source": [
    "# Display agencies \n",
    "for k in MG.edges(data=True) :\n",
    "    print(k)"
   ]
  },
  {
   "cell_type": "code",
   "execution_count": 81,
   "metadata": {},
   "outputs": [],
   "source": [
    "def createGraphFromMultiGraph(MG):\n",
    "    G = nx.DiGraph()\n",
    "\n",
    "    #Adding vertices\n",
    "    for u, v, attribute in MG.edges(data=True):\n",
    "        t = attribute[\"date\"]\n",
    "        l = attribute[\"duration\"]\n",
    "        uOut = (u, t)\n",
    "        vIn = (v, t + l)\n",
    "        G.add_node(uOut)\n",
    "        G.add_node(vIn)\n",
    "        G.add_edge(uOut, vIn, weight=l)\n",
    "\n",
    "    # Adding 0 weighted edges\n",
    "    verticesList = list(G.nodes)\n",
    "    verticesList = sorted(verticesList, key=lambda item: (item[0], item[1]))\n",
    "    # print(verticesList)\n",
    "    for i in range(len(verticesList)-1):\n",
    "        if verticesList[i][0] == verticesList[i+1][0]:\n",
    "            G.add_edge(verticesList[i], (verticesList[i+1]), weight=0)\n",
    "            \n",
    "    return G"
   ]
  },
  {
   "cell_type": "code",
   "execution_count": 82,
   "metadata": {},
   "outputs": [],
   "source": [
    "G = createGraphFromMultiGraph(MG)"
   ]
  },
  {
   "cell_type": "code",
   "execution_count": 83,
   "metadata": {
    "scrolled": true
   },
   "outputs": [
    {
     "name": "stdout",
     "output_type": "stream",
     "text": [
      "[(('a', 1), ('b', 2), {'weight': 1}), (('a', 1), ('a', 2), {'weight': 0}), (('b', 2), ('b', 3), {'weight': 0}), (('a', 2), ('b', 3), {'weight': 1}), (('a', 2), ('a', 3), {'weight': 0}), (('b', 3), ('g', 4), {'weight': 1}), (('b', 3), ('h', 4), {'weight': 1}), (('a', 4), ('c', 5), {'weight': 1}), (('a', 4), ('a', 10), {'weight': 0}), (('c', 5), ('c', 6), {'weight': 0}), (('a', 3), ('f', 4), {'weight': 1}), (('a', 3), ('a', 4), {'weight': 0}), (('f', 4), ('f', 5), {'weight': 0}), (('a', 10), ('i', 11), {'weight': 1}), (('g', 4), ('g', 6), {'weight': 0}), (('h', 4), ('h', 7), {'weight': 0}), (('c', 6), ('h', 7), {'weight': 1}), (('h', 7), ('k', 8), {'weight': 1}), (('h', 7), ('i', 8), {'weight': 1}), (('f', 5), ('i', 6), {'weight': 1}), (('i', 6), ('i', 8), {'weight': 0}), (('i', 9), ('l', 10), {'weight': 1}), (('i', 9), ('i', 11), {'weight': 0}), (('i', 8), ('l', 9), {'weight': 1}), (('i', 8), ('i', 9), {'weight': 0}), (('l', 9), ('l', 10), {'weight': 0}), (('g', 2), ('j', 3), {'weight': 1}), (('g', 2), ('g', 4), {'weight': 0}), (('g', 6), ('k', 7), {'weight': 1}), (('k', 7), ('k', 8), {'weight': 0})]\n"
     ]
    }
   ],
   "source": [
    "print(G.edges(data=True))"
   ]
  },
  {
   "cell_type": "code",
   "execution_count": 84,
   "metadata": {},
   "outputs": [],
   "source": [
    "def createMultiGraph(vertexNumber, edgeNumber, duration):\n",
    "    \"\"\"generate a directed multigraph given a number of vertices \n",
    "    and probability of edge apparition and a fixed duration\"\"\"\n",
    "    \n",
    "    G = nx.MultiDiGraph()\n",
    "    \n",
    "    # Vertices\n",
    "    for i in range(1, vertexNumber+1):\n",
    "        G.add_node(str(i))\n",
    "    if len(G.nodes()) == 1:\n",
    "        return G\n",
    "    # We decrease edgeNumber until we've added all the edges in the graph\n",
    "    startDate = 0\n",
    "    while edgeNumber > 0: \n",
    "        for i in range(1, vertexNumber+1):\n",
    "            depDate = startDate+1\n",
    "            for j in range(i+1, i+3):\n",
    "                if edgeNumber <= 0: \n",
    "                    return G\n",
    "                if str(j) not in G.nodes():\n",
    "                    break\n",
    "                depDate+=1\n",
    "                dateArr = depDate + j \n",
    "                G.add_edge(str(i), str(j), date = dateArr, duration=duration)\n",
    "                edgeNumber -= 1\n",
    "                \n",
    "        startDate += 1\n",
    "    return G"
   ]
  },
  {
   "cell_type": "code",
   "execution_count": 86,
   "metadata": {},
   "outputs": [],
   "source": [
    "MGAuto = createMultiGraph(5,10,1)"
   ]
  },
  {
   "cell_type": "code",
   "execution_count": 87,
   "metadata": {},
   "outputs": [
    {
     "name": "stdout",
     "output_type": "stream",
     "text": [
      "1\n",
      "2\n",
      "3\n",
      "4\n",
      "5\n",
      "('1', '2', {'date': 4, 'duration': 1})\n",
      "('1', '2', {'date': 5, 'duration': 1})\n",
      "('1', '3', {'date': 6, 'duration': 1})\n",
      "('1', '3', {'date': 7, 'duration': 1})\n",
      "('2', '3', {'date': 5, 'duration': 1})\n",
      "('2', '3', {'date': 6, 'duration': 1})\n",
      "('2', '4', {'date': 7, 'duration': 1})\n",
      "('3', '4', {'date': 6, 'duration': 1})\n",
      "('3', '5', {'date': 8, 'duration': 1})\n",
      "('4', '5', {'date': 7, 'duration': 1})\n"
     ]
    }
   ],
   "source": [
    "for v in MGAuto.nodes:\n",
    "    print(v)\n",
    "for e in MGAuto.edges(data=True):\n",
    "    print(e)"
   ]
  },
  {
   "cell_type": "markdown",
   "metadata": {},
   "source": [
    "Pour la suite, on va devoir accéder rapidement aux sommets selon les dates de départ ou d'arrivée, on propose ici de trier la liste (on le fera une seule fois par graphe) en un dictionnaire qui regroupe les sommets de issus du même sommet de MG triés par ordre croissant:"
   ]
  },
  {
   "cell_type": "code",
   "execution_count": 88,
   "metadata": {},
   "outputs": [],
   "source": [
    "def sortVertices(G):\n",
    "    vertices = dict()\n",
    "    for v,t in G.nodes():\n",
    "        if v not in vertices:\n",
    "            vertices[v] = [(v,t)]\n",
    "        else:\n",
    "            vertices[v].append((v,t))\n",
    "    for v in vertices:\n",
    "        vertices[v].sort(key=lambda x:x[1])\n",
    "    return vertices"
   ]
  },
  {
   "cell_type": "code",
   "execution_count": 89,
   "metadata": {},
   "outputs": [
    {
     "name": "stdout",
     "output_type": "stream",
     "text": [
      "{'a': [('a', 1), ('a', 2), ('a', 3), ('a', 4), ('a', 10)], 'b': [('b', 2), ('b', 3)], 'c': [('c', 5), ('c', 6)], 'f': [('f', 4), ('f', 5)], 'i': [('i', 6), ('i', 8), ('i', 9), ('i', 11)], 'g': [('g', 2), ('g', 4), ('g', 6)], 'h': [('h', 4), ('h', 7)], 'l': [('l', 9), ('l', 10)], 'j': [('j', 3)], 'k': [('k', 7), ('k', 8)]}\n"
     ]
    }
   ],
   "source": [
    "vertices = sortVertices(G)\n",
    "print(vertices)"
   ]
  },
  {
   "cell_type": "markdown",
   "metadata": {},
   "source": [
    "## Algorithmes"
   ]
  },
  {
   "cell_type": "markdown",
   "metadata": {},
   "source": [
    "On testera la validité de nos algorithmes sur l'instance fournie par le fichier qui correspond au multigraphe fourni dans l'énoncé et généré ci-dessus."
   ]
  },
  {
   "cell_type": "markdown",
   "metadata": {},
   "source": [
    "<div>\n",
    "<img src=\"./graphe2.png\" width=\"200\"/>\n",
    "</div>\n"
   ]
  },
  {
   "cell_type": "markdown",
   "metadata": {},
   "source": [
    "### I Chemin d'arrivée au plus tôt"
   ]
  },
  {
   "cell_type": "markdown",
   "metadata": {},
   "source": [
    "Le but est ici de chercher un chemin partant d'un des sommets de départ (par défaut, celui ayant la plus petite date de départ, il est relié à tous les autres) et le reliant au sommet d'arrivé ayant la plus petite date.\n",
    "Pour éviter de parcourir plusieurs fois le graphe, on notera tous les sommets correspondant au sommet d'arrivée parcourus et on prendra le meilleur, s'il y en a au moins un.\n",
    "\n",
    "On utilisera le parcours en profondeur pour chercher un chemin, s'il existe, entre le sommet de départ et le sommet d'arrivée."
   ]
  },
  {
   "cell_type": "code",
   "execution_count": 90,
   "metadata": {},
   "outputs": [],
   "source": [
    "def backwardBfs(G, arrival):\n",
    "    reach = deque()\n",
    "    reach.append(arrival)\n",
    "    visited = set()\n",
    "    visited.add(arrival)\n",
    "    successors = dict()\n",
    "    successors[arrival] = (-1,-1)\n",
    "    \n",
    "    while reach:\n",
    "        arrival = reach.pop()\n",
    "        date = arrival[1]\n",
    "        for v in G.predecessors(arrival):\n",
    "            if v[1] > date:\n",
    "                continue\n",
    "            if (v) not in visited:\n",
    "                visited.add(v)\n",
    "                successors[v] = arrival\n",
    "                reach.append(v)\n",
    "    return successors"
   ]
  },
  {
   "cell_type": "code",
   "execution_count": 91,
   "metadata": {},
   "outputs": [],
   "source": [
    "def backwardBuildPath(successors, v, arrival):\n",
    "    path = [v]\n",
    "    a,t = successors[v]\n",
    "    if a == -1:\n",
    "        return ([v[0], v[0]], v[1], arrival[1])\n",
    "    \n",
    "    while a != arrival[0] and a != -1:\n",
    "        path += [(a,t)]\n",
    "        a,t = successors[(a,t)]\n",
    "    path += [(a,t)]\n",
    "    \n",
    "    \n",
    "    path = [v[0] for v in path]\n",
    "    repetitions = set()\n",
    "    finalPath = []\n",
    "    for u in path:\n",
    "        if u not in repetitions:\n",
    "            repetitions.add(u)\n",
    "            finalPath.append(u)\n",
    "    return (finalPath, v[1], arrival[1])"
   ]
  },
  {
   "cell_type": "code",
   "execution_count": 92,
   "metadata": {},
   "outputs": [],
   "source": [
    "def earliestArrivalPath(G, departure, arrival, vertices, minDate, maxDate):\n",
    "    G = G.copy()\n",
    "    i = 0\n",
    "    if minDate > maxDate:\n",
    "        return None\n",
    "    if arrival not in vertices or departure not in vertices:\n",
    "        return None\n",
    "    while i < len(vertices[arrival]):\n",
    "        arr = vertices[arrival][i]\n",
    "        if arr[1] > maxDate:\n",
    "            continue\n",
    "        successors = backwardBfs(G, arr)\n",
    "        for v in vertices[departure]:\n",
    "            if v in successors and v[1] >= minDate:\n",
    "                return backwardBuildPath(successors, v,arr)\n",
    "        i+=1\n",
    "        for v in successors:\n",
    "            if v[0] != departure and v[0] != arrival:\n",
    "                G.remove_node(v)\n",
    "    # We found no path\n",
    "    return None"
   ]
  },
  {
   "cell_type": "code",
   "execution_count": 94,
   "metadata": {
    "scrolled": false
   },
   "outputs": [
    {
     "name": "stdout",
     "output_type": "stream",
     "text": [
      "None\n",
      "(['a', 'b', 'g', 'k'], 1, 7)\n",
      "(['a', 'c', 'h', 'k'], 4, 8)\n",
      "None\n",
      "(['a', 'a'], 1, 1)\n"
     ]
    }
   ],
   "source": [
    "# Test\n",
    "\n",
    "print(earliestArrivalPath(G,'a','j', vertices, 0,10)) # expected : None\n",
    "print(earliestArrivalPath(G,'a','k', vertices, 0, 10))# expected : a,b,g,k \n",
    "print(earliestArrivalPath(G,'a','k', vertices, 4, 10))# expected : a,c,h,k\n",
    "print(earliestArrivalPath(G,'f','k', vertices, 1, 10))# expected : None\n",
    "print(earliestArrivalPath(G,'a','a', vertices, 1, 10))# expected : a,a"
   ]
  },
  {
   "cell_type": "markdown",
   "metadata": {},
   "source": [
    "Les résultats se lisent de la façon suivante :  \n",
    "* Le chemin d'arrivée au plus tôt de 1 à 2 commence à la date 1, finit à la date 2, a donc une durée 1 et une distance de 1 \n",
    "* Le chemin d'arrivée au plus tôt de 1 à 4 commence à la date 1, finit à la date 6, a une durée de 5 et a une distance de 3. \n",
    "* Si il n'existe pas de chemin, la fonction renvoie `None`"
   ]
  },
  {
   "cell_type": "markdown",
   "metadata": {},
   "source": [
    "### II Chemin de départ au plus tard"
   ]
  },
  {
   "cell_type": "markdown",
   "metadata": {},
   "source": [
    "On prend le dernier sommet de départ, et on parcours le graphe :\n",
    "Soit on trouve un des sommets d'arrivée avant la date limite\n",
    "Soit on régresse dans les sommets de départs et on recommence"
   ]
  },
  {
   "cell_type": "code",
   "execution_count": 110,
   "metadata": {},
   "outputs": [],
   "source": [
    "def bfs(G, departure):\n",
    "    reach = deque()\n",
    "    reach.append(departure)\n",
    "    visited = set()\n",
    "    visited.add(departure)\n",
    "    predecessors = dict()\n",
    "    predecessors[departure] = (-1,-1)\n",
    "    \n",
    "    while reach:\n",
    "        departure = reach.pop()\n",
    "        date = departure[1]\n",
    "        for v in G.successors(departure):\n",
    "            if v[1] <= date:\n",
    "                continue\n",
    "            if (v) not in visited:\n",
    "                visited.add(v)\n",
    "                predecessors[v] = departure\n",
    "                reach.append(v)\n",
    "    return predecessors"
   ]
  },
  {
   "cell_type": "code",
   "execution_count": 111,
   "metadata": {},
   "outputs": [],
   "source": [
    "def buildPath(predecessors, v, dep):\n",
    "    path = [v]\n",
    "    a,t = predecessors[v]\n",
    "    if a == -1:\n",
    "        return ([dep[0], dep[0]], dep[1], v[1])\n",
    "    \n",
    "    while a != dep[0] and a != -1:\n",
    "        path = [(a,t)] + path\n",
    "        a,t = predecessors[(a,t)]\n",
    "    path = [(a,t)] + path\n",
    "    \n",
    "    path = [v[0] for v in path]\n",
    "    repetitions = set()\n",
    "    finalPath = []\n",
    "    for u in path:\n",
    "        if u not in repetitions:\n",
    "            repetitions.add(u)\n",
    "            finalPath.append(u)\n",
    "    \n",
    "    return (finalPath, dep[1], v[1])"
   ]
  },
  {
   "cell_type": "code",
   "execution_count": 112,
   "metadata": {},
   "outputs": [],
   "source": [
    "def latestDeparturePath(G, departure, arrival, vertices, minDate, maxDate):\n",
    "    G = G.copy()\n",
    "    if minDate > maxDate:\n",
    "        return None\n",
    "    if arrival not in vertices or departure not in vertices:\n",
    "        return None\n",
    "    i = 1\n",
    "    while i <= len(vertices[departure]):\n",
    "        dep = vertices[departure][-i]\n",
    "        if dep[1] < minDate:\n",
    "            continue\n",
    "        predecessors = bfs(G, dep)\n",
    "        for v in vertices[arrival]:\n",
    "            \n",
    "            if v in predecessors and v[1] < maxDate:\n",
    "                return buildPath(predecessors, v, dep)\n",
    "        for v in predecessors:\n",
    "            if v[0] != departure and v[0] != arrival:\n",
    "                G.remove_node(v)\n",
    "            \n",
    "        i+=1\n",
    "    # We found no path\n",
    "    return None"
   ]
  },
  {
   "cell_type": "code",
   "execution_count": 113,
   "metadata": {
    "scrolled": true
   },
   "outputs": [
    {
     "name": "stdout",
     "output_type": "stream",
     "text": [
      "(['a', 'b'], 2, 3)\n",
      "(['a', 'i'], 10, 11)\n",
      "(['a', 'c', 'h', 'i'], 4, 8)\n",
      "(['a', 'f', 'i'], 3, 6)\n",
      "(['a', 'a'], 4, 4)\n"
     ]
    }
   ],
   "source": [
    "# Test\n",
    "print(latestDeparturePath(G,'a','b',vertices,1,10)) # expected a,b,2 \n",
    "print(latestDeparturePath(G,'a','i',vertices,1,12)) # expected a,i\n",
    "print(latestDeparturePath(G,'a','i',vertices,1,10)) # expected a,c,h,i\n",
    "print(latestDeparturePath(G,'a','i',vertices,1,8))  # expected a,f,i\n",
    "print(latestDeparturePath(G,'a','a',vertices,1,7))  # expected a,a"
   ]
  },
  {
   "cell_type": "markdown",
   "metadata": {},
   "source": [
    "### III Chemin le plus rapide"
   ]
  },
  {
   "cell_type": "markdown",
   "metadata": {},
   "source": [
    "Par définition, le chemin le plus rapide est une combinaison de contraintes des deux chemins précédents. On construit pour aller vite la liste triée par ordre croissant des couples de sommets de départ et d'arrivée selon la durée qui les sépare. "
   ]
  },
  {
   "cell_type": "code",
   "execution_count": 114,
   "metadata": {},
   "outputs": [],
   "source": [
    "def shortestPathVertices(G, departure, arrival, minDate, maxDate):\n",
    "    \"returns a sorted list of best couples of vertices for shortest path\"\n",
    "    verticesCouples = []\n",
    "    for v,t in G.nodes():\n",
    "        if v == departure and t >= minDate:\n",
    "            for u,d in G.nodes():\n",
    "                if u == arrival and d <= maxDate and d-t >= 0:\n",
    "                    verticesCouples.append(((v,t), (u,d), d-t))\n",
    "    verticesCouples.sort(key=lambda x:x[-1])\n",
    "    return verticesCouples"
   ]
  },
  {
   "cell_type": "code",
   "execution_count": 119,
   "metadata": {},
   "outputs": [],
   "source": [
    "def fastestPath(G, departure, arrival, minDate, maxDate):\n",
    "    G = G.copy()\n",
    "    verticesCouples = shortestPathVertices(G, departure, arrival, minDate, maxDate)\n",
    "    for v,u,d in verticesCouples[1:]:   \n",
    "        predecessors = bfs(G, v)\n",
    "        if u in predecessors:\n",
    "            path = buildPath(predecessors, u, v)\n",
    "            if path != None:\n",
    "                return path\n",
    "        else:\n",
    "            for n in predecessors:\n",
    "                if n[0] != departure and n[0] != arrival:\n",
    "                    G.remove_node(n)\n",
    "    # We found no path\n",
    "    return None"
   ]
  },
  {
   "cell_type": "code",
   "execution_count": 121,
   "metadata": {
    "scrolled": false
   },
   "outputs": [
    {
     "name": "stdout",
     "output_type": "stream",
     "text": [
      "(['a', 'b', 'h'], 2, 4)\n",
      "(['a', 'f', 'i'], 3, 6)\n",
      "(['a', 'c', 'h'], 4, 7)\n"
     ]
    }
   ],
   "source": [
    "print(fastestPath(G,'a','h',1,10)) # expected a,b,h\n",
    "print(fastestPath(G,'a','i',1,12)) # expected a,i\n",
    "print(fastestPath(G,'a','h',4,10)) # expected a,c,h"
   ]
  },
  {
   "cell_type": "markdown",
   "metadata": {},
   "source": [
    "### IV Plus court chemin\n",
    "*On utilise Dijkstra*"
   ]
  },
  {
   "cell_type": "code",
   "execution_count": 122,
   "metadata": {},
   "outputs": [],
   "source": [
    "def buildPathDijkstra(path):\n",
    "    limit = len(path)\n",
    "    for i in range(1, len(path)):\n",
    "        if path[-i][0] == path[-(i+1)][0]:\n",
    "            limit -= 1\n",
    "        else:\n",
    "            break\n",
    "    \n",
    "    repetitions = set()\n",
    "    finalPath = []\n",
    "    for u in path:\n",
    "        if u[0] not in repetitions:\n",
    "            repetitions.add(u[0])\n",
    "            finalPath.append(u[0])\n",
    "            \n",
    "    return (finalPath, path[0][1], path[limit-1][1])"
   ]
  },
  {
   "cell_type": "code",
   "execution_count": 171,
   "metadata": {},
   "outputs": [],
   "source": [
    "def shortestPath(G, departure, arrival, vertices, minDate, maxDate):\n",
    "    \n",
    "    \n",
    "    dep = (-1,-1)\n",
    "    arr = (-1,-1)\n",
    "    # Get the proper departure and arrival vertices in G\n",
    "    if arrival not in vertices or departure not in vertices:\n",
    "        return None\n",
    "    for v in vertices[departure]:\n",
    "        if v[1] >= minDate:\n",
    "            dep = v\n",
    "            break\n",
    "    for u in vertices[arrival]:\n",
    "        if u[1] <= maxDate and u[1] >= arr[1]:\n",
    "            arr = u\n",
    "    \n",
    "    if dep[0] == -1 or arr[0] == -1:\n",
    "            return None\n",
    " \n",
    "    v1,d1 = dep\n",
    "    v2,d2 = arr\n",
    "    if v1 == v2:\n",
    "        return (buildPathDijkstra([dep]))\n",
    "\n",
    "    # BFS with priority Queue\n",
    "    dist = dict()\n",
    "    q = PriorityQueue()\n",
    "    q.put(dep)\n",
    "    for i in G.nodes():\n",
    "        dist[i] = (float(\"Inf\"), -1)\n",
    "    dist[dep] = (0,-1)\n",
    "    \n",
    "    while not q.empty():\n",
    "        vertex = q.get()\n",
    "        for successor in G.successors(vertex):\n",
    "            if successor[1] <= vertex[1]:\n",
    "                continue\n",
    "            if dist[successor][0] > dist[vertex][0]:\n",
    "                if successor[0] != vertex[0]:\n",
    "                    dist[successor] = (dist[vertex][0]+1, vertex)\n",
    "                else:\n",
    "                    dist[successor] = (dist[vertex][0], vertex)\n",
    "                q.put(successor)\n",
    "    \n",
    "    #print(dist)\n",
    "    d,p = dist[arr]\n",
    "    if d == float(\"Inf\"):\n",
    "        return None\n",
    "\n",
    "    # Get path\n",
    "    v = arr\n",
    "    path = [v]\n",
    "    while v != dep:\n",
    "        d, p = dist[v] \n",
    "        path = [p] + path\n",
    "        v = p\n",
    "        \n",
    "    return buildPathDijkstra(path)"
   ]
  },
  {
   "cell_type": "code",
   "execution_count": 172,
   "metadata": {},
   "outputs": [
    {
     "name": "stdout",
     "output_type": "stream",
     "text": [
      "(['a', 'i'], 1, 11)\n",
      "(['a', 'f', 'i'], 1, 6)\n",
      "None\n",
      "(['a'], 1, 1)\n"
     ]
    }
   ],
   "source": [
    "# Tests\n",
    "print(shortestPath(G, 'a', 'i', vertices, 0, 12)) # expected a,i\n",
    "print(shortestPath(G, 'a', 'i', vertices, 0, 7))  # expected a,f,i\n",
    "print(shortestPath(G, 'a', 'j', vertices, 0, 10)) # expected None\n",
    "print(shortestPath(G, 'a', 'a', vertices, 0, 10)) # expected a"
   ]
  },
  {
   "cell_type": "markdown",
   "metadata": {},
   "source": [
    "## Tests"
   ]
  },
  {
   "cell_type": "markdown",
   "metadata": {},
   "source": [
    "##### Temps d'exécution en fonction du nombre de sommets"
   ]
  },
  {
   "cell_type": "markdown",
   "metadata": {},
   "source": [
    "On souhaite conserver la proportion sommet-arc dans le graphe. Pour tout graphe à $n$ sommets, on aura (arbitrairement) $2n$ arcs. \n",
    "Et pour $n$ s'incrémentant, on crée un multigraphe et on applique les quatre algorithmes pour obtenir leur temps d'exécution. "
   ]
  },
  {
   "cell_type": "code",
   "execution_count": 173,
   "metadata": {},
   "outputs": [],
   "source": [
    "# Function for testing execution time of a list of algos in terms of number of vertices\n",
    "def test_nbVertices(list_algos, duration=1, repeat=50, max_nb_vertices=100, minDate=0, maxDate=float(\"Inf\")):\n",
    "    nb_algos = len(list_algos) \n",
    "    resultTime = np.zeros((nb_algos, max_nb_vertices))\n",
    "    nb_vertices = np.zeros(max_nb_vertices)\n",
    "\n",
    "    for j in range(repeat):\n",
    "        for i in range(1, max_nb_vertices+1, 1):\n",
    "            nb_vertices[i-1] = i\n",
    "            # MG & G generation\n",
    "            MGtest = createMultiGraph(i, 2*i, duration)\n",
    "            Gtest = createGraphFromMultiGraph(MGtest) \n",
    "\n",
    "            # Algorithms\n",
    "            t0 = time.time()\n",
    "            sortedVertices = sortVertices(Gtest)\n",
    "            sortingTime = time.time() - t0\n",
    "\n",
    "            if sortedVertices == {}:\n",
    "                continue\n",
    "\n",
    "            # Recording the results\n",
    "            for k in range(nb_algos):\n",
    "                t = time.time()\n",
    "                if list_algos[k].__name__ == \"fastestPath\":\n",
    "                    list_algos[k](Gtest, sortedVertices['1'][0][0], sortedVertices[str(i-1)][0][0], minDate, maxDate)\n",
    "                    resultTime[k, i-1] += time.time() - t + sortingTime\n",
    "                elif list_algos[k].__name__ != \"shortestPathLP\":\n",
    "                    list_algos[k](Gtest, sortedVertices['1'][0][0], sortedVertices[str(i-1)][0][0], sortedVertices, minDate, maxDate)\n",
    "                    resultTime[k, i-1] += time.time() - t + sortingTime\n",
    "                else:\n",
    "                    list_algos[k](Gtest, sortedVertices['1'][0][0], sortedVertices[str(i-1)][0][0])\n",
    "                    resultTime[k, i-1] += time.time() - t\n",
    "    \n",
    "\n",
    "    return resultTime / repeat, nb_vertices"
   ]
  },
  {
   "cell_type": "code",
   "execution_count": 187,
   "metadata": {},
   "outputs": [
    {
     "data": {
      "image/png": "[encoded data removed]",
      "text/plain": [
       "<Figure size 432x288 with 1 Axes>"
      ]
     },
     "metadata": {
      "needs_background": "light"
     },
     "output_type": "display_data"
    },
    {
     "name": "stderr",
     "output_type": "stream",
     "text": [
      "No handles with labels found to put in legend.\n"
     ]
    },
    {
     "data": {
      "image/png": "[encoded data removed]",
      "text/plain": [
       "<Figure size 432x288 with 1 Axes>"
      ]
     },
     "metadata": {
      "needs_background": "light"
     },
     "output_type": "display_data"
    }
   ],
   "source": [
    "# Recording the results\n",
    "resultTime, verticeNumber = test_nbVertices([earliestArrivalPath, latestDeparturePath, fastestPath, shortestPath])\n",
    "resultTime1, resultTime2, resultTime3, resultTime4 = resultTime[0, :], resultTime[1, :], resultTime[2, :], resultTime[3, :]"
   ]
  },
  {
   "cell_type": "code",
   "execution_count": 188,
   "metadata": {},
   "outputs": [
    {
     "data": {
      "image/png": "[encoded data removed]",
      "text/plain": [
       "<Figure size 432x288 with 1 Axes>"
      ]
     },
     "metadata": {
      "needs_background": "light"
     },
     "output_type": "display_data"
    }
   ],
   "source": [
    "# Display results\n",
    "fig, ax = plt.subplots()\n",
    "l1 = ax.plot(verticeNumber, resultTime1, linewidth=2.0, label='Earliest Arrival')\n",
    "l3 = ax.plot(verticeNumber, resultTime3, linewidth=2.0, label='Fastest')\n",
    "l2 = ax.plot(verticeNumber, resultTime2, linewidth=2.0, label='Latest Departure')\n",
    "l4 = ax.plot(verticeNumber, resultTime4, linewidth=2.0, label='Shortest')\n",
    "legend = ax.legend(loc='upper left', shadow=True)\n",
    "ax.set_xlabel(\"Number of vertices\")\n",
    "ax.set_ylabel(\"Execution time (s)\")\n",
    "plt.show()"
   ]
  },
  {
   "cell_type": "markdown",
   "metadata": {},
   "source": [
    "##### Utiliser une échelle logarithmique"
   ]
  },
  {
   "cell_type": "code",
   "execution_count": 191,
   "metadata": {},
   "outputs": [
    {
     "name": "stderr",
     "output_type": "stream",
     "text": [
      "/tmp/ipykernel_2716/3572756117.py:2: RuntimeWarning: divide by zero encountered in log\n",
      "  logres1 = np.log(resultTime1)\n",
      "/tmp/ipykernel_2716/3572756117.py:3: RuntimeWarning: divide by zero encountered in log\n",
      "  logres2 = np.log(resultTime2)\n",
      "/tmp/ipykernel_2716/3572756117.py:4: RuntimeWarning: divide by zero encountered in log\n",
      "  logres3 = np.log(resultTime3)\n",
      "/tmp/ipykernel_2716/3572756117.py:5: RuntimeWarning: divide by zero encountered in log\n",
      "  logres4 = np.log(resultTime4)\n"
     ]
    },
    {
     "data": {
      "image/png": "[encoded data removed]",
      "text/plain": [
       "<Figure size 432x288 with 1 Axes>"
      ]
     },
     "metadata": {
      "needs_background": "light"
     },
     "output_type": "display_data"
    }
   ],
   "source": [
    "logvertice = np.log(verticeNumber)\n",
    "logres1 = np.log(resultTime1)\n",
    "logres2 = np.log(resultTime2)\n",
    "logres3 = np.log(resultTime3)\n",
    "logres4 = np.log(resultTime4)\n",
    "\n",
    "\n",
    "fig, ax = plt.subplots()\n",
    "l1 = ax.plot(logvertice, logres1, linewidth=2.0, label='Earliest Arrival')\n",
    "l3 = ax.plot(logvertice, logres3, linewidth=2.0, label='Fastest')\n",
    "l2 = ax.plot(logvertice, logres2, linewidth=2.0, label='Latest Departure')\n",
    "l4 = ax.plot(logvertice, logres4, linewidth=2.0, label='Shortest')\n",
    "legend = ax.legend(loc='upper left', shadow=True)\n",
    "ax.set_xlabel(\"log number of vertices\")\n",
    "ax.set_ylabel(\"log execution time\")\n",
    "plt.show()"
   ]
  },
  {
   "cell_type": "code",
   "execution_count": 190,
   "metadata": {},
   "outputs": [
    {
     "name": "stdout",
     "output_type": "stream",
     "text": [
      "1.007420094166639\n"
     ]
    }
   ],
   "source": [
    "# calcul des coefficients directeurs\n",
    "divisor = logvertice[-1] - logvertice[10]\n",
    "print((logres1[-1] - logres1[10]) / divisor)"
   ]
  },
  {
   "cell_type": "markdown",
   "metadata": {},
   "source": [
    "**Les quatre algorithmes ont une complexité linéaires**"
   ]
  },
  {
   "cell_type": "markdown",
   "metadata": {},
   "source": [
    "##### Temps d'exécution en fonction du nombre d'arcs"
   ]
  },
  {
   "cell_type": "markdown",
   "metadata": {},
   "source": [
    "On fixe le nombre de sommets à 50 (choix arbitraire) et on fait varier le nombre d'arcs de 50 à 200."
   ]
  },
  {
   "cell_type": "code",
   "execution_count": 199,
   "metadata": {},
   "outputs": [],
   "source": [
    "# Function for testing execution time of a list of algos in terms of number of arcs\n",
    "def test_nbArcs(list_algos, repeat=100, nb_vertices=20, duration=1, minDate=0, maxDate=float(\"Inf\")):\n",
    "    nb_algos = len(list_algos)\n",
    "\n",
    "    # We need 2*n edges to make sure the last vertex is reached\n",
    "    maxE = 6 * nb_vertices\n",
    "    minE = 2 * nb_vertices\n",
    "    size = maxE - minE + 1\n",
    "    \n",
    "    resultTime = np.zeros((nb_algos, size))\n",
    "    nb_arcs = np.zeros(size)\n",
    "\n",
    "    for j in range(repeat):\n",
    "        for i in range(minE,maxE+1,1):\n",
    "            nb_arcs[i-minE] = i  \n",
    "            # MG & G generation\n",
    "            MGtest = createMultiGraph(nb_vertices, i, duration)\n",
    "            Gtest = createGraphFromMultiGraph(MGtest) \n",
    "            nodes = list(MGtest.nodes())\n",
    "            # Algorithms\n",
    "            t0 = time.time()\n",
    "            sortedVertices = sortVertices(Gtest)\n",
    "            sortingTime = time.time() - t0\n",
    "\n",
    "            if sortedVertices == {}:\n",
    "                continue\n",
    "\n",
    "            for k in range(nb_algos):\n",
    "                t = time.time()\n",
    "                if list_algos[k].__name__ == \"fastestPath\":\n",
    "                    list_algos[k](Gtest, sortedVertices['1'][0][0], nodes[nb_vertices - 1], minDate, maxDate)\n",
    "                    resultTime[k, i-minE] += time.time() - t + sortingTime\n",
    "                elif list_algos[k].__name__ != \"shortestPathLP\":\n",
    "                    list_algos[k](Gtest, sortedVertices['1'][0][0], nodes[nb_vertices - 1], sortedVertices, minDate, maxDate)\n",
    "                    resultTime[k, i-minE] += time.time() - t + sortingTime\n",
    "                else:\n",
    "                    list_algos[k](Gtest, sortedVertices['1'][0][0], nodes[nb_vertices - 1])\n",
    "                    resultTime[k, i-minE] += time.time() - t\n",
    "\n",
    "    return resultTime / repeat, nb_arcs"
   ]
  },
  {
   "cell_type": "code",
   "execution_count": 200,
   "metadata": {},
   "outputs": [],
   "source": [
    "# Recording the results\n",
    "resultTime, nb_arcs = test_nbArcs([earliestArrivalPath, latestDeparturePath, fastestPath, shortestPath])\n",
    "resultTime1, resultTime2, resultTime3, resultTime4 = resultTime[0, :], resultTime[1, :], resultTime[2, :], resultTime[3, :]"
   ]
  },
  {
   "cell_type": "code",
   "execution_count": 201,
   "metadata": {},
   "outputs": [
    {
     "data": {
      "image/png": "[encoded data removed]",
      "text/plain": [
       "<Figure size 432x288 with 1 Axes>"
      ]
     },
     "metadata": {
      "needs_background": "light"
     },
     "output_type": "display_data"
    }
   ],
   "source": [
    "# Display results\n",
    "fig, ax = plt.subplots()\n",
    "l1 = ax.plot(nb_arcs, resultTime1, linewidth=2.0, label='Earliest Arrival')\n",
    "l3 = ax.plot(nb_arcs, resultTime3, linewidth=2.0, label='Fastest')\n",
    "l2 = ax.plot(nb_arcs, resultTime2, linewidth=2.0, label='Latest Departure')\n",
    "l4 = ax.plot(nb_arcs, resultTime4, linewidth=2.0, label='Shortest')\n",
    "legend = ax.legend(loc='upper left', shadow=True)\n",
    "ax.set_xlabel(\"Number of edges\")\n",
    "ax.set_ylabel(\"Execution time (s)\")\n",
    "plt.show()"
   ]
  },
  {
   "cell_type": "markdown",
   "metadata": {},
   "source": [
    "##### Temps d'exécution en fonction de la durée des trajets\n",
    "\n",
    "Théoriquement, la durée des trajets n'influe pas sur la complexité de nos quatre algorithmes."
   ]
  },
  {
   "cell_type": "code",
   "execution_count": 210,
   "metadata": {},
   "outputs": [],
   "source": [
    "# Function for testing execution time of a list of algos in terms of duration of flight\n",
    "def test_duration(list_algos, repeat=100, nb_vertices=20, max_duration=20, minDate=0, maxDate=float(\"Inf\")):\n",
    "    nb_algos = len(list_algos)\n",
    "    # We need 2*nb_vertices edges to make sure that the last vertices is reachable\n",
    "    nb_edges = 2 * nb_vertices\n",
    "\n",
    "    resultTime = np.zeros((nb_algos, max_duration + 1))\n",
    "    duration = np.zeros(max_duration + 1)\n",
    "\n",
    "    for j in range(repeat):\n",
    "        for i in range(5, max_duration + 6, 1):\n",
    "            duration[i-5] = i\n",
    "            # MG & G generation\n",
    "            MGtest = createMultiGraph(nb_vertices, nb_edges, i)\n",
    "            Gtest = createGraphFromMultiGraph(MGtest) \n",
    "\n",
    "            t0 = time.time()\n",
    "            sortedVertices = sortVertices(Gtest)\n",
    "            sortingTime = time.time() - t0\n",
    "\n",
    "            if sortedVertices == {}:\n",
    "                continue\n",
    "\n",
    "            for k in range(nb_algos):\n",
    "                t = time.time()\n",
    "                if list_algos[k].__name__ == \"fastestPath\":\n",
    "                    list_algos[k](Gtest, sortedVertices['1'][0][0], sortedVertices[str(nb_vertices - 1)][0][0], minDate, maxDate)\n",
    "                    resultTime[k, i-5] += time.time() - t + sortingTime\n",
    "                elif list_algos[k].__name__ != \"shortestPathLP\":\n",
    "                    list_algos[k](Gtest, sortedVertices['1'][0][0], sortedVertices[str(nb_vertices - 1)][0][0], sortedVertices, minDate, maxDate)\n",
    "                    resultTime[k, i-5] += time.time() - t + sortingTime\n",
    "                else:\n",
    "                    list_algos[k](Gtest, sortedVertices['1'][0][0], sortedVertices[str(nb_vertices - 1)][0][0])\n",
    "                    resultTime[k, i-5] += time.time() - t\n",
    "\n",
    "    return resultTime / repeat, duration"
   ]
  },
  {
   "cell_type": "code",
   "execution_count": 211,
   "metadata": {},
   "outputs": [
    {
     "data": {
      "image/png": "[encoded data removed]",
      "text/plain": [
       "<Figure size 432x288 with 1 Axes>"
      ]
     },
     "metadata": {
      "needs_background": "light"
     },
     "output_type": "display_data"
    }
   ],
   "source": [
    "# Recording the results\n",
    "resultTime, duration = test_duration([earliestArrivalPath, latestDeparturePath, fastestPath, shortestPath])\n",
    "resultTime1, resultTime2, resultTime3, resultTime4 = resultTime[0, :], resultTime[1, :], resultTime[2, :], resultTime[3, :]\n",
    "# Display results\n",
    "fig, ax = plt.subplots()\n",
    "l1 = ax.plot(duration, resultTime1, linewidth=2.0, label='Earliest Arrival')\n",
    "l3 = ax.plot(duration, resultTime3, linewidth=2.0, label='Fastest')\n",
    "l2 = ax.plot(duration, resultTime2, linewidth=2.0, label='Latest Departure')\n",
    "l4 = ax.plot(duration, resultTime4, linewidth=2.0, label='Shortest')\n",
    "legend = ax.legend(loc='center left', shadow=True)\n",
    "plt.show()"
   ]
  },
  {
   "cell_type": "markdown",
   "metadata": {},
   "source": [
    "## Chercher le plus court chemin par progammation linéaire en faisant appel à Gurobi"
   ]
  },
  {
   "cell_type": "markdown",
   "metadata": {},
   "source": [
    "#### Implantation"
   ]
  },
  {
   "cell_type": "code",
   "execution_count": 181,
   "metadata": {},
   "outputs": [
    {
     "ename": "ModuleNotFoundError",
     "evalue": "No module named 'gurobipy'",
     "output_type": "error",
     "traceback": [
      "\u001b[0;31m---------------------------------------------------------------------------\u001b[0m",
      "\u001b[0;31mModuleNotFoundError\u001b[0m                       Traceback (most recent call last)",
      "\u001b[0;32m/tmp/ipykernel_2716/4085404392.py\u001b[0m in \u001b[0;36m<module>\u001b[0;34m\u001b[0m\n\u001b[0;32m----> 1\u001b[0;31m \u001b[0;32mimport\u001b[0m \u001b[0mgurobipy\u001b[0m \u001b[0;32mas\u001b[0m \u001b[0mgp\u001b[0m\u001b[0;34m\u001b[0m\u001b[0;34m\u001b[0m\u001b[0m\n\u001b[0m\u001b[1;32m      2\u001b[0m \u001b[0;34m\u001b[0m\u001b[0m\n\u001b[1;32m      3\u001b[0m \u001b[0;32mdef\u001b[0m \u001b[0mshortestPathLP\u001b[0m\u001b[0;34m(\u001b[0m\u001b[0mG\u001b[0m\u001b[0;34m,\u001b[0m \u001b[0mdeparture\u001b[0m\u001b[0;34m,\u001b[0m \u001b[0marrival\u001b[0m\u001b[0;34m,\u001b[0m \u001b[0malpha\u001b[0m\u001b[0;34m=\u001b[0m\u001b[0;36m0\u001b[0m\u001b[0;34m,\u001b[0m \u001b[0momega\u001b[0m\u001b[0;34m=\u001b[0m\u001b[0mfloat\u001b[0m\u001b[0;34m(\u001b[0m\u001b[0;34m\"Inf\"\u001b[0m\u001b[0;34m)\u001b[0m\u001b[0;34m)\u001b[0m\u001b[0;34m:\u001b[0m\u001b[0;34m\u001b[0m\u001b[0;34m\u001b[0m\u001b[0m\n\u001b[1;32m      4\u001b[0m     \u001b[0;31m# gurobi model\u001b[0m\u001b[0;34m\u001b[0m\u001b[0;34m\u001b[0m\u001b[0;34m\u001b[0m\u001b[0m\n\u001b[1;32m      5\u001b[0m     \u001b[0;32mwith\u001b[0m \u001b[0mgp\u001b[0m\u001b[0;34m.\u001b[0m\u001b[0mEnv\u001b[0m\u001b[0;34m(\u001b[0m\u001b[0mempty\u001b[0m\u001b[0;34m=\u001b[0m\u001b[0;32mTrue\u001b[0m\u001b[0;34m)\u001b[0m \u001b[0;32mas\u001b[0m \u001b[0menv\u001b[0m\u001b[0;34m:\u001b[0m\u001b[0;34m\u001b[0m\u001b[0;34m\u001b[0m\u001b[0m\n",
      "\u001b[0;31mModuleNotFoundError\u001b[0m: No module named 'gurobipy'"
     ]
    }
   ],
   "source": [
    "import gurobipy as gp\n",
    "\n",
    "def shortestPathLP(G, departure, arrival, alpha=0, omega=float(\"Inf\")):\n",
    "    # gurobi model\n",
    "    with gp.Env(empty=True) as env:\n",
    "        # Remove gurobi output log\n",
    "        env.setParam('OutputFlag', 0)\n",
    "        env.start()\n",
    "        with gp.Model(env=env) as m:\n",
    "            list_edges = list(G.edges(data=True))\n",
    "            nb_edge = len(list_edges)\n",
    "            \n",
    "            # decision variables\n",
    "            x = []\n",
    "            for i in range(len(list_edges)):\n",
    "                x.append(m.addVar(vtype=gp.GRB.BINARY, lb=0, name=f\"x{i}\"))\n",
    "            \n",
    "            # update model\n",
    "            m.update()\n",
    "\n",
    "            # define objectif function\n",
    "            obj_func = gp.LinExpr()\n",
    "            obj_func = 0\n",
    "            for i in range(len(list_edges)):\n",
    "                obj_func += list_edges[i][2][\"weight\"] * x[i]\n",
    "\n",
    "            m.setObjective(obj_func, gp.GRB.MINIMIZE)\n",
    "\n",
    "            # define constraints\n",
    "            for node in G.nodes():\n",
    "                # Number of edge in = number of edge out \n",
    "                if node[0] != departure and node[0] != arrival:\n",
    "                    in_edge_index = [i for i in range(nb_edge) if list_edges[i][1] == node]\n",
    "                    out_edge_index = [i for i in range(nb_edge) if list_edges[i][0] == node]\n",
    "                    m.addConstr(gp.quicksum(x[i] for i in in_edge_index) - gp.quicksum(x[i] for i in out_edge_index) == 0, f\"Constraint for node {node}\")\n",
    "                # No edge enter departure node, no edge get out departure node before alpha\n",
    "                elif node[0] == departure:\n",
    "                    in_edge_index = [i for i in range(nb_edge) if list_edges[i][1] == node]\n",
    "                    out_edge_before_alpha_index = [i for i in range(nb_edge) if list_edges[i][0] == node and node[1] < alpha]\n",
    "                    edge_index = in_edge_index + out_edge_before_alpha_index\n",
    "                    if edge_index:\n",
    "                        m.addConstrs((x[i] == 0 for i in in_edge_index + out_edge_before_alpha_index), f\"Constraint for node {node}\")\n",
    "                # No edge get out arrival node, no edge enter arrival node after omega\n",
    "                elif node[0] == arrival:\n",
    "                    out_edge_index = [i for i in range(nb_edge) if list_edges[i][0] == node]\n",
    "                    in_edge_after_omega_index = [i for i in range(nb_edge) if list_edges[i][1] == node and node[1] > omega]\n",
    "                    edge_index = out_edge_index + in_edge_after_omega_index\n",
    "                    # print(edge_index)\n",
    "                    if edge_index:\n",
    "                        m.addConstrs((x[i] == 0 for i in edge_index), f\"Constraint for node {node}\")\n",
    "\n",
    "            # No edge between departure node\n",
    "            edges_between_departure_node_index = [i for i in range(nb_edge) if list_edges[i][0][0] == departure and list_edges[i][1][0] == departure]\n",
    "            if edges_between_departure_node_index:\n",
    "                m.addConstrs((x[i] == 0 for i in edges_between_departure_node_index), f\"Constraint for departure node\")\n",
    "\n",
    "            # No edge between arrival node\n",
    "            edges_between_arrival_node_index = [i for i in range(nb_edge) if list_edges[i][0][0] == arrival and list_edges[i][1][0] == arrival]\n",
    "            if edges_between_arrival_node_index:\n",
    "                m.addConstrs((x[i] == 0 for i in edges_between_arrival_node_index), f\"Constraint for arrival node\")\n",
    "\n",
    "            # There is one edge that get out of set of departure node\n",
    "            out_departure_node_index = [i for i in range(nb_edge) if list_edges[i][0][0] == departure and list_edges[i][0][1] > alpha]\n",
    "            m.addConstr(gp.quicksum(x[i] for i in out_departure_node_index) == 1, f\"Constraint on edge getting out of the departure node\")\n",
    "\n",
    "            # There is one edge enter set of arrival node\n",
    "            in_arrival_node_index = [i for i in range(nb_edge) if list_edges[i][1][0] == arrival and list_edges[i][1][1] < omega]\n",
    "            m.addConstr(gp.quicksum(x[i] for i in in_arrival_node_index) == 1, f\"Constraint on edge entering arrival node\")\n",
    "\n",
    "            # Resolution\n",
    "            m.optimize()\n",
    "            # print(m.display())\n",
    "            # Return path\n",
    "            path = []\n",
    "            for i in range(nb_edge):\n",
    "                try:\n",
    "                    if x[i].x == 1:\n",
    "                        path.append(list_edges[i])\n",
    "                except AttributeError:\n",
    "                    return None\n",
    "\n",
    "            return path"
   ]
  },
  {
   "cell_type": "markdown",
   "metadata": {},
   "source": [
    "#### Tester sur instance de ce graph:\n",
    "![graphe pour tester la méthode de chercher le plus court chemin par PL](graphe2.png)"
   ]
  },
  {
   "cell_type": "code",
   "execution_count": null,
   "metadata": {},
   "outputs": [],
   "source": [
    "G2 = createGraphFromMultiGraph(createGraphFromFile(\"graphe2.txt\"))\n",
    "# print(G2.edges(data=True))\n",
    "path =  shortestPathLP(G2, \"a\", \"l\")\n",
    "print(f\"Plus court chemin de a vers l : {path}\")"
   ]
  },
  {
   "cell_type": "markdown",
   "metadata": {},
   "source": [
    "## Comparaison entre PL et l'algorithme implanté dans la partie précédent"
   ]
  },
  {
   "cell_type": "markdown",
   "metadata": {},
   "source": [
    "#### Temps d'exécution en fonction de nombre de sommets"
   ]
  },
  {
   "cell_type": "markdown",
   "metadata": {},
   "source": [
    "##### Recording the results"
   ]
  },
  {
   "cell_type": "code",
   "execution_count": null,
   "metadata": {},
   "outputs": [],
   "source": [
    "resultTime, verticeNumber = test_nbVertices([shortestPath, shortestPathLP])\n",
    "resultTimeAlgo, resultTimeLP = resultTime[0, :], resultTime[1, :]"
   ]
  },
  {
   "cell_type": "markdown",
   "metadata": {},
   "source": [
    "##### Plotting the curves\n"
   ]
  },
  {
   "cell_type": "code",
   "execution_count": null,
   "metadata": {},
   "outputs": [],
   "source": [
    "def plot_comparaison(x, y, xtitle, ytitle=\"Execution time\", labels=[\"Our algorithm\", \"Linear Programming\"], title=\"Comparison between LP and our algorithm\"):\n",
    "    for i in range(len(y)):\n",
    "        plt.plot(x, y[i], label=labels[i])\n",
    "\n",
    "    plt.title(title)\n",
    "    plt.xlabel(xtitle)\n",
    "    plt.ylabel(ytitle)\n",
    "    plt.legend()\n",
    "    plt.show()"
   ]
  },
  {
   "cell_type": "code",
   "execution_count": null,
   "metadata": {},
   "outputs": [],
   "source": [
    "plot_comparaison(verticeNumber, [resultTimeAlgo, resultTimeLP], \"Number of vertices\", \"Execution time\")"
   ]
  },
  {
   "cell_type": "markdown",
   "metadata": {},
   "source": [
    "##### In logarithmic scale"
   ]
  },
  {
   "cell_type": "code",
   "execution_count": null,
   "metadata": {},
   "outputs": [],
   "source": [
    "log_resultTimeLP = np.log(resultTimeLP)\n",
    "log_resultTimeAlgo = np.log(resultTimeAlgo)\n",
    "log_verticeNumber = np.log(verticeNumber)\n",
    "plot_comparaison(log_verticeNumber, [log_resultTimeAlgo, log_resultTimeLP], \"Log of number of vertices\", ytitle=\"Log of execution time\")\n"
   ]
  },
  {
   "cell_type": "markdown",
   "metadata": {},
   "source": [
    "#### Temps d'exécution en fonction du nombre d'arcs"
   ]
  },
  {
   "cell_type": "markdown",
   "metadata": {},
   "source": [
    "##### Enregistrer les résultats\n",
    "- On fixe le nombre de sommets à 50 (choix arbitraire) et on fait varier le nombre d'arcs de 50 à 200."
   ]
  },
  {
   "cell_type": "code",
   "execution_count": null,
   "metadata": {},
   "outputs": [],
   "source": [
    "resultTime, nb_arcs = test_nbArcs([shortestPath, shortestPathLP], repeat=20)\n",
    "resultTimeAlgo, resultTimeLP = resultTime[0, :], resultTime[1, :]"
   ]
  },
  {
   "cell_type": "markdown",
   "metadata": {},
   "source": [
    "##### Plotting the curves"
   ]
  },
  {
   "cell_type": "code",
   "execution_count": null,
   "metadata": {},
   "outputs": [],
   "source": [
    "plot_comparaison(nb_arcs, [resultTimeAlgo, resultTimeLP], \"Number of arc\")"
   ]
  },
  {
   "cell_type": "markdown",
   "metadata": {},
   "source": [
    "##### In logarithmic scale"
   ]
  },
  {
   "cell_type": "code",
   "execution_count": null,
   "metadata": {},
   "outputs": [],
   "source": [
    "log_resultTimeAlgo, log_resultTimeLP, log_nb_arcs = np.log(resultTimeAlgo), np.log(resultTimeLP), np.log(nb_arcs)\n",
    "plot_comparaison(log_nb_arcs, [log_resultTimeAlgo, log_resultTimeLP], \"Log of number of arcs\", ytitle=\"Log of execution time\")"
   ]
  },
  {
   "cell_type": "markdown",
   "metadata": {},
   "source": [
    "#### Temps d'execution en fonction de la durée des trajets"
   ]
  },
  {
   "cell_type": "markdown",
   "metadata": {},
   "source": [
    "##### Recording result"
   ]
  },
  {
   "cell_type": "code",
   "execution_count": null,
   "metadata": {},
   "outputs": [],
   "source": [
    "resultTime, duration = test_duration([shortestPath, shortestPathLP])\n",
    "resultTimeAlgo, resultTimeLP = resultTime[0, :], resultTime[1, :]"
   ]
  },
  {
   "cell_type": "markdown",
   "metadata": {},
   "source": [
    "##### Plotting the curves"
   ]
  },
  {
   "cell_type": "code",
   "execution_count": null,
   "metadata": {},
   "outputs": [],
   "source": [
    "plot_comparaison(duration, [resultTimeAlgo, resultTimeLP], \"Duration of route\")"
   ]
  },
  {
   "cell_type": "markdown",
   "metadata": {},
   "source": [
    "##### Similairement, la durée des trajets a aucun impact sur la complexité de notre programme linéaire"
   ]
  },
  {
   "cell_type": "markdown",
   "metadata": {},
   "source": [
    "## Algorithme sur les multigraphe"
   ]
  },
  {
   "cell_type": "code",
   "execution_count": 182,
   "metadata": {},
   "outputs": [],
   "source": [
    "file = \"graphe.txt\"\n",
    "\n",
    "MG = createGraphFromFile(file)"
   ]
  },
  {
   "cell_type": "markdown",
   "metadata": {},
   "source": [
    "### I. Chemin d'arrivée au plus tôt\n",
    "- On va utiliser Dijkstra : au lieu de mesurer la distance, on va prendre la date d'arrivée. On remontera ensuite le chemin depuis le sommet d'arrivée, s'il est atteint."
   ]
  },
  {
   "cell_type": "code",
   "execution_count": 183,
   "metadata": {},
   "outputs": [],
   "source": [
    "def earliestArrivalPathMG(MG, departure, arrival, minDate, maxDate):\n",
    "    \n",
    "    \n",
    "    if arrival not in vertices or departure not in MG.nodes():\n",
    "        return None\n",
    "    \n",
    "    if departure == arrival:\n",
    "        return ([departure],0,0)\n",
    "    \n",
    "    arrivalDate = dict()\n",
    "    \n",
    "    for i in MG.nodes():\n",
    "        arrivalDate[i] = (float(\"Inf\"), -1) # (arrivalDate, predecessor)\n",
    "    arrivalDate[departure] = (0,-1)\n",
    "    departureDate = float(\"Inf\")\n",
    "    \n",
    "    # Get ArrivalDates \n",
    "    for u, v, data in MG.edges(data=True):\n",
    "        if u == departure:\n",
    "            if data['date'] < minDate:\n",
    "                continue\n",
    "            if data['date'] < departureDate:\n",
    "                departureDate = data['date']\n",
    "        d1, p1 = arrivalDate[u]\n",
    "        d2, p2 = arrivalDate[v]\n",
    "        if d1 != float(\"Inf\") and data['date'] + data['duration'] <= d2:\n",
    "            arrivalDate[v] = (data['date'] +data['duration'], u)\n",
    "    \n",
    "    \n",
    "    d,p = arrivalDate[arrival]\n",
    "    if d == float(\"Inf\") or d > maxDate:\n",
    "        return None\n",
    "    \n",
    "    # Get path\n",
    "    v = arrival\n",
    "    path = [v]\n",
    "    while v != departure:\n",
    "        d, p = arrivalDate[v] \n",
    "        path = [p] + path\n",
    "        v = p\n",
    "        \n",
    "    return (path, departureDate, arrivalDate[arrival][0])"
   ]
  },
  {
   "cell_type": "code",
   "execution_count": 184,
   "metadata": {},
   "outputs": [
    {
     "name": "stdout",
     "output_type": "stream",
     "text": [
      "(['a', 'b', 'f'], 1, 6)\n",
      "None\n",
      "(['a', 'b', 'f'], 2, 6)\n",
      "(['a', 'c', 'f'], 4, 7)\n",
      "None\n",
      "(['a', 'c', 'g'], 1, 8)\n"
     ]
    }
   ],
   "source": [
    "# Test\n",
    "print(earliestArrivalPathMG(MG, 'a', 'f', 0, 10))\n",
    "print(earliestArrivalPathMG(MG, 'a', 'f', 10, 10))\n",
    "print(earliestArrivalPathMG(MG, 'a', 'f', 2, 10))\n",
    "print(earliestArrivalPathMG(MG, 'a', 'f', 4, 10))\n",
    "print(earliestArrivalPathMG(MG, 'b', 'g', 0, 10))\n",
    "print(earliestArrivalPathMG(MG, 'a', 'g', 0, 12))"
   ]
  },
  {
   "cell_type": "markdown",
   "metadata": {},
   "source": [
    "### II. Chemin de départ au plus tard\n",
    "- De même pour le chemin de départ au plus tard, cette fois, on retiendra seulement la date de départ."
   ]
  },
  {
   "cell_type": "code",
   "execution_count": 185,
   "metadata": {},
   "outputs": [],
   "source": [
    "def latestDeparturePathMG(MG, departure, arrival, minDate, maxDate):\n",
    "    \n",
    "    if arrival not in vertices or departure not in MG.nodes():\n",
    "        return None\n",
    "    \n",
    "    if departure == arrival:\n",
    "        return ([departure],0,0)\n",
    "    \n",
    "    dates = dict()\n",
    "    \n",
    "    for i in MG.nodes():\n",
    "        dates[i] = (-float('Inf'), float('inf'), -1) # (departureDate, arrivalDate, predecessor)\n",
    "    dates[departure] = (-1, 0, -1)\n",
    "    \n",
    "    # update dates\n",
    "    for u, v, data in MG.edges(data=True):\n",
    "        if u == departure:\n",
    "            dep, arr, pred = dates[departure]\n",
    "            if data['date'] > dep:\n",
    "                dates[departure] = data['date'], arr, pred\n",
    "\n",
    "        depU, arrU, predU = dates[u]\n",
    "        depV, arrV, predV = dates[v]\n",
    "        if arrU != float(\"Inf\") and depU > depV:\n",
    "            if v == arrival:\n",
    "                if data['date'] + data['duration'] > maxDate:\n",
    "                    continue\n",
    "            dates[v] = (depU, data['date'] + data['duration'], u)\n",
    "    \n",
    "    dep, arr, pred = dates[departure]\n",
    "    if dep < minDate:\n",
    "        return None\n",
    "    \n",
    "    dep, arr, pred = dates[arrival]\n",
    "    if arr == float(\"Inf\") or arr > maxDate:\n",
    "        return None\n",
    "    \n",
    "    \n",
    "    # Get path\n",
    "    departureDate = dates[departure][0]\n",
    "    v = arrival\n",
    "    path = [v]\n",
    "    while v != departure:\n",
    "        dep, arr, pred = dates[v] \n",
    "        path = [pred] + path\n",
    "        if pred == departure:\n",
    "            departureDate = dates[v][0]\n",
    "        v = pred\n",
    "\n",
    "    return (path, departureDate, dates[arrival][1])"
   ]
  },
  {
   "cell_type": "code",
   "execution_count": 186,
   "metadata": {},
   "outputs": [
    {
     "name": "stdout",
     "output_type": "stream",
     "text": [
      "(['a', 'c', 'f'], 4, 7)\n",
      "None\n",
      "(['a', 'b', 'f'], 2, 6)\n",
      "None\n",
      "None\n",
      "(['a', 'c', 'g'], 4, 8)\n"
     ]
    }
   ],
   "source": [
    "# Test\n",
    "print(latestDeparturePathMG(MG, 'a', 'f', 0, 10))\n",
    "print(latestDeparturePathMG(MG, 'a', 'f', 10, 10))\n",
    "print(latestDeparturePathMG(MG, 'a', 'f', 0, 6))\n",
    "print(latestDeparturePathMG(MG, 'a', 'f', 5, 10))\n",
    "print(latestDeparturePathMG(MG, 'b', 'g', 0, 10))\n",
    "print(latestDeparturePathMG(MG, 'a', 'g', 0, 12))"
   ]
  },
  {
   "cell_type": "code",
   "execution_count": null,
   "metadata": {},
   "outputs": [],
   "source": []
  }
 ],
 "metadata": {
  "kernelspec": {
   "display_name": "Python 3 (ipykernel)",
   "language": "python",
   "name": "python3"
  },
  "language_info": {
   "codemirror_mode": {
    "name": "ipython",
    "version": 3
   },
   "file_extension": ".py",
   "mimetype": "text/x-python",
   "name": "python",
   "nbconvert_exporter": "python",
   "pygments_lexer": "ipython3",
   "version": "3.8.10"
  }
 },
 "nbformat": 4,
 "nbformat_minor": 4
}
